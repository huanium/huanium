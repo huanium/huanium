{
 "cells": [
  {
   "cell_type": "markdown",
   "metadata": {},
   "source": [
    "# 1. Introduction to Qiskit "
   ]
  },
  {
   "cell_type": "code",
   "execution_count": 1,
   "metadata": {},
   "outputs": [],
   "source": [
    "# setting it up\n",
    "\n",
    "from qiskit import ClassicalRegister, QuantumRegister, QuantumCircuit, execute, Aer\n",
    "import My_Qiskit_Functions as MQ\n",
    "import numpy as np\n",
    "import math as m\n",
    "S_simulator = Aer.backends(name='statevector_simulator')[0]\n",
    "M_simulator = Aer.backends(name='qasm_simulator')[0]"
   ]
  },
  {
   "cell_type": "code",
   "execution_count": 2,
   "metadata": {},
   "outputs": [
    {
     "data": {
      "text/plain": [
       "array([1.+0.j, 0.+0.j])"
      ]
     },
     "execution_count": 2,
     "metadata": {},
     "output_type": "execute_result"
    }
   ],
   "source": [
    "# generating a simple state\n",
    "\n",
    "q = QuantumRegister(1)\n",
    "hello_qubit = QuantumCircuit(q)\n",
    "\n",
    "#hello_qubit.iden(q[0])\n",
    "\n",
    "job = execute(hello_qubit, S_simulator)\n",
    "result = job.result()\n",
    "result.get_statevector()"
   ]
  },
  {
   "cell_type": "code",
   "execution_count": 3,
   "metadata": {},
   "outputs": [
    {
     "name": "stdout",
     "output_type": "stream",
     "text": [
      "simulator:  statevector_simulator \n",
      "\n",
      "simulator type:  <class 'qiskit.providers.aer.backends.statevector_simulator.StatevectorSimulator'> \n",
      "\n",
      "Aer.backend(name=statevector_simulator):  [<StatevectorSimulator('statevector_simulator') from AerProvider()>]\n"
     ]
    }
   ],
   "source": [
    "# looking at object types\n",
    "\n",
    "print('simulator: ', S_simulator, '\\n')\n",
    "print('simulator type: ', type(S_simulator),'\\n')\n",
    "print('Aer.backend(name=statevector_simulator): ',Aer.backends(name='statevector_simulator'))"
   ]
  },
  {
   "cell_type": "code",
   "execution_count": 4,
   "metadata": {},
   "outputs": [
    {
     "data": {
      "text/plain": [
       "array([0.+0.j, 1.+0.j, 0.+0.j, 0.+0.j, 0.+0.j, 0.+0.j, 0.+0.j, 0.+0.j])"
      ]
     },
     "execution_count": 4,
     "metadata": {},
     "output_type": "execute_result"
    }
   ],
   "source": [
    "# again, generating easy states\n",
    "\n",
    "q = QuantumRegister(3)\n",
    "three_qubits = QuantumCircuit(q)\n",
    "\n",
    "three_qubits.x(q[0])\n",
    "\n",
    "job = execute(three_qubits, S_simulator)\n",
    "result = job.result()\n",
    "result.get_statevector()"
   ]
  },
  {
   "cell_type": "code",
   "execution_count": 7,
   "metadata": {},
   "outputs": [
    {
     "name": "stdout",
     "output_type": "stream",
     "text": [
      "0.5 |00>   0.5 |01>   0.5 |10>   0.5 |11>   \n"
     ]
    }
   ],
   "source": [
    "# use the customized Wavefunction() to print things in kets\n",
    "\n",
    "q = QuantumRegister(2)\n",
    "H_circuit = QuantumCircuit(q)\n",
    "\n",
    "H_circuit.h(q[0])\n",
    "H_circuit.h(q[1])\n",
    "\n",
    "MQ.Wavefunction(H_circuit)"
   ]
  },
  {
   "cell_type": "code",
   "execution_count": 13,
   "metadata": {},
   "outputs": [
    {
     "data": {
      "text/plain": [
       "{'0': 505, '1': 519}"
      ]
     },
     "execution_count": 13,
     "metadata": {},
     "output_type": "execute_result"
    }
   ],
   "source": [
    "# making measurements and looking at counts\n",
    "\n",
    "q = QuantumRegister(1)\n",
    "c = ClassicalRegister(1)\n",
    "qc = QuantumCircuit(q,c)\n",
    "\n",
    "qc.h(q[0])\n",
    "qc.measure(q,c)\n",
    "\n",
    "job = execute(qc, M_simulator)\n",
    "result = job.result()\n",
    "result.get_counts(qc)"
   ]
  },
  {
   "cell_type": "code",
   "execution_count": 16,
   "metadata": {},
   "outputs": [
    {
     "name": "stdout",
     "output_type": "stream",
     "text": [
      "{'00': 258, '11': 257, '01': 235, '10': 274}\n"
     ]
    }
   ],
   "source": [
    "# more measurements, on the entire system\n",
    "\n",
    "q = QuantumRegister(2)\n",
    "c = ClassicalRegister(2)\n",
    "qc = QuantumCircuit(q,c)\n",
    "\n",
    "qc.h(q[0])\n",
    "qc.h(q[1])\n",
    "# full measurement\n",
    "qc.measure(q,c)\n",
    "\n",
    "M = execute(qc, M_simulator).result().get_counts(qc)\n",
    "#print('Dictionary entroy \"0\": ', M['0'])\n",
    "#print('Dictionary entroy \"0\": ', M['1'])\n",
    "\n",
    "print(M)"
   ]
  },
  {
   "cell_type": "code",
   "execution_count": 17,
   "metadata": {},
   "outputs": [
    {
     "name": "stdout",
     "output_type": "stream",
     "text": [
      "{'00': 489, '01': 535}\n"
     ]
    }
   ],
   "source": [
    "# partial measurements only\n",
    "\n",
    "q = QuantumRegister(2)\n",
    "c = ClassicalRegister(2)\n",
    "qc = QuantumCircuit(q,c)\n",
    "\n",
    "qc.h(q[0])\n",
    "qc.h(q[1])\n",
    "# partial  measurement\n",
    "qc.measure(q[0],c[0])\n",
    "\n",
    "M = execute(qc, M_simulator).result().get_counts(qc)\n",
    "#print('Dictionary entroy \"0\": ', M['0'])\n",
    "#print('Dictionary entroy \"0\": ', M['1'])\n",
    "\n",
    "\n",
    "# note that qubit 0 sits at the bottom\n",
    "print(M)"
   ]
  },
  {
   "cell_type": "code",
   "execution_count": 18,
   "metadata": {},
   "outputs": [
    {
     "name": "stdout",
     "output_type": "stream",
     "text": [
      "{'10': 1024}\n"
     ]
    }
   ],
   "source": [
    "# more measurements\n",
    "\n",
    "q = QuantumRegister(2)\n",
    "c = ClassicalRegister(2)\n",
    "qc = QuantumCircuit(q,c)\n",
    "\n",
    "#qc.h(q[0])\n",
    "qc.x(q[1])\n",
    "qc.measure(q,c)\n",
    "\n",
    "M = execute(qc, M_simulator).result().get_counts(qc)\n",
    "#print('Dictionary entroy \"0\": ', M['0'])\n",
    "#print('Dictionary entroy \"0\": ', M['1'])\n",
    "\n",
    "\n",
    "# note here that qubit 0 sits on the right\n",
    "print(M)"
   ]
  },
  {
   "cell_type": "code",
   "execution_count": 21,
   "metadata": {},
   "outputs": [
    {
     "name": "stdout",
     "output_type": "stream",
     "text": [
      "0.70711 |00>   0.70711 |10>   \n"
     ]
    }
   ],
   "source": [
    "q = QuantumRegister(2)\n",
    "qc = QuantumCircuit(q)\n",
    "\n",
    "qc.h(q[1])\n",
    "\n",
    "MQ.Wavefunction(qc)"
   ]
  },
  {
   "cell_type": "code",
   "execution_count": 22,
   "metadata": {},
   "outputs": [
    {
     "name": "stdout",
     "output_type": "stream",
     "text": [
      "OPENQASM 2.0;\n",
      "include \"qelib1.inc\";\n",
      "qreg q19[3];\n",
      "creg c11[3];\n",
      "h q19[0];\n",
      "measure q19[0] -> c11[0];\n",
      "\n"
     ]
    }
   ],
   "source": [
    "# summarizing quantum circuit for IBM Q Exp\n",
    "\n",
    "q = QuantumRegister(3)\n",
    "c = ClassicalRegister(3)\n",
    "super0 = QuantumCircuit(q,c)\n",
    "\n",
    "super0.h(q[0])\n",
    "super0.measure(q[0],c[0])\n",
    "\n",
    "# prints out quantum ciruit, which can be copy-pasted onto IBM Q Exp\n",
    "print(super0.qasm())"
   ]
  },
  {
   "cell_type": "code",
   "execution_count": 23,
   "metadata": {},
   "outputs": [
    {
     "name": "stdout",
     "output_type": "stream",
     "text": [
      "___QuantumCircuit.qasm()___\n",
      "OPENQASM 2.0;\n",
      "include \"qelib1.inc\";\n",
      "qreg q[2];\n",
      "creg c[3];\n",
      "h q[0];\n",
      "h q[1];\n",
      "measure q[0] -> c[0];\n",
      "\n",
      "___QuantumCircuit.data___\n",
      "[(<qiskit.circuit.library.standard_gates.h.HGate object at 0x000001B9269633C8>, [Qubit(QuantumRegister(2, 'q'), 0)], []), (<qiskit.circuit.library.standard_gates.h.HGate object at 0x000001B926963508>, [Qubit(QuantumRegister(2, 'q'), 1)], []), (<qiskit.circuit.measure.Measure object at 0x000001B926963488>, [Qubit(QuantumRegister(2, 'q'), 0)], [Clbit(ClassicalRegister(3, 'c'), 0)])]\n",
      "\n",
      "___QuantumCircuit.qregs___\n",
      "[QuantumRegister(2, 'q')]\n",
      "\n",
      "___QuantumCircuit.cregs___\n",
      "[ClassicalRegister(3, 'c')]\n"
     ]
    }
   ],
   "source": [
    "# extracting information from Quantum Circuit\n",
    "\n",
    "q = QuantumRegister(2,name='q')\n",
    "c = ClassicalRegister(3,name='c')\n",
    "two_q = QuantumCircuit(q,c,name='qc')\n",
    "\n",
    "two_q.h(q[0])\n",
    "two_q.h(q[1])\n",
    "\n",
    "# measure only qubit 0\n",
    "two_q.measure(q[0],c[0])\n",
    "\n",
    "print('___QuantumCircuit.qasm()___')\n",
    "print(two_q.qasm())\n",
    "print('___QuantumCircuit.data___')\n",
    "print(two_q.data)\n",
    "print('\\n___QuantumCircuit.qregs___')\n",
    "print(two_q.qregs)\n",
    "print('\\n___QuantumCircuit.cregs___')\n",
    "print(two_q.cregs)"
   ]
  },
  {
   "cell_type": "code",
   "execution_count": 36,
   "metadata": {},
   "outputs": [
    {
     "name": "stdout",
     "output_type": "stream",
     "text": [
      "     ┌───┐┌─┐   \n",
      "q_0: ┤ H ├┤M├───\n",
      "     ├───┤└╥┘┌─┐\n",
      "q_1: ┤ H ├─╫─┤M├\n",
      "     └───┘ ║ └╥┘\n",
      "c_0: ══════╩══╬═\n",
      "              ║ \n",
      "c_1: ═════════╩═\n",
      "                \n"
     ]
    },
    {
     "data": {
      "image/png": "[encoded data removed]",
      "text/plain": [
       "<Figure size 358.792x204.68 with 1 Axes>"
      ]
     },
     "execution_count": 36,
     "metadata": {},
     "output_type": "execute_result"
    }
   ],
   "source": [
    "# visualizing circuits\n",
    "\n",
    "q = QuantumRegister(2,name='q')\n",
    "c = ClassicalRegister(2,name='c')\n",
    "qc = QuantumCircuit(q,c,name='qc')\n",
    "\n",
    "qc.h(q[0])\n",
    "qc.h(q[1])\n",
    "qc.measure(q,c)\n",
    "\n",
    "# two ways to draw quantum circuit in ASCII\n",
    "\n",
    "qc.draw()\n",
    "print(qc)\n",
    "\n",
    "# can also draw in mathplotlib or latex...\n",
    "\n",
    "qc.draw(output='mpl') # matplotlib\n",
    "\n",
    "# or  in latex\n",
    "#qc.draw(output='latex') # in latex"
   ]
  },
  {
   "cell_type": "code",
   "execution_count": 2,
   "metadata": {},
   "outputs": [],
   "source": [
    "# now, learning how to use gates\n",
    "\n",
    "from qiskit import QuantumRegister, ClassicalRegister, QuantumCircuit, execute, Aer\n",
    "from qiskit.tools.visualization import circuit_drawer\n",
    "from qiskit.visualization import plot_histogram\n",
    "import My_Qiskit_Functions as MQ\n",
    "import math as m\n",
    "import numpy as np\n",
    "S_simulator = Aer.backends(name='statevector_simulator')[0]\n",
    "M_simulator = Aer.backends(name='qasm_simulator')[0]"
   ]
  },
  {
   "cell_type": "code",
   "execution_count": 2,
   "metadata": {},
   "outputs": [
    {
     "name": "stdout",
     "output_type": "stream",
     "text": [
      "1.0 |0>   \n"
     ]
    },
    {
     "data": {
      "image/png": "[encoded data removed]",
      "text/plain": [
       "<Figure size 173.376x84.28 with 1 Axes>"
      ]
     },
     "execution_count": 2,
     "metadata": {},
     "output_type": "execute_result"
    }
   ],
   "source": [
    "# Identity operator\n",
    "\n",
    "q = QuantumRegister(1,name='q')\n",
    "I_qc = QuantumCircuit(q,name='qc')\n",
    "\n",
    "I_qc.id(q[0])\n",
    "MQ.Wavefunction(I_qc)\n",
    "\n",
    "circuit_drawer(I_qc)\n",
    "\n",
    "I_qc.draw('mpl')"
   ]
  },
  {
   "cell_type": "code",
   "execution_count": 44,
   "metadata": {},
   "outputs": [
    {
     "name": "stdout",
     "output_type": "stream",
     "text": [
      "0.70711 |0>   0.70711 |1>   \n"
     ]
    },
    {
     "data": {
      "image/png": "[encoded data removed]",
      "text/plain": [
       "<Figure size 173.376x84.28 with 1 Axes>"
      ]
     },
     "execution_count": 44,
     "metadata": {},
     "output_type": "execute_result"
    }
   ],
   "source": [
    "# Hadamard operator\n",
    "\n",
    "q = QuantumRegister(1,name='q')\n",
    "I_qc = QuantumCircuit(q,name='qc')\n",
    "\n",
    "I_qc.h(q[0])\n",
    "MQ.Wavefunction(I_qc)\n",
    "\n",
    "circuit_drawer(I_qc)\n",
    "\n",
    "I_qc.draw('mpl')"
   ]
  },
  {
   "cell_type": "code",
   "execution_count": 45,
   "metadata": {},
   "outputs": [
    {
     "name": "stdout",
     "output_type": "stream",
     "text": [
      "1.0 |1>   \n"
     ]
    },
    {
     "data": {
      "image/png": "[encoded data removed]",
      "text/plain": [
       "<Figure size 173.376x84.28 with 1 Axes>"
      ]
     },
     "execution_count": 45,
     "metadata": {},
     "output_type": "execute_result"
    }
   ],
   "source": [
    "# Pauli-X operator\n",
    "\n",
    "q = QuantumRegister(1,name='q')\n",
    "I_qc = QuantumCircuit(q,name='qc')\n",
    "\n",
    "I_qc.x(q[0])\n",
    "MQ.Wavefunction(I_qc)\n",
    "\n",
    "circuit_drawer(I_qc)\n",
    "\n",
    "I_qc.draw('mpl')"
   ]
  },
  {
   "cell_type": "code",
   "execution_count": 46,
   "metadata": {},
   "outputs": [
    {
     "name": "stdout",
     "output_type": "stream",
     "text": [
      "1.0j |1>   \n"
     ]
    },
    {
     "data": {
      "image/png": "[encoded data removed]",
      "text/plain": [
       "<Figure size 173.376x84.28 with 1 Axes>"
      ]
     },
     "execution_count": 46,
     "metadata": {},
     "output_type": "execute_result"
    }
   ],
   "source": [
    "# Pauli-Y operator\n",
    "\n",
    "q = QuantumRegister(1,name='q')\n",
    "I_qc = QuantumCircuit(q,name='qc')\n",
    "\n",
    "I_qc.y(q[0])\n",
    "MQ.Wavefunction(I_qc)\n",
    "\n",
    "circuit_drawer(I_qc)\n",
    "\n",
    "I_qc.draw('mpl')"
   ]
  },
  {
   "cell_type": "code",
   "execution_count": 47,
   "metadata": {},
   "outputs": [
    {
     "name": "stdout",
     "output_type": "stream",
     "text": [
      "1.0 |0>   \n"
     ]
    },
    {
     "data": {
      "image/png": "[encoded data removed]",
      "text/plain": [
       "<Figure size 173.376x84.28 with 1 Axes>"
      ]
     },
     "execution_count": 47,
     "metadata": {},
     "output_type": "execute_result"
    }
   ],
   "source": [
    "# Pauli-Z operator\n",
    "\n",
    "q = QuantumRegister(1,name='q')\n",
    "I_qc = QuantumCircuit(q,name='qc')\n",
    "\n",
    "I_qc.z(q[0])\n",
    "MQ.Wavefunction(I_qc)\n",
    "\n",
    "circuit_drawer(I_qc)\n",
    "\n",
    "I_qc.draw('mpl')"
   ]
  },
  {
   "cell_type": "code",
   "execution_count": 53,
   "metadata": {},
   "outputs": [
    {
     "name": "stdout",
     "output_type": "stream",
     "text": [
      "0.70711 |0>   0.5+0.5j |1>   \n"
     ]
    },
    {
     "data": {
      "image/png": "[encoded data removed]",
      "text/plain": [
       "<Figure size 233.576x84.28 with 1 Axes>"
      ]
     },
     "execution_count": 53,
     "metadata": {},
     "output_type": "execute_result"
    }
   ],
   "source": [
    "# Phase gate \n",
    "\n",
    "q = QuantumRegister(1,name='q')\n",
    "I_qc = QuantumCircuit(q,name='qc')\n",
    "\n",
    "I_qc.h(q[0])\n",
    "I_qc.u1( m.pi/4  ,q[0]) # phase gate, with specific value\n",
    "MQ.Wavefunction(I_qc)\n",
    "\n",
    "circuit_drawer(I_qc)\n",
    "\n",
    "I_qc.draw('mpl')"
   ]
  },
  {
   "cell_type": "code",
   "execution_count": 54,
   "metadata": {},
   "outputs": [],
   "source": [
    "# QUESTION: how do we implement these gates symbolically?"
   ]
  },
  {
   "cell_type": "code",
   "execution_count": 56,
   "metadata": {},
   "outputs": [
    {
     "name": "stdout",
     "output_type": "stream",
     "text": [
      "0.61237-0.35355j |0>   0.61237-0.35355j |1>   \n"
     ]
    },
    {
     "data": {
      "image/png": "[encoded data removed]",
      "text/plain": [
       "<Figure size 233.576x84.28 with 1 Axes>"
      ]
     },
     "execution_count": 56,
     "metadata": {},
     "output_type": "execute_result"
    }
   ],
   "source": [
    "# X-Rotation \n",
    "\n",
    "q = QuantumRegister(1,name='q')\n",
    "I_qc = QuantumCircuit(q,name='qc')\n",
    "\n",
    "I_qc.h(q[0])\n",
    "I_qc.rx( m.pi/3, q[0])\n",
    "MQ.Wavefunction(I_qc)\n",
    "\n",
    "circuit_drawer(I_qc)\n",
    "\n",
    "I_qc.draw('mpl')"
   ]
  },
  {
   "cell_type": "code",
   "execution_count": 58,
   "metadata": {},
   "outputs": [
    {
     "name": "stdout",
     "output_type": "stream",
     "text": [
      "0.25882 |0>   0.96593 |1>   \n"
     ]
    },
    {
     "data": {
      "image/png": "[encoded data removed]",
      "text/plain": [
       "<Figure size 233.576x84.28 with 1 Axes>"
      ]
     },
     "execution_count": 58,
     "metadata": {},
     "output_type": "execute_result"
    }
   ],
   "source": [
    "# Y-Rotation \n",
    "\n",
    "q = QuantumRegister(1,name='q')\n",
    "I_qc = QuantumCircuit(q,name='qc')\n",
    "\n",
    "I_qc.h(q[0])\n",
    "I_qc.ry( m.pi/3, q[0])\n",
    "MQ.Wavefunction(I_qc)\n",
    "\n",
    "circuit_drawer(I_qc)\n",
    "\n",
    "I_qc.draw('mpl')"
   ]
  },
  {
   "cell_type": "code",
   "execution_count": 59,
   "metadata": {},
   "outputs": [
    {
     "name": "stdout",
     "output_type": "stream",
     "text": [
      "0.70711 |0>   0.35355+0.61237j |1>   \n"
     ]
    },
    {
     "data": {
      "image/png": "[encoded data removed]",
      "text/plain": [
       "<Figure size 233.576x84.28 with 1 Axes>"
      ]
     },
     "execution_count": 59,
     "metadata": {},
     "output_type": "execute_result"
    }
   ],
   "source": [
    "# Z-Rotation \n",
    "\n",
    "q = QuantumRegister(1,name='q')\n",
    "I_qc = QuantumCircuit(q,name='qc')\n",
    "\n",
    "I_qc.h(q[0])\n",
    "I_qc.rz( m.pi/3, q[0])\n",
    "MQ.Wavefunction(I_qc)\n",
    "\n",
    "circuit_drawer(I_qc)\n",
    "\n",
    "I_qc.draw('mpl')"
   ]
  },
  {
   "cell_type": "code",
   "execution_count": 61,
   "metadata": {},
   "outputs": [
    {
     "name": "stdout",
     "output_type": "stream",
     "text": [
      "0.70711 |00>   -0.70711 |11>   \n"
     ]
    },
    {
     "data": {
      "image/png": "[encoded data removed]",
      "text/plain": [
       "<Figure size 358.792x144.48 with 1 Axes>"
      ]
     },
     "execution_count": 61,
     "metadata": {},
     "output_type": "execute_result"
    }
   ],
   "source": [
    "# CNOT\n",
    "\n",
    "q = QuantumRegister(2,name='q')\n",
    "I_qc = QuantumCircuit(q,name='qc')\n",
    "\n",
    "I_qc.h(q[0])\n",
    "I_qc.z(q[0])\n",
    "I_qc.cx(q[0], q[1])   # control, target\n",
    "\n",
    "\n",
    "MQ.Wavefunction(I_qc)\n",
    "circuit_drawer(I_qc)\n",
    "I_qc.draw('mpl')"
   ]
  },
  {
   "cell_type": "code",
   "execution_count": 62,
   "metadata": {},
   "outputs": [
    {
     "name": "stdout",
     "output_type": "stream",
     "text": [
      "0.70711 |00>   -0.70711 |01>   \n"
     ]
    },
    {
     "data": {
      "image/png": "[encoded data removed]",
      "text/plain": [
       "<Figure size 358.792x144.48 with 1 Axes>"
      ]
     },
     "execution_count": 62,
     "metadata": {},
     "output_type": "execute_result"
    }
   ],
   "source": [
    "# CZ\n",
    "\n",
    "q = QuantumRegister(2,name='q')\n",
    "I_qc = QuantumCircuit(q,name='qc')\n",
    "\n",
    "I_qc.h(q[0])\n",
    "I_qc.z(q[0])\n",
    "I_qc.cz(q[0], q[1])   # control, target\n",
    "\n",
    "\n",
    "MQ.Wavefunction(I_qc)\n",
    "circuit_drawer(I_qc)\n",
    "I_qc.draw('mpl')"
   ]
  },
  {
   "cell_type": "code",
   "execution_count": 63,
   "metadata": {},
   "outputs": [
    {
     "name": "stdout",
     "output_type": "stream",
     "text": [
      "0.70711 |00>   -0.70711 |01>   \n"
     ]
    },
    {
     "data": {
      "image/png": "[encoded data removed]",
      "text/plain": [
       "<Figure size 418.992x144.48 with 1 Axes>"
      ]
     },
     "execution_count": 63,
     "metadata": {},
     "output_type": "execute_result"
    }
   ],
   "source": [
    "# CPhase\n",
    "\n",
    "q = QuantumRegister(2,name='q')\n",
    "I_qc = QuantumCircuit(q,name='qc')\n",
    "\n",
    "I_qc.h(q[0])\n",
    "I_qc.z(q[0])\n",
    "I_qc.cu1(m.pi/4, q[0], q[1])   # control, target\n",
    "\n",
    "\n",
    "MQ.Wavefunction(I_qc)\n",
    "circuit_drawer(I_qc)\n",
    "I_qc.draw('mpl')"
   ]
  },
  {
   "cell_type": "code",
   "execution_count": 64,
   "metadata": {},
   "outputs": [
    {
     "name": "stdout",
     "output_type": "stream",
     "text": [
      "0.70711 |00>   -0.70711 |10>   \n"
     ]
    },
    {
     "data": {
      "image/png": "[encoded data removed]",
      "text/plain": [
       "<Figure size 358.792x144.48 with 1 Axes>"
      ]
     },
     "execution_count": 64,
     "metadata": {},
     "output_type": "execute_result"
    }
   ],
   "source": [
    "# SWAP\n",
    "\n",
    "q = QuantumRegister(2,name='q')\n",
    "I_qc = QuantumCircuit(q,name='qc')\n",
    "\n",
    "I_qc.h(q[0])\n",
    "I_qc.z(q[0])\n",
    "I_qc.swap(q[0], q[1])   # control, target\n",
    "\n",
    "\n",
    "MQ.Wavefunction(I_qc)\n",
    "circuit_drawer(I_qc)\n",
    "I_qc.draw('mpl')"
   ]
  },
  {
   "cell_type": "code",
   "execution_count": 65,
   "metadata": {},
   "outputs": [
    {
     "name": "stdout",
     "output_type": "stream",
     "text": [
      "[ 0.70710678+0.j  0.        +0.j -0.70710678+0.j  0.        +0.j]\n",
      "0.70711 |00>   -0.70711 |10>   \n"
     ]
    }
   ],
   "source": [
    "# comparison between get_statevector and wavefunction\n",
    "\n",
    "q = QuantumRegister(2,name='q')\n",
    "qc = QuantumCircuit(q,name='qc')\n",
    "\n",
    "qc.h(q[1])\n",
    "qc.z(q[1])\n",
    "\n",
    "# print statevector\n",
    "print(execute(qc,S_simulator).result().get_statevector())\n",
    "\n",
    "# print wavefunction\n",
    "MQ.Wavefunction(qc)\n",
    "\n",
    "# note that the convention is correct\n",
    "# the convention of the original code in the pape is NOT!"
   ]
  },
  {
   "cell_type": "code",
   "execution_count": 68,
   "metadata": {},
   "outputs": [
    {
     "name": "stdout",
     "output_type": "stream",
     "text": [
      "0.7071067812 |00>   -0.7071067812 |10>   \n"
     ]
    }
   ],
   "source": [
    "# can also increase in precision with wavefunction:\n",
    "\n",
    "q = QuantumRegister(2,name='q')\n",
    "qc = QuantumCircuit(q,name='qc')\n",
    "\n",
    "qc.h(q[1])\n",
    "qc.z(q[1])\n",
    "\n",
    "MQ.Wavefunction(qc, precision=10)  # nice!"
   ]
  },
  {
   "cell_type": "code",
   "execution_count": 70,
   "metadata": {},
   "outputs": [
    {
     "name": "stdout",
     "output_type": "stream",
     "text": [
      "0.13901+0.08025j |0000>   0.13901+0.08025j |0001>   -0.13901-0.08025j |0010>   -0.13901-0.08025j |0011>   0.27281+0.15751j |0100>   0.27281+0.15751j |0101>   -0.27281-0.15751j |0110>   -0.27281-0.15751j |0111>   0.13901+0.08025j |1000>   0.13901+0.08025j |1001>   -0.13901-0.08025j |1010>   -0.13901-0.08025j |1011>   0.27281+0.15751j |1100>   0.27281+0.15751j |1101>   -0.27281-0.15751j |1110>   -0.27281-0.15751j |1111>   \n",
      "\n",
      "___Column___\n",
      "0.13901+0.08025j |0000>   \n",
      "0.13901+0.08025j |0001>   \n",
      "-0.13901-0.08025j |0010>   \n",
      "-0.13901-0.08025j |0011>   \n",
      "0.27281+0.15751j |0100>   \n",
      "0.27281+0.15751j |0101>   \n",
      "-0.27281-0.15751j |0110>   \n",
      "-0.27281-0.15751j |0111>   \n",
      "0.13901+0.08025j |1000>   \n",
      "0.13901+0.08025j |1001>   \n",
      "-0.13901-0.08025j |1010>   \n",
      "-0.13901-0.08025j |1011>   \n",
      "0.27281+0.15751j |1100>   \n",
      "0.27281+0.15751j |1101>   \n",
      "-0.27281-0.15751j |1110>   \n",
      "-0.27281-0.15751j |1111>   \n",
      "\n"
     ]
    }
   ],
   "source": [
    "# there's a nicer way to print out the wavefunction -- in a column!\n",
    "\n",
    "q = QuantumRegister(4, name='q')\n",
    "qc = QuantumCircuit(q, name = 'qc')\n",
    "\n",
    "qc.h(q[0])\n",
    "qc.h(q[1])\n",
    "qc.z(q[1])\n",
    "qc.rx(m.pi/3,q[1])\n",
    "qc.h(q[2])\n",
    "qc.ry(m.pi/5, q[2])\n",
    "qc.h(q[3])\n",
    "\n",
    "MQ.Wavefunction(qc)\n",
    "\n",
    "print('\\n___Column___')\n",
    "MQ.Wavefunction(qc, column=True)"
   ]
  },
  {
   "cell_type": "code",
   "execution_count": 2,
   "metadata": {},
   "outputs": [
    {
     "name": "stdout",
     "output_type": "stream",
     "text": [
      "0.5 |000>   0.5 |001>   0.5 |100>   0.5 |101>   \n",
      "0.5 |00>|0>   0.5 |00>|1>   0.5 |10>|0>   0.5 |10>|1>   \n"
     ]
    }
   ],
   "source": [
    "# Suppose we have ancilla qubits, which make up a seconary system\n",
    "# Systems and Show_systems \n",
    "\n",
    "q = QuantumRegister(3,name='q')\n",
    "qc = QuantumCircuit(q,name='qc')\n",
    "\n",
    "qc.h(q[0])\n",
    "qc.h(q[2])\n",
    "\n",
    "MQ.Wavefunction(qc)\n",
    "\n",
    "\n",
    "MQ.Wavefunction(qc, systems=[2,1])"
   ]
  },
  {
   "cell_type": "code",
   "execution_count": 4,
   "metadata": {},
   "outputs": [
    {
     "name": "stdout",
     "output_type": "stream",
     "text": [
      "0.5 |00>|0>|000>   0.5 |00>|0>|001>   0.5 |00>|0>|100>   0.5 |00>|0>|101>   \n",
      "0.5 |00>|0>   0.5 |00>|0>   0.5 |00>|0>   0.5 |00>|0>   \n"
     ]
    }
   ],
   "source": [
    "# suppose we have groups of ancilla qubits which we don't want to show....\n",
    "# Use show_systems to choose whcih systems we want to view:\n",
    "\n",
    "q = QuantumRegister(6,name='q')\n",
    "qc = QuantumCircuit(q,name='qc')\n",
    "\n",
    "qc.h(q[0])\n",
    "qc.h(q[2])\n",
    "\n",
    "# show |..>|.>|...|\n",
    "MQ.Wavefunction(qc, systems = [2,1,3])\n",
    "\n",
    "# show only the last group:\n",
    "MQ.Wavefunction(qc, systems = [2,1,3], show_systems=[True,True,False])\n",
    "\n"
   ]
  },
  {
   "cell_type": "markdown",
   "metadata": {},
   "source": [
    "## 2. Generating GHZ states with Cluster States"
   ]
  },
  {
   "cell_type": "markdown",
   "metadata": {},
   "source": [
    "With this background, we can try playing around with cluster state quantum computations. First, let's consider a simple system of 4 qubits $\\otimes|+\\rangle$ entangled in a ring configuration."
   ]
  },
  {
   "cell_type": "code",
   "execution_count": 5,
   "metadata": {},
   "outputs": [
    {
     "name": "stdout",
     "output_type": "stream",
     "text": [
      "{'00': 485, '11': 539}\n",
      "0.70711 |0>|1>|1>|1>   \n",
      "0.70711 |1>|1>|0>|1>   \n",
      "\n"
     ]
    },
    {
     "data": {
      "image/png": "[encoded data removed]",
      "text/plain": [
       "<PIL.Image.Image image mode=RGB size=661x273 at 0x12BCA946D88>"
      ]
     },
     "execution_count": 5,
     "metadata": {},
     "output_type": "execute_result"
    }
   ],
   "source": [
    "# Now, try to set up a cluster state with 4 qubits in a ring configuration:\n",
    "\n",
    "q = QuantumRegister(4,name='q')\n",
    "c = ClassicalRegister(2,name='c')\n",
    "qc = QuantumCircuit(q,c,name='qc')\n",
    "\n",
    "\n",
    "# first, initialize everything to get |+> product state:\n",
    "for i in range(4):\n",
    "    qc.h(q[i])\n",
    "\n",
    "# entangle with Cz\n",
    "qc.cz(q[0],q[1])\n",
    "qc.cz(q[1],q[2])\n",
    "qc.cz(q[2],q[3])\n",
    "qc.cz(q[3],q[0])\n",
    "\n",
    "# Hadamard qubits 0 and 2, to measure in X basis:\n",
    "''' \n",
    "    Note here that since there is no way to measure in the X basis,\n",
    "    we have to first map |0> --> |+> and |1> --> |-> using the Hadamard\n",
    "    in order to simulate the measurement in the X basis.\n",
    "    \n",
    "    Note further that once measurement is complete, \n",
    "    we simply ignore the measured qubit.\n",
    "    \n",
    "    e.g. once we apply H to the 0-qubit and the outcome is |0000> + |0010>,\n",
    "    this actually corresponds to the state (|000> + |001>)|+>.\n",
    "    \n",
    "    ==> applying H is a matter of re-interpreting a subsystem...\n",
    "    ==> just be careful!!!\n",
    "'''\n",
    "qc.h(q[0])\n",
    "qc.measure(q[0],c[0])\n",
    "qc.h(q[2])\n",
    "qc.measure(q[2],c[1])\n",
    "\n",
    "print(execute(qc, M_simulator).result().get_counts(qc))\n",
    "\n",
    "\n",
    "MQ.Wavefunction(qc,column=True,systems=[1,1,1,1])\n",
    "\n",
    "qc.draw('latex')\n",
    "\n",
    "\n",
    "# there are two outcomes:\n",
    "# --> either 0 and 2 are in state 00 (correspond to ++ without HH)\n",
    "#     ---> in this case 1 and 3 are in 00 + 11\n",
    "# --> or 0 an 2 are in state 11 (correspond to -- without HH)\n",
    "#     ---> in this case 1 and 3 are in 01 + 10\n",
    "\n",
    "# CONVENTION: whenever a subsystem needs re-interpretation, should write in separate ket!"
   ]
  },
  {
   "cell_type": "markdown",
   "metadata": {},
   "source": [
    "Works great! Now, consider a slightly larger configuration: 6 qubits $|+\\rangle$ on a ring (connected with $Cz$ gates). The goal of this computation is to show that the outcome is a state that at most a Pauli factor from the GHZ state. "
   ]
  },
  {
   "cell_type": "code",
   "execution_count": 1,
   "metadata": {},
   "outputs": [
    {
     "ename": "NameError",
     "evalue": "name 'QuantumRegister' is not defined",
     "output_type": "error",
     "traceback": [
      "\u001b[1;31m---------------------------------------------------------------------------\u001b[0m",
      "\u001b[1;31mNameError\u001b[0m                                 Traceback (most recent call last)",
      "\u001b[1;32m<ipython-input-1-5d4e46a2a5f0>\u001b[0m in \u001b[0;36m<module>\u001b[1;34m\u001b[0m\n\u001b[0;32m      2\u001b[0m \u001b[1;31m# GOAL: create the GHZ state, just as in the 4-qubit example.\u001b[0m\u001b[1;33m\u001b[0m\u001b[1;33m\u001b[0m\u001b[1;33m\u001b[0m\u001b[0m\n\u001b[0;32m      3\u001b[0m \u001b[1;33m\u001b[0m\u001b[0m\n\u001b[1;32m----> 4\u001b[1;33m \u001b[0mq\u001b[0m \u001b[1;33m=\u001b[0m \u001b[0mQuantumRegister\u001b[0m\u001b[1;33m(\u001b[0m\u001b[1;36m6\u001b[0m\u001b[1;33m,\u001b[0m\u001b[0mname\u001b[0m\u001b[1;33m=\u001b[0m\u001b[1;34m'q'\u001b[0m\u001b[1;33m)\u001b[0m\u001b[1;33m\u001b[0m\u001b[1;33m\u001b[0m\u001b[0m\n\u001b[0m\u001b[0;32m      5\u001b[0m \u001b[0mc\u001b[0m \u001b[1;33m=\u001b[0m \u001b[0mClassicalRegister\u001b[0m\u001b[1;33m(\u001b[0m\u001b[1;36m3\u001b[0m\u001b[1;33m,\u001b[0m\u001b[0mname\u001b[0m\u001b[1;33m=\u001b[0m\u001b[1;34m'c'\u001b[0m\u001b[1;33m)\u001b[0m\u001b[1;33m\u001b[0m\u001b[1;33m\u001b[0m\u001b[0m\n\u001b[0;32m      6\u001b[0m \u001b[0mqc\u001b[0m \u001b[1;33m=\u001b[0m \u001b[0mQuantumCircuit\u001b[0m\u001b[1;33m(\u001b[0m\u001b[0mq\u001b[0m\u001b[1;33m,\u001b[0m\u001b[0mc\u001b[0m\u001b[1;33m,\u001b[0m\u001b[0mname\u001b[0m\u001b[1;33m=\u001b[0m\u001b[1;34m'qc'\u001b[0m\u001b[1;33m)\u001b[0m\u001b[1;33m\u001b[0m\u001b[1;33m\u001b[0m\u001b[0m\n",
      "\u001b[1;31mNameError\u001b[0m: name 'QuantumRegister' is not defined"
     ]
    }
   ],
   "source": [
    "# Now, try to set up a cluster state with 6 qubits.\n",
    "# GOAL: create the GHZ state, just as in the 4-qubit example.\n",
    "\n",
    "q = QuantumRegister(6,name='q')\n",
    "c = ClassicalRegister(3,name='c')\n",
    "qc = QuantumCircuit(q,c,name='qc')\n",
    "\n",
    "\n",
    "# first, initialize everything to get |+> product state:\n",
    "for i in range(6):\n",
    "    qc.h(q[i])\n",
    "\n",
    "# entangle with Cz\n",
    "qc.cz(q[0],q[1])\n",
    "qc.cz(q[1],q[2])\n",
    "qc.cz(q[2],q[3])\n",
    "qc.cz(q[3],q[4])\n",
    "qc.cz(q[4],q[5])\n",
    "qc.cz(q[5],q[0])\n",
    "\n",
    "# Hadamard qubits 0,2,4, to measure in X basis:\n",
    "qc.h(q[0])\n",
    "qc.h(q[2])\n",
    "qc.h(q[4])\n",
    "qc.measure(q[0],c[0])\n",
    "qc.measure(q[2],c[1])\n",
    "qc.measure(q[4],c[2])\n",
    "\n",
    "print(execute(qc, M_simulator).result().get_counts(qc))\n",
    "\n",
    "\n",
    "MQ.Wavefunction(qc,column=True,systems=[1,1,1,1,1,1])\n",
    "\n",
    "qc.draw('mpl')\n",
    "\n",
    "\n",
    "# there are two outcomes:\n",
    "# --> either 0 and 2 are in state 00 (correspond to ++ without HH)\n",
    "#     ---> in this case 1 and 3 are in 00 + 11\n",
    "# --> or 0 an 2 are in state 11 (correspond to -- without HH)\n",
    "#     ---> in this case 1 and 3 are in 01 + 10"
   ]
  },
  {
   "cell_type": "markdown",
   "metadata": {},
   "source": [
    "Indeed, the measurement outcomes turn out to be the set $\\{ |+++\\rangle, |+--\\rangle, |-+-\\rangle, |--+\\rangle \\}$, which we note have $\\prod X_i = 1$. The remaining states obey the $\\prod X_i$ symmetry, i.e., are invariant under $\\prod X_i$. Running the computation a few times, we can see that all the possible outcomes are \n",
    "$$\n",
    "|\\psi\\rangle_{531} = \\frac{1}{\\sqrt{2}}(|000 \\rangle + |111 \\rangle )\\\\ \n",
    "|\\psi\\rangle_{531} = \\frac{1}{\\sqrt{2}}(|011 \\rangle + |100 \\rangle ) \\\\ \n",
    "|\\psi\\rangle_{531} = \\frac{1}{\\sqrt{2}}(|001 \\rangle + |110 \\rangle )\\\\ \n",
    "|\\psi\\rangle_{531} = \\frac{1}{\\sqrt{2}}(|010 \\rangle + |101 \\rangle )\n",
    "$$\n",
    "\n",
    "Obviously, the output states are at worst only a single $X_i$ factor from the GHZ state, which is good! With this, let us consider a slightly larger system, with 8 qubits on a ring and convince ourselves that the GHZ state can be generated this way."
   ]
  },
  {
   "cell_type": "code",
   "execution_count": 74,
   "metadata": {},
   "outputs": [
    {
     "name": "stdout",
     "output_type": "stream",
     "text": [
      "{'1001': 112, '1100': 137, '0000': 115, '1010': 136, '0101': 137, '0011': 123, '1111': 124, '0110': 140}\n",
      "0.70711 |0>|0>|0>|1>|1>|0>|1>|1>   \n",
      "0.70711 |1>|0>|1>|1>|0>|0>|0>|1>   \n",
      "\n"
     ]
    },
    {
     "data": {
      "image/png": "[encoded data removed]",
      "text/plain": [
       "<Figure size 1020.99x565.88 with 1 Axes>"
      ]
     },
     "execution_count": 74,
     "metadata": {},
     "output_type": "execute_result"
    }
   ],
   "source": [
    "# Now, try to set up a cluster state with 8 qubits.\n",
    "# GOAL: create the GHZ state, just as in the 4-qubit example.\n",
    "\n",
    "q = QuantumRegister(8,name='q')\n",
    "c = ClassicalRegister(4,name='c')\n",
    "qc = QuantumCircuit(q,c,name='qc')\n",
    "\n",
    "\n",
    "# first, initialize everything to get |+> product state:\n",
    "for i in range(8):\n",
    "    qc.h(q[i])\n",
    "\n",
    "# entangle with Cz\n",
    "qc.cz(q[0],q[1])\n",
    "qc.cz(q[1],q[2])\n",
    "qc.cz(q[2],q[3])\n",
    "qc.cz(q[3],q[4])\n",
    "qc.cz(q[4],q[5])\n",
    "qc.cz(q[5],q[6])\n",
    "qc.cz(q[6],q[7])\n",
    "qc.cz(q[7],q[0])\n",
    "\n",
    "# Hadamard qubits 0,2,4, to measure in X basis:\n",
    "qc.h(q[0])\n",
    "qc.h(q[2])\n",
    "qc.h(q[4])\n",
    "qc.h(q[6])\n",
    "qc.measure(q[0],c[0])\n",
    "qc.measure(q[2],c[1])\n",
    "qc.measure(q[4],c[2])\n",
    "qc.measure(q[6],c[3])\n",
    "\n",
    "\n",
    "print(execute(qc, M_simulator).result().get_counts(qc))\n",
    "\n",
    "\n",
    "MQ.Wavefunction(qc,column=True,systems=[1,1,1,1,1,1,1,1])\n",
    "qc.draw('mpl')"
   ]
  },
  {
   "cell_type": "markdown",
   "metadata": {},
   "source": [
    "It is easy to see (after running a few computations) that the possible output states are:\n",
    "$$\n",
    "| \\psi \\rangle_{7531} = \\frac{1}{\\sqrt{2}}(| 0000 \\rangle + | 1111 \\rangle) \\\\\n",
    "| \\psi \\rangle_{7531} = \\frac{1}{\\sqrt{2}}(| 0001 \\rangle + | 1110 \\rangle) \\\\\n",
    "| \\psi \\rangle_{7531} = \\frac{1}{\\sqrt{2}}(| 0010 \\rangle + | 1101 \\rangle) \\\\\n",
    "| \\psi \\rangle_{7531} = \\frac{1}{\\sqrt{2}}(| 0011 \\rangle + | 1100 \\rangle) \\\\\n",
    "| \\psi \\rangle_{7531} = \\frac{1}{\\sqrt{2}}(| 0100 \\rangle + | 1011 \\rangle) \\\\\n",
    "| \\psi \\rangle_{7531} = \\frac{1}{\\sqrt{2}}(| 0101 \\rangle + | 1010 \\rangle) \\\\\n",
    "| \\psi \\rangle_{7531} = \\frac{1}{\\sqrt{2}}(| 0110 \\rangle + | 1001 \\rangle) \\\\\n",
    "| \\psi \\rangle_{7531} = \\frac{1}{\\sqrt{2}}(| 0111 \\rangle + | 1000 \\rangle)\n",
    "$$\n",
    "\n",
    "In any case, I think that is a good enough demonstration of the generation of the GHZ states."
   ]
  },
  {
   "cell_type": "markdown",
   "metadata": {},
   "source": [
    "# 3. Exploration: Grid-like cluster states"
   ]
  },
  {
   "cell_type": "markdown",
   "metadata": {},
   "source": [
    "We ask whether adding more entanglement to the initial state gives us more insight. Obviously, 4 qubits on a ring is the smallest possible grid we can make. Thus, let us start with 6 qubits on a ring, plus $Cz$-ing between $(ij)$ where $i+j=5$. In other words, not only do we have the ring-like configuration, we also apply the $Cz$ gate to the following pairs of qubits $(05),(14),(23)$. In this case, note that because $(05)$ and $(23)$ are already connected in the ring, we only apply an extra connection between $1$ and $4$."
   ]
  },
  {
   "cell_type": "code",
   "execution_count": 127,
   "metadata": {},
   "outputs": [
    {
     "name": "stdout",
     "output_type": "stream",
     "text": [
      "{'010': 1291, '000': 1226, '001': 1281, '101': 1223, '011': 1241, '111': 1207, '110': 1258, '100': 1273}\n",
      "1.0 |1>|1>|1>|0>|1>|0>   \n",
      "\n"
     ]
    },
    {
     "data": {
      "image/png": "[encoded data removed]",
      "text/plain": [
       "<Figure size 900.592x445.48 with 1 Axes>"
      ]
     },
     "execution_count": 127,
     "metadata": {},
     "output_type": "execute_result"
    }
   ],
   "source": [
    "# Now, try to set up a cluster state with 6 qubits.\n",
    "# GOAL: explore what happens when we add more entanglement to the ring configuration:\n",
    "\n",
    "from qiskit import QuantumRegister, ClassicalRegister, QuantumCircuit, execute, Aer,BasicAer\n",
    "from qiskit.tools.visualization import circuit_drawer\n",
    "from qiskit.visualization import plot_histogram\n",
    "import My_Qiskit_Functions as MQ\n",
    "import math as m\n",
    "import numpy as np\n",
    "S_simulator = Aer.backends(name='statevector_simulator')[0]\n",
    "M_simulator = Aer.backends(name='qasm_simulator')[0]\n",
    "\n",
    "q = QuantumRegister(6,name='q')\n",
    "c = ClassicalRegister(3,name='c')\n",
    "qc = QuantumCircuit(q,c,name='qc')\n",
    "\n",
    "\n",
    "# first, initialize everything to get |+> product state:\n",
    "for i in range(6):\n",
    "    qc.h(q[i])\n",
    "\n",
    "# entangle with Cz to make a ring\n",
    "qc.cz(q[0],q[1])\n",
    "qc.cz(q[1],q[2])\n",
    "qc.cz(q[2],q[3])\n",
    "qc.cz(q[3],q[4])\n",
    "qc.cz(q[4],q[5])\n",
    "qc.cz(q[5],q[0])\n",
    "# entangle with Cz across the ring\n",
    "qc.cz(q[1],q[4])\n",
    "\n",
    "# Hadamard qubits 0,2,4, to measure in X basis:\n",
    "qc.h(q[0])\n",
    "qc.h(q[2])\n",
    "qc.h(q[4])\n",
    "qc.measure(q[0],c[0])\n",
    "qc.measure(q[2],c[1])\n",
    "qc.measure(q[4],c[2])\n",
    "\n",
    "\n",
    "print(execute(qc, M_simulator, shots = 10000).result().get_counts(qc))\n",
    "MQ.Wavefunction(qc,column=True,systems=[1,1,1,1,1,1])\n",
    "qc.draw('mpl')"
   ]
  },
  {
   "cell_type": "markdown",
   "metadata": {},
   "source": [
    "Aha! Note that we get a product state. This means a criss-cross measurement pattern on configurations like these are not worth considering. We conclude that perhaps the ring configuration is the most useful and thus we will focus on it from now on. "
   ]
  },
  {
   "cell_type": "markdown",
   "metadata": {},
   "source": [
    "# 4. Printing Histogram "
   ]
  },
  {
   "cell_type": "markdown",
   "metadata": {},
   "source": [
    "In this section, we look at how print a histogram of measurement outcomes. This might be useful in the future. I will re-use the code from the 6-qubit on a ring exploration to demonstrate how the histogram works. "
   ]
  },
  {
   "cell_type": "code",
   "execution_count": 109,
   "metadata": {},
   "outputs": [
    {
     "data": {
      "image/png": "[encoded data removed]",
      "text/plain": [
       "<Figure size 504x360 with 1 Axes>"
      ]
     },
     "execution_count": 109,
     "metadata": {},
     "output_type": "execute_result"
    }
   ],
   "source": [
    "from qiskit import QuantumRegister, ClassicalRegister, QuantumCircuit, execute, Aer,BasicAer\n",
    "from qiskit.tools.visualization import circuit_drawer\n",
    "from qiskit.visualization import plot_histogram\n",
    "import My_Qiskit_Functions as MQ\n",
    "import math as m\n",
    "import numpy as np\n",
    "S_simulator = Aer.backends(name='statevector_simulator')[0]\n",
    "M_simulator = Aer.backends(name='qasm_simulator')[0]\n",
    "\n",
    "q = QuantumRegister(6,name='q')\n",
    "c = ClassicalRegister(3,name='c')\n",
    "qc = QuantumCircuit(q,c,name='qc')\n",
    "\n",
    "# first, initialize everything to get |+> product state:\n",
    "for i in range(6):\n",
    "    qc.h(q[i])\n",
    "\n",
    "# entangle with Cz\n",
    "qc.cz(q[0],q[1])\n",
    "qc.cz(q[1],q[2])\n",
    "qc.cz(q[2],q[3])\n",
    "qc.cz(q[3],q[4])\n",
    "qc.cz(q[4],q[5])\n",
    "qc.cz(q[5],q[0])\n",
    "\n",
    "# Hadamard qubits 0,2,4, to measure in X basis:\n",
    "qc.h(q[0])\n",
    "qc.h(q[2])\n",
    "qc.h(q[4])\n",
    "qc.measure(q[0],c[0])\n",
    "qc.measure(q[2],c[1])\n",
    "qc.measure(q[4],c[2])\n",
    "\n",
    "#MQ.Wavefunction(qc,column=True,systems=[1,1,1,1,1,1])\n",
    "\n",
    "qc.draw('mpl')\n",
    "backend = BasicAer.get_backend('qasm_simulator')\n",
    "job = execute(qc, backend, shots=10000)\n",
    "plot_histogram(job.result().get_counts(), color='midnightblue', title=\"New Histogram\")"
   ]
  },
  {
   "cell_type": "markdown",
   "metadata": {},
   "source": [
    "Recall that we need to re-interpret the outcomes as the state $|+++\\rangle, |+--\\rangle, |-+-\\rangle, |--+\\rangle$. It turns out that these states appear with equal probability. Now, to explore what states the other qubits acquire, we must turn off the histogram function and run the code the old way. \n",
    "\n",
    "While this might pose some inconvenience, it's useful to know we can do this. "
   ]
  },
  {
   "cell_type": "markdown",
   "metadata": {},
   "source": [
    "# 5. Symbolic Gates"
   ]
  },
  {
   "cell_type": "markdown",
   "metadata": {},
   "source": [
    "In this section, we try to implement gates (rotations, especially) with an arbitrary parameter. To this end, we import \"Parameter\" from qiskit.circuit and SymPy."
   ]
  },
  {
   "cell_type": "code",
   "execution_count": 135,
   "metadata": {},
   "outputs": [
    {
     "data": {
      "image/png": "[encoded data removed]",
      "text/plain": [
       "<Figure size 298.592x204.68 with 1 Axes>"
      ]
     },
     "execution_count": 135,
     "metadata": {},
     "output_type": "execute_result"
    }
   ],
   "source": [
    "from qiskit import QuantumRegister, ClassicalRegister, QuantumCircuit, execute, Aer,BasicAer\n",
    "from qiskit.circuit import Parameter\n",
    "from qiskit.tools.visualization import circuit_drawer\n",
    "from qiskit.visualization import plot_histogram\n",
    "import My_Qiskit_Functions as MQ\n",
    "import math as m\n",
    "import numpy as np\n",
    "import sympy as sy\n",
    "S_simulator = Aer.backends(name='statevector_simulator')[0]\n",
    "M_simulator = Aer.backends(name='qasm_simulator')[0]\n",
    "\n",
    "\n",
    "q = QuantumRegister(2,name='q')\n",
    "c = ClassicalRegister(1,name='c')\n",
    "qc = QuantumCircuit(q,c,name='qc')\n",
    "\n",
    "phase=Parameter('θ')\n",
    "\n",
    "qc.h(q[0])\n",
    "qc.rx((phase),q[1])\n",
    "qc.measure(q[1],c[0])\n",
    "\n",
    "#print(execute(qc, M_simulator, shots = 10000).result().get_counts(qc))\n",
    "#MQ.Wavefunction(qc,column=True,systems=[1,1,1,1,1,1])\n",
    "qc.draw('mpl')"
   ]
  },
  {
   "cell_type": "markdown",
   "metadata": {},
   "source": [
    "It turns out that we can only go so far as to draw out the circuit diagram with an arbitrary parameter. If we want to do calculations, we will need to assign to parameters numerical values. This is sad, but at least being able to draw out diagrams  for visualizations might be good enough. "
   ]
  },
  {
   "cell_type": "markdown",
   "metadata": {},
   "source": [
    "# 6. Creating quantum states from GHZ?"
   ]
  },
  {
   "cell_type": "markdown",
   "metadata": {},
   "source": [
    "In this section, we consider the following idea: Suppose we want to create some critical ground state (of the 1D TFIM model) with 4 qubits. It is known that the 4-qubit GHZ state is roughly as \"far\" from the critical 4-qubit ground state as the paramagnetic $\\otimes | + \\rangle$ state. Here, the states are \"far\" from the critical ground state in the sense that the time (or, equivalently, the circuit depth) it takes to reach the critical ground state increases linearly in the system size.\n",
    "\n",
    "In this section, we test the following idea. In order to get to the 4-qubit state faster than linear, we will want the circuit depth to increase only LOGARITHMICALLY in the system size. To this end, we might want to consider the following trade-off from QAOA. We know from QAOA that each layer is parameterized by only 2 parameters (and in fact, adding more parameters per layer does not help -- the number of layers is still going to be linear in system size). Thus, QAOA is effectively restricted to applying a uniform transformation to every qubit in the system per layer. On the other hand, when measurements are introduced, we can also spread correlations very rapily throughout the system. This, combined with the aid of local unitaries, might be able to help us fully parameterize and move the state to the ground state in log time. \n",
    "\n",
    "The way this might be done is the following. In contrast to QAOA where the system size does not change and entanglement is introduced pair-by-pair by the (uniform) application of the $e^{i\\beta \\sum Z_iZ_j}$ at each layer, our new procedure relies on measuring a GHZ state of a larger size, followed by applications of non-uniform local unitaries (such as $X$-rotations and $e^{i\\beta ZZ}$ gates) -- here \"non-uniform\" means we can have many more parameters per layer than QAOA (which only has 2 per layer). By subsequent applications of measurements (which shrink the system size and possibly carry entanglements) and local unitaries (through which we introduce various parameters), we might be able to reach the ground state of the desired size in log time. \n",
    "\n",
    "Obviously, since each layer of the above strategy is defined in terms of a \"layer of measurement\" (which halves the system size everytime), we should try to see whether a logarithmic (in system size) number of layers suffices."
   ]
  },
  {
   "cell_type": "markdown",
   "metadata": {},
   "source": [
    "To start, consider the trivial problem of preparing the critical ground state of a 2-site TFIM. (to be continued)"
   ]
  },
  {
   "cell_type": "code",
   "execution_count": null,
   "metadata": {},
   "outputs": [],
   "source": []
  }
 ],
 "metadata": {
  "kernelspec": {
   "display_name": "Python 3",
   "language": "python",
   "name": "python3"
  },
  "language_info": {
   "codemirror_mode": {
    "name": "ipython",
    "version": 3
   },
   "file_extension": ".py",
   "mimetype": "text/x-python",
   "name": "python",
   "nbconvert_exporter": "python",
   "pygments_lexer": "ipython3",
   "version": "3.7.6"
  }
 },
 "nbformat": 4,
 "nbformat_minor": 4
}
