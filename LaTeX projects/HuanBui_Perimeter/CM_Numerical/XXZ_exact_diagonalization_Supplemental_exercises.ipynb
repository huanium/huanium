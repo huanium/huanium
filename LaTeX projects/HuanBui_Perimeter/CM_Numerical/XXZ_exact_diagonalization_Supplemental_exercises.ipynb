{
 "cells": [
  {
   "cell_type": "markdown",
   "metadata": {},
   "source": [
    "We can also apply our exact diagonalization methods to other models, such as the XXZ model:\n",
    "\n",
    "$$ H = \\sum_i \\Delta\\sigma_i^z \\sigma_{i+1}^z + J(\\sigma_i^x\\sigma_{i+1}^x + \\sigma_i^y\\sigma_{i+1}^y) $$\n",
    "\n",
    "As before, we want to have just a single parameter, so we look at $H/J$, with the free parameter $g = \\Delta/J$.\n",
    "\n",
    "We will then do the following:\n",
    "\n",
    "1) Find the $2^N\\times 2^N$ matrices for the ZZ, XX, and YY terms\n",
    "\n",
    "2) Find eigenstates and eigenvalues for a range of g\n",
    "\n",
    "3) Find expectation values in the ground state for various operators\n",
    "\n",
    "4) Look at dynamics in the model: if we start with a particular spin configuration, what happens to it over time?\n",
    "\n",
    "As before, $N>10$ may run out your computer's memory, so be careful!"
   ]
  },
  {
   "cell_type": "markdown",
   "metadata": {},
   "source": [
    "# Preliminaries"
   ]
  },
  {
   "cell_type": "code",
   "execution_count": null,
   "metadata": {},
   "outputs": [],
   "source": [
    "import numpy as np\n",
    "import matplotlib.pyplot as plt\n",
    "\n",
    "Sx = np.array( [[0,1],[1,0]] )\n",
    "Sz = np.array( [[1,0],[0,-1]] )\n",
    "Sy = np.array( [[0,-1j],[1j,0]] )\n",
    "Id = np.array( [[1,0],[0,1]] )"
   ]
  },
  {
   "cell_type": "markdown",
   "metadata": {},
   "source": [
    "# Finding the matrices\n",
    "\n",
    "Your first task is to find matrices for the three terms: ZZ, XX, and YY.  You can use whatever method you like"
   ]
  },
  {
   "cell_type": "markdown",
   "metadata": {},
   "source": [
    "## ZZ matrix"
   ]
  },
  {
   "cell_type": "code",
   "execution_count": null,
   "metadata": {},
   "outputs": [],
   "source": [
    "def ZZ(N):\n",
    "    \"\"\"\n",
    "    Input: N is the number of sites\n",
    "    Output: Matrix for sum of Sz Sz terms, NOT including the factor of g\n",
    "    \n",
    "    Computed using Kronecker product method\n",
    "    \"\"\"\n",
    "    # TODO"
   ]
  },
  {
   "cell_type": "code",
   "execution_count": null,
   "metadata": {},
   "outputs": [],
   "source": [
    "# For testing"
   ]
  },
  {
   "cell_type": "markdown",
   "metadata": {},
   "source": [
    "## XX matrix"
   ]
  },
  {
   "cell_type": "code",
   "execution_count": null,
   "metadata": {},
   "outputs": [],
   "source": [
    "def XX(N):\n",
    "    \"\"\"\n",
    "    Input: N is the number of sites\n",
    "    Output: Matrix for sum of Sx Sx terms\n",
    "    \n",
    "    Computed using Kronecker product method\n",
    "    \"\"\"\n",
    "    # TODO"
   ]
  },
  {
   "cell_type": "code",
   "execution_count": null,
   "metadata": {},
   "outputs": [],
   "source": [
    "# For testing"
   ]
  },
  {
   "cell_type": "markdown",
   "metadata": {},
   "source": [
    "## YY matrix"
   ]
  },
  {
   "cell_type": "code",
   "execution_count": null,
   "metadata": {},
   "outputs": [],
   "source": [
    "def YY(N):\n",
    "    \"\"\"\n",
    "    Input: N is the number of sites\n",
    "    Output: Matrix for sum of Sy Sy terms\n",
    "    \n",
    "    Computed using Kronecker product method\n",
    "    \"\"\"\n",
    "    #TODO"
   ]
  },
  {
   "cell_type": "code",
   "execution_count": null,
   "metadata": {},
   "outputs": [],
   "source": [
    "# For testing"
   ]
  },
  {
   "cell_type": "markdown",
   "metadata": {},
   "source": [
    "# Solving the model"
   ]
  },
  {
   "cell_type": "markdown",
   "metadata": {},
   "source": [
    "We now use these matrices to solve the XXZ model!\n",
    "\n",
    "**Energy spectrum**\n",
    "\n",
    "The first step is to just look at the energy eigenspectrum.  Write a program with parameter ```N```, the number of sites, that finds the eigenvalues and eigenvectors for a range of $g$, then plots the eigenvalues.  You should notice that there are many fewer than for the Ising model."
   ]
  },
  {
   "cell_type": "code",
   "execution_count": null,
   "metadata": {},
   "outputs": [],
   "source": [
    "N = 3\n",
    "num_pts = 21\n",
    "\n",
    "XX = XX(N)\n",
    "YY = YY(N)\n",
    "ZZ = ZZ(N)\n",
    "\n",
    "def get_H(g):\n",
    "    return g*ZZ + XX + YY\n",
    "\n",
    "# YOUR CODE HERE\n",
    "\n",
    "# TODO"
   ]
  },
  {
   "cell_type": "markdown",
   "metadata": {},
   "source": [
    "Note that ```g=1``` with ```N=2``` is actually just the $S_\\text{tot}^2$ operator for two spin-1/2 systems.  See the earlier supplemental exercise for the identification of the the four energy levels with spin 0 and spin 1. "
   ]
  },
  {
   "cell_type": "markdown",
   "metadata": {},
   "source": [
    "**Expectation values**\n",
    "\n",
    "Next we want to look at some physical properties, as measured by expectation values and correlation functions in the ground state.  This model has a great deal of symmetry, since it is invariant if you flip all spins in the x, y, or z basis.  As a result, any expectation value of $\\sigma^x$, $\\sigma^y$, or $\\sigma^z$ will be 0.  (The special point $g=1$ has even more symmetry, and in fact the component of spin in any direction, $(\\sigma^x,\\sigma^y,\\sigma^z)\\cdot\\hat{n}$ will have zero expectation value.  This is called $SO(3)$ symmetry.)  \n",
    "\n",
    "So we will focus on the correlation functions of the three spin components on the first and last sites, $\\langle \\sigma^x_0 \\sigma^x_{N-1}\\rangle$, $\\langle \\sigma^y_0 \\sigma^y_{N-1}\\rangle$, and $\\langle \\sigma^z_0 \\sigma^z_{N-1}\\rangle$.\n",
    "\n",
    "Write a program that finds and plots these expectation values for a specified number of sites ```N``` and a specified number of values of $g$ in the range 0 to 2. "
   ]
  },
  {
   "cell_type": "code",
   "execution_count": null,
   "metadata": {},
   "outputs": [],
   "source": [
    "# TODO\n",
    "\n",
    "# YOUR CODE HERE"
   ]
  },
  {
   "cell_type": "markdown",
   "metadata": {},
   "source": [
    "# Comparing different N\n",
    "\n",
    "In condensed matter physics, the goal is to study very large systems, with many particles (on the order of $10^{23}$).  So when we study small systems, as we've done going to just 10-ish sites in this case, it is important to think about what would happen if we made $N$ larger.  To do this, we plot the results for many values of $N$ together.  \n",
    "\n",
    "Here we make four figures comparing the results as we change $N$:\n",
    "- The energy gap between the ground state and the first excited state\n",
    "- The energy gap between the first and second excited states\n",
    "- The expectation value of the average of $\\sigma^x$\n",
    "- The correlation function of $\\langle \\sigma^z \\sigma^z\\rangle$ on the first and last sites\n",
    "\n",
    "As in the previous case, I will leave this completely blank - you should be able to fill it in!"
   ]
  },
  {
   "cell_type": "code",
   "execution_count": null,
   "metadata": {},
   "outputs": [],
   "source": [
    "#TODO, YOUR CODE HERE"
   ]
  },
  {
   "cell_type": "markdown",
   "metadata": {},
   "source": [
    "To get a better sense of convergence with $N$, you can make plots where $g$ is fixed and you plot the values versus $1/N$.  Since we stored all the results above, this doesn't require any extra calculation.  Here is an example:"
   ]
  },
  {
   "cell_type": "code",
   "execution_count": null,
   "metadata": {},
   "outputs": [],
   "source": [
    "# Which g to plot\n",
    "g_val = 1.5\n",
    "\n",
    "# Find the index in the output array for this g (will give an error if this g is not in the set that was computed)\n",
    "g_idx = np.where(np.abs(gs - g_val) < 10**-10)\n",
    "\n",
    "# Plot vs 1/N\n",
    "f,a = plt.subplots()\n",
    "a.scatter(1/np.array(Ns), first_E_gap[:,g_idx])\n",
    "a.set_xlim(left=0);\n",
    "a.set_ylim(bottom=0);"
   ]
  },
  {
   "cell_type": "markdown",
   "metadata": {},
   "source": [
    "Here we see the pretty interesting behavior that the degeneracy of the levels depends on whether the system size is even or odd!  This is because the ground state always has the lowest possible total spin, and when the system has an even number of sites there is just one symmetry sector with the lowest spin (0), but with an odd number there are two (1/2 and -1/2), hence the two degenerate ground states."
   ]
  },
  {
   "cell_type": "markdown",
   "metadata": {},
   "source": [
    "# Dynamics"
   ]
  },
  {
   "cell_type": "markdown",
   "metadata": {},
   "source": [
    "In general, if we know the eigenvalues and eigenstates of a Hamiltonian, we can find the time evolution of any given initial state, in the following way:\n",
    "\n",
    "1. Decompose the state as a superposition of energy eigenvectors:\n",
    "$$|\\psi\\rangle = \\sum_i c_i|v_i\\rangle$$\n",
    "\n",
    "2. Put in the time evolution of each eigenstate:\n",
    "$$|\\psi(t)\\rangle = \\sum_i c_i e^{i E t/\\hbar}|v_i\\rangle$$\n",
    "\n",
    "Here since we've messed with the units a whole bunch and have a unitless \"energy\" we can just make the opposite transformations to $t/\\hbar$ and get a unitless \"time\" $\\tau$ and look at $|\\psi(\\tau)\\rangle$:\n",
    "$$|\\psi(t)\\rangle = \\sum_i c_i e^{i E \\tau}|v_i\\rangle$$\n",
    "\n",
    "In the following we will do this for a 10-site system with an initial state that has spin up on site 0 and spin in the $+\\hat{x}$ direction on all other sites.\n",
    "\n",
    "I have asked you to fill in code for the following:\n",
    "- ```get_z``` and ```get_z_all_sites``` functions to return expectation value of $\\sigma^z$ on specified site/all sites\n",
    "- ```basis_state_coeffs = ```: write initial state as a superposition of eigenstates\n",
    "- ```get_v(t)```: use ```basis_state_coeffs``` to find v(t) as a vector in the spin-z basis\n",
    "\n",
    "I provide the plotting code and the initial state.\n",
    "\n",
    "I think you will find the results interesting!"
   ]
  },
  {
   "cell_type": "code",
   "execution_count": null,
   "metadata": {},
   "outputs": [],
   "source": [
    "N=10\n",
    "g = 1.0\n",
    "H = g*ZZ(N) + XX(N) + YY(N)\n",
    "\n",
    "e,v = np.linalg.eigh(H)"
   ]
  },
  {
   "cell_type": "code",
   "execution_count": null,
   "metadata": {},
   "outputs": [],
   "source": [
    "def get_z(state, site):\n",
    "    \"\"\"\n",
    "    returns expectation value of sigma^z on site 'site' in the given state, which is a vector of coefficients in the \n",
    "    usual basis\n",
    "    \"\"\"\n",
    "    total = 0\n",
    "    \n",
    "    #TODO, YOUR CODE HERE\n",
    "    \n",
    "    return total\n",
    "\n",
    "def get_z_all_sites(state):\n",
    "    \"\"\"\n",
    "    returns an np.array of length N containing the expectation value of sigma^z on each site\n",
    "    \"\"\"\n",
    "    totals = np.zeros(N)\n",
    "    \n",
    "    # TODO, YOUR CODE HERE\n",
    "    \n",
    "    return totals"
   ]
  },
  {
   "cell_type": "code",
   "execution_count": null,
   "metadata": {},
   "outputs": [],
   "source": [
    "v0 = np.ones(2**(N-1))/np.sqrt(2**(N-1)) # N-1 spins in +x\n",
    "v0 = np.kron(np.array([1,0]), v0) # First spin in +z, rest in +x\n",
    "\n",
    "# Initial sigma^z expectation values to test:\n",
    "plt.scatter(range(N),get_z_all_sites(v0))\n",
    "\n",
    "basis_state_coeffs = # TODO, GET INITIAL BASIS STATE COEFFICIENTS USING v and v0\n",
    "#Time evolution\n",
    "def get_v(t):\n",
    "    # YOUR CODE HERE, RETURN LIST OF COEFFICIENTS AT TIME t\n",
    "    return vt"
   ]
  },
  {
   "cell_type": "code",
   "execution_count": null,
   "metadata": {},
   "outputs": [],
   "source": [
    "t_max = 10\n",
    "num_ts = 201\n",
    "\n",
    "ts = np.linspace(0,t_max,num_ts)\n",
    "sz_vals = np.zeros( (num_ts, N) )\n",
    "\n",
    "for t_idx, t in enumerate(ts):\n",
    "    vt = get_v(t)\n",
    "    sz_vals[t_idx] = get_z_all_sites(vt)\n",
    "    \n",
    "f,a = plt.subplots()\n",
    "c = a.imshow(sz_vals, aspect = N/num_ts)\n",
    "a.set_ylabel('t')\n",
    "a.set_xlabel('site')\n",
    "f.colorbar(c);"
   ]
  },
  {
   "cell_type": "code",
   "execution_count": null,
   "metadata": {},
   "outputs": [],
   "source": [
    "total_sz_vals = np.sum(sz_vals, axis=1)\n",
    "g,b = plt.subplots()\n",
    "b.scatter(ts, total_sz_vals)\n",
    "b.set_xlabel('t')\n",
    "b.set_ylabel('Total <Sz>');"
   ]
  },
  {
   "cell_type": "code",
   "execution_count": null,
   "metadata": {},
   "outputs": [],
   "source": [
    "f,a = plt.subplots()\n",
    "for t_ind in range(8):\n",
    "    a.plot(range(N),sz_vals[t_ind], marker = '.', linestyle='-')"
   ]
  },
  {
   "cell_type": "code",
   "execution_count": null,
   "metadata": {},
   "outputs": [],
   "source": []
  }
 ],
 "metadata": {
  "kernelspec": {
   "display_name": "Python 3",
   "language": "python",
   "name": "python3"
  },
  "language_info": {
   "codemirror_mode": {
    "name": "ipython",
    "version": 3
   },
   "file_extension": ".py",
   "mimetype": "text/x-python",
   "name": "python",
   "nbconvert_exporter": "python",
   "pygments_lexer": "ipython3",
   "version": "3.6.5"
  }
 },
 "nbformat": 4,
 "nbformat_minor": 2
}
