{
 "cells": [
  {
   "cell_type": "markdown",
   "metadata": {},
   "source": [
    "We can also apply our exact diagonalization methods to other models, such as the XXZ model:\n",
    "\n",
    "$$ H = \\sum_i \\Delta\\sigma_i^z \\sigma_{i+1}^z + J(\\sigma_i^x\\sigma_{i+1}^x + \\sigma_i^y\\sigma_{i+1}^y) $$\n",
    "\n",
    "As before, we want to have just a single parameter, so we look at $H/J$, with the free parameter $g = \\Delta/J$.\n",
    "\n",
    "We will then do the following:\n",
    "\n",
    "1) Find the $2^N\\times 2^N$ matrices for the ZZ, XX, and YY terms\n",
    "\n",
    "2) Find eigenstates and eigenvalues for a range of g\n",
    "\n",
    "3) Find expectation values in the ground state for various operators\n",
    "\n",
    "4) Look at dynamics in the model: if we start with a particular spin configuration, what happens to it over time?\n",
    "\n",
    "As before, $N>10$ may run out your computer's memory, so be careful!"
   ]
  },
  {
   "cell_type": "markdown",
   "metadata": {},
   "source": [
    "# Preliminaries"
   ]
  },
  {
   "cell_type": "code",
   "execution_count": null,
   "metadata": {},
   "outputs": [],
   "source": [
    "import numpy as np\n",
    "import matplotlib.pyplot as plt\n",
    "\n",
    "Sx = np.array( [[0,1],[1,0]] )\n",
    "Sz = np.array( [[1,0],[0,-1]] )\n",
    "Sy = np.array( [[0,-1j],[1j,0]] )\n",
    "Id = np.array( [[1,0],[0,1]] )"
   ]
  },
  {
   "cell_type": "markdown",
   "metadata": {},
   "source": [
    "# Finding the matrices"
   ]
  },
  {
   "cell_type": "markdown",
   "metadata": {},
   "source": [
    "## ZZ matrix\n",
    "\n",
    "First I demonstrate three different ways of finding the matrix for the $\\sigma^z \\sigma^z$ terms, same as for the Ising model\n",
    "\n",
    "**Method 1: Kronecker product**"
   ]
  },
  {
   "cell_type": "code",
   "execution_count": null,
   "metadata": {},
   "outputs": [],
   "source": [
    "def ZZ(N):\n",
    "    \"\"\"\n",
    "    Input: N is the number of sites\n",
    "    Output: Matrix for sum of Sz Sz terms, NOT including the factor of g\n",
    "    \n",
    "    Computed using Kronecker product method\n",
    "    \"\"\"\n",
    "    ZZ = np.zeros( (2**N,2**N) , dtype = int) # Create matrix of all zeros\n",
    "    # Add Sz Sz terms one by one, from left to right\n",
    "    for i in range(N-1):\n",
    "        operators = [Id]*i + [Sz,Sz] + [Id]*(N-2-i) # A list of all the operators in this term \n",
    "        term = operators[0]\n",
    "        for op in operators[1:]: # iterate through all elements after the first one, which was used to start the list\n",
    "            term = np.kron(term, op)\n",
    "        # Add result for this term to the matrix\n",
    "        ZZ += term\n",
    "    return ZZ"
   ]
  },
  {
   "cell_type": "markdown",
   "metadata": {},
   "source": [
    "**Method 2: Column by column**"
   ]
  },
  {
   "cell_type": "code",
   "execution_count": null,
   "metadata": {},
   "outputs": [],
   "source": [
    "def d2b(i,N):\n",
    "    b = np.array( [ (i//2**(N-1-j))%2 for j in range(N) ] )\n",
    "    return b\n",
    "\n",
    "def b2d(b):\n",
    "    N = len(b)\n",
    "    d = np.sum( [ b[i]*2**(N-1-i) for i in range(N) ] )\n",
    "    return d\n",
    "\n",
    "def ZZ_v2(N):\n",
    "    \"\"\"\n",
    "    Input: N is the number of sites\n",
    "    Output: Matrix for sum of Sz Sz terms, NOT including the factor of g\n",
    "    \n",
    "    Computed using Column-by-column method\n",
    "    \"\"\"\n",
    "    ZZ = np.zeros( (2**N,2**N) , dtype = int)\n",
    "    for col in range(2**N):\n",
    "        b = d2b(col, N)\n",
    "        for j in range(N-1):\n",
    "            coeff = (-1)**( b[j] + b[j+1] )              \n",
    "            row = col\n",
    "            ZZ[row, col] += coeff\n",
    "    return ZZ"
   ]
  },
  {
   "cell_type": "code",
   "execution_count": null,
   "metadata": {},
   "outputs": [],
   "source": [
    "ZZ_v2(3)"
   ]
  },
  {
   "cell_type": "markdown",
   "metadata": {},
   "source": [
    "**Method 3: Use knowledge that the operator is diagonal**"
   ]
  },
  {
   "cell_type": "code",
   "execution_count": null,
   "metadata": {},
   "outputs": [],
   "source": [
    "def ZZ_v3(N):\n",
    "    \"\"\"\n",
    "    Input: N is the number of sites\n",
    "    Output: Matrix for sum of Sz Sz terms, NOT including the factor of g\n",
    "    \n",
    "    Computed using knowledge that operator is diagonal\n",
    "    \"\"\"\n",
    "    ZZ_diag = np.zeros(2**N, dtype = int)\n",
    "    for col in range(2**N):\n",
    "        b = d2b(col,N)\n",
    "        val = 0\n",
    "        for j in range(N-1):\n",
    "            val += (-1)**(b[j] + b[j+1])\n",
    "        ZZ_diag[col] = val\n",
    "    ZZ = np.diag(ZZ_diag)\n",
    "    return ZZ"
   ]
  },
  {
   "cell_type": "code",
   "execution_count": null,
   "metadata": {
    "scrolled": true
   },
   "outputs": [],
   "source": [
    "ZZ_v3(3)"
   ]
  },
  {
   "cell_type": "markdown",
   "metadata": {},
   "source": [
    "**Test that all three agree for some larger values of $N$**"
   ]
  },
  {
   "cell_type": "code",
   "execution_count": null,
   "metadata": {},
   "outputs": [],
   "source": [
    "N = 8\n",
    "print(np.linalg.norm(ZZ(N)-ZZ_v2(N)))\n",
    "print(np.linalg.norm(ZZ(N)-ZZ_v3(N)))"
   ]
  },
  {
   "cell_type": "markdown",
   "metadata": {},
   "source": [
    "## XX matrix, YY matrix\n",
    "\n",
    "Next are the XX and YY matrices, which I construt in two ways"
   ]
  },
  {
   "cell_type": "markdown",
   "metadata": {},
   "source": [
    "**Method 1: Kronecker product**"
   ]
  },
  {
   "cell_type": "code",
   "execution_count": null,
   "metadata": {},
   "outputs": [],
   "source": [
    "# Version 1: Kronecker product\n",
    "\n",
    "def XX(N):\n",
    "    \"\"\"\n",
    "    Input: N is the number of sites\n",
    "    Output: Matrix for sum of Sx Sx terms\n",
    "    \n",
    "    Computed using Kronecker product method\n",
    "    \"\"\"\n",
    "    # Your code here\n",
    "    XX = np.zeros( (2**N,2**N) , dtype = int) # Create matrix of all zeros\n",
    "    # Add Sz Sz terms one by one, from left to right\n",
    "    for i in range(N-1):\n",
    "        operators = [Id]*i + [Sx,Sx] + [Id]*(N-2-i) # A list of all the operators in this term \n",
    "        term = operators[0]\n",
    "        for op in operators[1:]: # iterate through all elements after the first one, which was used to start the list\n",
    "            term = np.kron(term, op)\n",
    "        # Add result for this term to the matrix\n",
    "        XX += term\n",
    "    return XX\n",
    "\n",
    "def YY(N):\n",
    "    \"\"\"\n",
    "    Input: N is the number of sites\n",
    "    Output: Matrix for sum of Sy Sy terms\n",
    "    \n",
    "    Computed using Kronecker product method\n",
    "    \"\"\"\n",
    "    # Your code here\n",
    "    YY = np.zeros( (2**N,2**N) , dtype = complex) # Create matrix of all zeros\n",
    "    # Add Sz Sz terms one by one, from left to right\n",
    "    for i in range(N-1):\n",
    "        operators = [Id]*i + [Sy,Sy] + [Id]*(N-2-i) # A list of all the operators in this term \n",
    "        term = operators[0]\n",
    "        for op in operators[1:]: # iterate through all elements after the first one, which was used to start the list\n",
    "            term = np.kron(term, op)\n",
    "        # Add result for this term to the matrix\n",
    "        YY += term\n",
    "    if (np.abs(np.imag(YY)) > 10**-12).any(): \n",
    "        raise ValueError(\"erroneous imaginary part\")\n",
    "    YY = np.real(YY)\n",
    "    return YY"
   ]
  },
  {
   "cell_type": "code",
   "execution_count": null,
   "metadata": {},
   "outputs": [],
   "source": [
    "print(XX(2))\n",
    "print(YY(2))"
   ]
  },
  {
   "cell_type": "markdown",
   "metadata": {},
   "source": [
    "**Method 2: Column by column**"
   ]
  },
  {
   "cell_type": "code",
   "execution_count": null,
   "metadata": {},
   "outputs": [],
   "source": [
    "# Version 2: Column-by-column\n",
    "\n",
    "def XX_v2(N):\n",
    "    \"\"\"\n",
    "    Input: N is the number of sites\n",
    "    Output: Matrix for sum of Sx Sx terms\n",
    "    \n",
    "    Computed using Column-by-column method\n",
    "    \"\"\"\n",
    "    # Your code here\n",
    "    XX = np.zeros( (2**N,2**N), dtype = int )\n",
    "    for col in range(2**N):\n",
    "        b = d2b(col, N)\n",
    "        for j in range(N-1):\n",
    "            coeff = 1\n",
    "            new_b = b.copy()\n",
    "            new_b[j] = 1-new_b[j] # Flip the spin on site j\n",
    "            new_b[j+1] = 1-new_b[j+1]\n",
    "            row = b2d(new_b)\n",
    "            XX[row, col] += coeff\n",
    "    return XX\n",
    "\n",
    "def YY_v2(N):\n",
    "    \"\"\"\n",
    "    Input: N is the number of sites\n",
    "    Output: Matrix for sum of Sx Sx terms\n",
    "    \n",
    "    Computed using Column-by-column method\n",
    "    \"\"\"\n",
    "    # Your code here\n",
    "    YY = np.zeros( (2**N,2**N), dtype = int )\n",
    "    for col in range(2**N):\n",
    "        b = d2b(col, N)\n",
    "        for j in range(N-1):\n",
    "            coeff = (-1)**(1+b[j]+b[j+1])\n",
    "            new_b = b.copy()\n",
    "            new_b[j] = 1-new_b[j] # Flip the spin on site j\n",
    "            new_b[j+1] = 1-new_b[j+1]\n",
    "            row = b2d(new_b)\n",
    "            YY[row, col] += coeff\n",
    "    return YY"
   ]
  },
  {
   "cell_type": "code",
   "execution_count": null,
   "metadata": {},
   "outputs": [],
   "source": [
    "print(XX_v2(2))\n",
    "print(YY_v2(2))"
   ]
  },
  {
   "cell_type": "markdown",
   "metadata": {},
   "source": [
    "** Compare the methods for large N**"
   ]
  },
  {
   "cell_type": "code",
   "execution_count": null,
   "metadata": {},
   "outputs": [],
   "source": [
    "N=6\n",
    "print(np.linalg.norm(XX(N)-XX_v2(N)))\n",
    "print(np.linalg.norm(YY(N)-YY_v2(N)))"
   ]
  },
  {
   "cell_type": "markdown",
   "metadata": {},
   "source": [
    "# Solving the model"
   ]
  },
  {
   "cell_type": "markdown",
   "metadata": {},
   "source": [
    "We now use these matrices to solve the XXZ model!\n",
    "\n",
    "**Energy spectrum**\n",
    "\n",
    "The first step is to just look at the energy eigenspectrum.  I provide the program here.  There are parameters for you to select:\n",
    "\n",
    "```N```: the number of sites\n",
    "\n",
    "```num_pts```: how many values of the parameter ```g``` to use, in the interval from 0 to 2\n",
    "\n",
    "```show_lowest```: if the value is ```False``` all $2^N$ eigenvalues will be plotted.  If it is a positive integer $n$, the lowest $n$ eigenvalues will be shown (or $2^N$ if that is less than $n$).\n",
    "\n",
    "```gs_at_0```: if ```False``` the actual energies will be plotted; if ```True```, for each $g$ the ground state energy will be subtracted from all eigenvalues, so the plot is of \"relative energy\" above the ground state.\n",
    "\n",
    "```per_site```: if ```True```, all energy eigenvalues will be divided by ```N``` to give the intensive quantity energy/site \n",
    "\n",
    "I recommend exploring these different options"
   ]
  },
  {
   "cell_type": "code",
   "execution_count": null,
   "metadata": {},
   "outputs": [],
   "source": [
    "# Parameters\n",
    "N = 2\n",
    "num_pts = 21\n",
    "show_lowest = False\n",
    "gs_at_0 = False\n",
    "per_site = False\n",
    "\n",
    "# Generate X and ZZ matrices using the fastest methods\n",
    "XX = XX_v2(N) \n",
    "YY = YY_v2(N)\n",
    "ZZ = ZZ_v3(N)\n",
    "\n",
    "# Function to get H from these stored matrices\n",
    "def get_H(g):\n",
    "    return g*ZZ + XX + YY\n",
    "\n",
    "# Values of g to use in calculating/plotting\n",
    "gs = np.linspace(0,2,num_pts)\n",
    "\n",
    "# Create an empty table to store the results:\n",
    "energies = np.zeros( (2**N,num_pts) )\n",
    "energies[:,:] = np.nan \n",
    "\n",
    "for g_index, g in enumerate(gs): \n",
    "    H = get_H(g)\n",
    "    e, v = np.linalg.eigh(H) \n",
    "    inds = np.argsort(e)\n",
    "    e = e[inds]\n",
    "    v = v[:, inds]\n",
    "    \n",
    "    energies[:,g_index] = e\n",
    "    \n",
    "if per_site:\n",
    "    energies /= N\n",
    "if gs_at_0:\n",
    "    for i in range(2**N):\n",
    "        energies[i] -= energies[0]\n",
    "\n",
    "f, a = plt.subplots()\n",
    "max_ind = 2**N if not show_lowest else show_lowest\n",
    "for row in range(max_ind): \n",
    "    a.scatter(gs, energies[row])\n",
    "a.set_xlabel('g', fontsize = 16);\n",
    "a.set_ylabel('E', fontsize = 16);"
   ]
  },
  {
   "cell_type": "markdown",
   "metadata": {},
   "source": [
    "Note that ```g=1``` with ```N=2``` is actually just the $S_\\text{tot}^2$ operator for two spin-1/2 systems.  See the earlier supplemental exercise for the identification of the the four energy levels with spin 0 and spin 1. "
   ]
  },
  {
   "cell_type": "markdown",
   "metadata": {},
   "source": [
    "**Expectation values**\n",
    "\n",
    "Next we want to look at some physical properties, as measured by expectation values and correlation functions in the ground state.  This model has a great deal of symmetry, since it is invariant if you flip all spins in the x, y, or z basis.  As a result, any expectation value of $\\sigma^x$, $\\sigma^y$, or $\\sigma^z$ will be 0.  (The special point $g=1$ has even more symmetry, and in fact the component of spin in any direction, $(\\sigma^x,\\sigma^y,\\sigma^z)\\cdot\\hat{n}$ will have zero expectation value.  This is called $SO(3)$ symmetry.)  \n",
    "\n",
    "So we will focus on the correlation functions of the three spin components on the first and last sites, $\\langle \\sigma^x_0 \\sigma^x_{N-1}\\rangle$, $\\langle \\sigma^y_0 \\sigma^y_{N-1}\\rangle$, and $\\langle \\sigma^z_0 \\sigma^z_{N-1}\\rangle$."
   ]
  },
  {
   "cell_type": "code",
   "execution_count": null,
   "metadata": {},
   "outputs": [],
   "source": [
    "# Parameters\n",
    "N = 5\n",
    "num_pts = 21\n",
    "\n",
    "# Generate X and ZZ matrices using the fastest methods\n",
    "XX = XX_v2(N) \n",
    "YY = YY_v2(N)\n",
    "ZZ = ZZ_v3(N)\n",
    "\n",
    "# Function to get H from these stored matrices\n",
    "def get_H(g):\n",
    "    return g*ZZ + XX + YY\n",
    "\n",
    "# Values of g to use in calculating/plotting\n",
    "gs = np.linspace(0,2,num_pts)\n",
    "\n",
    "# Generate a matrix for each operator whose expectation value we want to measure.  \n",
    "#  (Hint: you already basically have the one for x!) \n",
    "\n",
    "def get_ZZ_end_site_matrix(N):\n",
    "    \"\"\"\n",
    "    For N sites, return the matrix for the operator \\sigma^z_0 \\otimes Id \\otimes ... \\otimes Id \\otimes \\sigma^z_{N-1}\n",
    "    \"\"\"\n",
    "    # Your code here\n",
    "    ZZ_ends = np.zeros( 2**N, dtype = int)\n",
    "    for i in range(2**N):\n",
    "        b = d2b(i, N)\n",
    "        ZZ_ends[i] = (-1)**(b[0]+b[-1])\n",
    "    return np.diag(ZZ_ends)\n",
    "\n",
    "def get_XX_end_site_matrix(N):\n",
    "    \"\"\"\n",
    "    For N sites, return the matrix for the operator \\sigma^x_0 \\otimes Id \\otimes ... \\otimes Id \\otimes \\sigma^x_{N-1}\n",
    "    \"\"\"\n",
    "    # Your code here\n",
    "    XX_ends = np.zeros( (2**N,2**N), dtype = int)\n",
    "    for col in range(2**N):\n",
    "        b = d2b(col, N)\n",
    "        b[0] = 1-b[0]\n",
    "        b[N-1] = 1-b[N-1]\n",
    "        row = b2d(b)\n",
    "        XX_ends[row,col] = 1\n",
    "    return XX_ends\n",
    "\n",
    "def get_YY_end_site_matrix(N):\n",
    "    \"\"\"\n",
    "    For N sites, return the matrix for the operator \\sigma^y_0 \\otimes Id \\otimes ... \\otimes Id \\otimes \\sigma^y_{N-1}\n",
    "    \"\"\"\n",
    "    # Your code here\n",
    "    YY_ends = np.zeros( (2**N,2**N), dtype = int)\n",
    "    for col in range(2**N):\n",
    "        b = d2b(col, N)\n",
    "        coeff = (-1)**(1+b[0]+b[N-1])\n",
    "        b[0] = 1-b[0]\n",
    "        b[N-1] = 1-b[N-1]\n",
    "        row = b2d(b)\n",
    "        YY_ends[row,col] = coeff\n",
    "    return YY_ends\n",
    "\n",
    "ZZ_ends = get_ZZ_end_site_matrix(N)\n",
    "XX_ends = get_XX_end_site_matrix(N)\n",
    "YY_ends = get_YY_end_site_matrix(N)\n",
    "\n",
    "# For storing the results\n",
    "YY_ends_vals = np.zeros(num_pts)\n",
    "ZZ_ends_vals = np.zeros(num_pts)\n",
    "XX_ends_vals = np.zeros(num_pts)\n",
    "\n",
    "# Do the calculations\n",
    "for g_index, g in enumerate(gs):\n",
    "    H = get_H(g)\n",
    "    e, v = np.linalg.eigh(H)\n",
    "    indices = np.argsort(e)\n",
    "    e = e[indices] \n",
    "    v = v[:, indices] \n",
    "    \n",
    "    ZZ_ends_vals[g_index] = v[:,0].conj().transpose() @ ZZ_ends @ v[:,0]\n",
    "    XX_ends_vals[g_index] = v[:,0].conj().transpose() @ XX_ends @ v[:,0]\n",
    "    YY_ends_vals[g_index] = v[:,0].conj().transpose() @ YY_ends @ v[:,0]\n",
    "    \n",
    "# Make plots\n",
    "for (values, label) in [(XX_ends_vals, '<XX>'), (YY_ends_vals, '<YY>'), (ZZ_ends_vals, '<ZZ>')]:\n",
    "    f,a = plt.subplots()\n",
    "    a.scatter(gs, values)\n",
    "    a.set_xlabel('g', fontsize = 16);\n",
    "    a.set_ylabel(label, fontsize = 16);"
   ]
  },
  {
   "cell_type": "markdown",
   "metadata": {},
   "source": [
    "# Comparing different N\n",
    "\n",
    "In condensed matter physics, the goal is to study very large systems, with many particles (on the order of $10^{23}$).  So when we study small systems, as we've done going to just 10-ish sites in this case, it is important to think about what would happen if we made $N$ larger.  To do this, we plot the results for many values of $N$ together.  \n",
    "\n",
    "Here we make four figures comparing the results as we change $N$:\n",
    "- The energy gap between the ground state and the first excited state\n",
    "- The energy gap between the first and second excited states\n",
    "- The expectation value of the average of $\\sigma^x$\n",
    "- The correlation function of $\\langle \\sigma^z \\sigma^z\\rangle$ on the first and last sites"
   ]
  },
  {
   "cell_type": "code",
   "execution_count": null,
   "metadata": {},
   "outputs": [],
   "source": [
    "Ns = range(2,9) # Includes 2 through 8\n",
    "num_pts = 21\n",
    "gs = np.linspace(0,2,num_pts)\n",
    "\n",
    "# Arrays to store results for all N and g\n",
    "first_E_gap = np.zeros( (len(Ns),num_pts) )\n",
    "second_E_gap = np.zeros( (len(Ns),num_pts) )\n",
    "ZZ_ends_vals = np.zeros( (len(Ns),num_pts) )\n",
    "XX_ends_vals = np.zeros( (len(Ns),num_pts) )\n",
    "YY_ends_vals = np.zeros( (len(Ns),num_pts) )\n",
    "\n",
    "# Loop through values of N\n",
    "for N_idx, N in enumerate(Ns):\n",
    "    XX = XX_v2(N)\n",
    "    YY = YY_v2(N)\n",
    "    ZZ = ZZ_v3(N)\n",
    "    XX_ends = get_XX_end_site_matrix(N)\n",
    "    YY_ends = get_YY_end_site_matrix(N)\n",
    "    ZZ_ends = get_ZZ_end_site_matrix(N)\n",
    "    \n",
    "    for g_index, g in enumerate(gs):\n",
    "        H = g*ZZ + XX + YY\n",
    "        e, v = np.linalg.eigh(H)\n",
    "        indices = np.argsort(e)\n",
    "        e = e[indices] \n",
    "        v = v[:, indices] \n",
    "\n",
    "        first_E_gap[N_idx, g_index] = e[1]-e[0]\n",
    "        second_E_gap[N_idx, g_index] = e[2]-e[1]\n",
    "        ZZ_ends_vals[N_idx, g_index] = v[:,0].conj().transpose() @ ZZ_ends @ v[:,0]\n",
    "        XX_ends_vals[N_idx, g_index] = v[:,0].conj().transpose() @ XX_ends @ v[:,0]\n",
    "        YY_ends_vals[N_idx, g_index] = v[:,0].conj().transpose() @ YY_ends @ v[:,0]\n",
    "        \n",
    "# Make plots\n",
    "for (values, label) in [(first_E_gap,'$\\Delta_1$'),(second_E_gap,'$\\Delta_2$'),(ZZ_ends_vals, '<ZZ>'),(XX_ends_vals, '<XX>'),(YY_ends_vals, '<YY>')]:\n",
    "    f,a = plt.subplots()\n",
    "    for N_idx, N in enumerate(Ns):\n",
    "        a.plot(gs, values[N_idx], label = N) # 'label' option will let us make a legend\n",
    "    a.set_xlabel('g', fontsize = 16);\n",
    "    a.set_ylabel(label, fontsize = 16);\n",
    "    a.legend()\n",
    "    a.axhline(0, c='gray', zorder = 0, alpha=0.5) # Makes a horizontal line to make results easier to understand\n",
    "    if label in ['<X>','<ZZ>']: a.axhline(1, c='gray', zorder=0, alpha=0.5)"
   ]
  },
  {
   "cell_type": "markdown",
   "metadata": {},
   "source": [
    "From these calculations you can get a sense of how som behaviors seem to be converged already at $N\\approx 10$ while others are not.  To get a better sense, you can make plots where $g$ is fixed and you plot the values versus $1/N$.  Since we stored all the results above, this doesn't require any extra calculation.  Here is an example:"
   ]
  },
  {
   "cell_type": "code",
   "execution_count": null,
   "metadata": {},
   "outputs": [],
   "source": [
    "# Which g to plot\n",
    "g_val = 1.5\n",
    "\n",
    "# Find the index in the output array for this g (will give an error if this g is not in the set that was computed)\n",
    "g_idx = np.where(np.abs(gs - g_val) < 10**-10)\n",
    "\n",
    "# Plot vs 1/N\n",
    "f,a = plt.subplots()\n",
    "a.scatter(1/np.array(Ns), first_E_gap[:,g_idx])\n",
    "a.set_xlim(left=0);\n",
    "a.set_ylim(bottom=0);"
   ]
  },
  {
   "cell_type": "markdown",
   "metadata": {},
   "source": [
    "Here we see the pretty interesting behavior that the degeneracy of the levels depends on whether the system size is even or odd!  This is because the ground state always has the lowest possible total spin, and when the system has an even number of sites there is just one symmetry sector with the lowest spin (0), but with an odd number there are two (1/2 and -1/2), hence the two degenerate ground states."
   ]
  },
  {
   "cell_type": "markdown",
   "metadata": {},
   "source": [
    "# Dynamics"
   ]
  },
  {
   "cell_type": "markdown",
   "metadata": {},
   "source": [
    "In general, if we know the eigenvalues and eigenstates of a Hamiltonian, we can find the time evolution of any given initial state, in the following way:\n",
    "\n",
    "1. Decompose the state as a superposition of energy eigenvectors:\n",
    "$$|\\psi\\rangle = \\sum_i c_i|v_i\\rangle$$\n",
    "\n",
    "2. Put in the time evolution of each eigenstate:\n",
    "$$|\\psi(t)\\rangle = \\sum_i c_i e^{i E t/\\hbar}|v_i\\rangle$$\n",
    "\n",
    "Here since we've messed with the units a whole bunch and have a unitless \"energy\" we can just make the opposite transformations to $t/\\hbar$ and get a unitless \"time\" $\\tau$ and look at $|\\psi(\\tau)\\rangle$:\n",
    "$$|\\psi(t)\\rangle = \\sum_i c_i e^{i E \\tau}|v_i\\rangle$$\n",
    "\n",
    "In the following we will do this for a 10-site system with an initial state that has spin up on site 0 and spin in the $+\\hat{x}$ direction on all other sites.\n"
   ]
  },
  {
   "cell_type": "code",
   "execution_count": null,
   "metadata": {},
   "outputs": [],
   "source": [
    "N=10\n",
    "g = 1.0\n",
    "H = g*ZZ_v3(N) + XX_v2(N) + YY_v2(N)\n",
    "\n",
    "e,v = np.linalg.eigh(H)"
   ]
  },
  {
   "cell_type": "code",
   "execution_count": null,
   "metadata": {},
   "outputs": [],
   "source": [
    "def get_z(state, site):\n",
    "    \"\"\"\n",
    "    returns expectation value of sigma^z on site 'site' in the given state, which is a vector of coefficients in the \n",
    "    usual basis\n",
    "    \"\"\"\n",
    "    total = 0\n",
    "    for row in range(2**N):\n",
    "        b = d2b(row, N)\n",
    "        coeff = (-1)**(b[site])\n",
    "        total += np.abs(state[row])**2 * coeff\n",
    "    return total\n",
    "\n",
    "def get_z_all_sites(state):\n",
    "    \"\"\"\n",
    "    returns an np.array of length N containing the expectation value of sigma^z on each site\n",
    "    \"\"\"\n",
    "    totals = np.zeros(N)\n",
    "    for row in range(2**N):\n",
    "        b = d2b(row, N)\n",
    "        coeffs = (-1)**b\n",
    "        totals += np.abs(state[row])**2 * coeffs\n",
    "    return totals"
   ]
  },
  {
   "cell_type": "code",
   "execution_count": null,
   "metadata": {},
   "outputs": [],
   "source": [
    "v0 = np.ones(2**(N-1))/np.sqrt(2**(N-1)) # N-1 spins in +x\n",
    "v0 = np.kron(np.array([1,0]), v0) # First spin in +z, rest in +x\n",
    "\n",
    "# Initial sigma^z expectation values to test:\n",
    "plt.scatter(range(N),get_z_all_sites(v0))\n",
    "\n",
    "basis_state_coeffs = v.conj().transpose() @ v0\n",
    "#Time evolution\n",
    "def get_v(t):\n",
    "    coeffs = basis_state_coeffs * np.exp(-1j*e*t)\n",
    "    vt = v @ coeffs\n",
    "    return vt"
   ]
  },
  {
   "cell_type": "code",
   "execution_count": null,
   "metadata": {},
   "outputs": [],
   "source": [
    "t_max = 10\n",
    "num_ts = 201\n",
    "\n",
    "ts = np.linspace(0,t_max,num_ts)\n",
    "sz_vals = np.zeros( (num_ts, N) )\n",
    "\n",
    "for t_idx, t in enumerate(ts):\n",
    "    vt = get_v(t)\n",
    "    sz_vals[t_idx] = get_z_all_sites(vt)\n",
    "    \n",
    "f,a = plt.subplots()\n",
    "c = a.imshow(sz_vals, aspect = N/num_ts)\n",
    "a.set_ylabel('t')\n",
    "a.set_xlabel('site')\n",
    "f.colorbar(c);"
   ]
  },
  {
   "cell_type": "code",
   "execution_count": null,
   "metadata": {},
   "outputs": [],
   "source": [
    "total_sz_vals = np.sum(sz_vals, axis=1)\n",
    "g,b = plt.subplots()\n",
    "b.scatter(ts, total_sz_vals)\n",
    "b.set_xlabel('t')\n",
    "b.set_ylabel('Total <Sz>');"
   ]
  },
  {
   "cell_type": "code",
   "execution_count": null,
   "metadata": {},
   "outputs": [],
   "source": [
    "f,a = plt.subplots()\n",
    "for t_ind in range(8):\n",
    "    a.plot(range(N),sz_vals[t_ind], marker = '.', linestyle='-')"
   ]
  },
  {
   "cell_type": "code",
   "execution_count": null,
   "metadata": {},
   "outputs": [],
   "source": []
  }
 ],
 "metadata": {
  "kernelspec": {
   "display_name": "Python 3",
   "language": "python",
   "name": "python3"
  },
  "language_info": {
   "codemirror_mode": {
    "name": "ipython",
    "version": 3
   },
   "file_extension": ".py",
   "mimetype": "text/x-python",
   "name": "python",
   "nbconvert_exporter": "python",
   "pygments_lexer": "ipython3",
   "version": "3.6.5"
  }
 },
 "nbformat": 4,
 "nbformat_minor": 2
}
