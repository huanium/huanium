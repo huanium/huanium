{
 "cells": [
  {
   "attachments": {},
   "cell_type": "markdown",
   "metadata": {},
   "source": [
    "# <font size = 5> Notes</font>"
   ]
  },
  {
   "attachments": {},
   "cell_type": "markdown",
   "metadata": {},
   "source": [
    "Part 1 of 5: Single atoms\n",
    "\n",
    "Author: Huan Q. Bui\n",
    "\n",
    "Affiliation: Fermi1 experiment at Zlabs, MIT\n",
    "             \n",
    "PI: Professor Martin Zwierlein\n",
    "\n",
    "First updated: May 15, 2023\n",
    "\n",
    "Last updated: August 13, 2023"
   ]
  },
  {
   "attachments": {},
   "cell_type": "markdown",
   "metadata": {},
   "source": [
    "# <font size = 5>Setting up</font>"
   ]
  },
  {
   "cell_type": "code",
   "execution_count": 12,
   "metadata": {},
   "outputs": [],
   "source": [
    "# imports\n",
    "from astropy.io import fits\n",
    "import numpy as np\n",
    "import matplotlib.pyplot as plt\n",
    "from matplotlib import patches\n",
    "import os\n",
    "import scipy\n",
    "import pandas as pd\n",
    "from qutip import *\n",
    "import time\n",
    "from findiff import FinDiff\n",
    "from numba import jit\n",
    "# for diatomic hyperfine + rotational stuff\n",
    "from sympy.physics.wigner import wigner_3j\n",
    "from scipy.linalg import block_diag\n",
    "import scipy.constants\n",
    "from scipy.special import sph_harm\n",
    "from matplotlib import pyplot,gridspec,colors,patches,collections\n",
    "from sympy.physics.wigner import wigner_3j, wigner_6j"
   ]
  },
  {
   "cell_type": "code",
   "execution_count": 13,
   "metadata": {},
   "outputs": [],
   "source": [
    "# suppress warnings: do at your own risk!\n",
    "import warnings\n",
    "warnings.filterwarnings(\"ignore\")"
   ]
  },
  {
   "cell_type": "code",
   "execution_count": 14,
   "metadata": {},
   "outputs": [],
   "source": [
    "# constants\n",
    "ABSORPTION_LIMIT = 5.0\n",
    "SPECIAL_CHARACTERS = \"!@#$%^&*()-+?_=,<>/\"\n",
    "\n",
    "# physics constants\n",
    "hbar = 1.05457182*10**(-34) # Js\n",
    "c = 299792458 # m/s\n",
    "h_planck = hbar*2*np.pi  # Js\n",
    "me = 9.1093837015e-31    # electron mass\n",
    "mn = 1.67493e-27         # neutron mass\n",
    "eC = 1.60218e-19         # electric charge\n",
    "muB = eC*hbar/(2*me)     # Bohr magneton\n",
    "muB_cm1_G = muB / (100*c*h_planck*1e4) # Bohr magneton in units of cm-1 per Gauss\n",
    "a0 = 5.2917720859e-11    # Bohr radius\n",
    "muN = scipy.constants.physical_constants['nuclear magneton'][0]\n",
    "eps0 = scipy.constants.epsilon_0\n",
    "gS = 2.0023193043622\n",
    "DebyeSI = 3.33564e-30\n",
    "\n",
    "# Lithium constants\n",
    "mLi6 = 9.9883414*10**(-27) # kg\n",
    "Li6D2Gamma = 5.8724e6 # Hz Note that this is NOT angular freq\n",
    "Li6D2lambda0 = 670.977338*10**(-9) # meters\n",
    "Li6D2sigma0 = 3*(Li6D2lambda0)**2/(2*np.pi)\n",
    "Li6Ahf_s12 = 152.1368407e6  # This is NOT angular freq\n",
    "Li6Bhf_s12 = 0\n",
    "Li6Ahf_p12 = 17.386e6 # Hz\n",
    "Li6Bhf_p12 = 0\n",
    "Li6Ahf_p32 = -1.155e6 # Hz\n",
    "Li6Bhf_p32 = -0.10e6 # Hz\n",
    "Li6I = 1\n",
    "Li6gI = -0.0004476540\n",
    "\n",
    "# Sodium-23 constants\n",
    "mNa23 = 0.38175403519e-25 # kg\n",
    "Na23D2Gamma = 9.794646e6 # Hz\n",
    "Na23D2lambda0 = 589.158326415e-9 # meters\n",
    "Na23D2sigma0 = 3*(Na23D2lambda0)**2/(2*np.pi)\n",
    "Na23Ahf_s12 = 885.8130644050e6 # Hz\n",
    "Na23Bhf_s12 = 0e6 # Hz\n",
    "Na23Ahf_p12 = 94.4413e6 # Hz\n",
    "Na23Bhf_p12 = 0e6 # Hz\n",
    "Na23Ahf_p32 = 18.53415e6 # Hz\n",
    "Na23Bhf_p32 = 2.72430e6 # Hz\n",
    "Na23I = 3/2\n",
    "Na23gI = -0.0008046108080\n",
    "\n",
    "# Potassium-40 constants\n",
    "mK40 = 39.9639984821*1.6605402e-27 # kg \n",
    "K40D2Gamma = 6.03511 # MHz\n",
    "K40D2lambda0 = 766.700674872173e-9 # meters\n",
    "K40D2sigma0 = 3*(K40D2lambda0)**2/(2*np.pi)\n",
    "K40Ahf_s12 = -285.730824e6 # Hz\n",
    "K40Bhf_s12 = 0\n",
    "K40Ahf_p12 = -34.52325e6 # Hz\n",
    "K40Bhf_p12 = 0\n",
    "K40Ahf_p32 = -7.58510e6 # Hz\n",
    "K40Bhf_p32 = -3.44590e6 # Hz\n",
    "K40I = 4\n",
    "K40gI = 0.00017649034\n",
    "\n",
    "# NaK constants:\n",
    "mK41 = 6.80187059497004e-26 # kg\n",
    "mK40 = 6.63617749148248e-26 # kg\n",
    "mK39 = 6.47007514485677e-26 # kg\n",
    "u = 1.660538782e-27  # kg\n",
    "Eh = 4.35974394e-18 \n",
    "RKRcst = hbar/np.sqrt(2*u) * (10**10) * np.sqrt(1/(100 * c * hbar * 2*np.pi)) \n",
    "muNa39K = (mNa23 * mK39)/(mNa23 + mK39) * 1/u # atomic units\n",
    "muNa40K = (mNa23 * mK40)/(mNa23 + mK40) * 1/u # atomic units \n",
    "muNa41K = (mNa23 * mK41)/(mNa23 + mK41) * 1/u # atomic units"
   ]
  },
  {
   "attachments": {},
   "cell_type": "markdown",
   "metadata": {},
   "source": [
    "# <font size = 5>Zeeman Effect Calculator</font>"
   ]
  },
  {
   "cell_type": "code",
   "execution_count": 4,
   "metadata": {},
   "outputs": [],
   "source": [
    "# helper functions\n",
    "def A_hfs(J, I, mj, mi, mjj, mii):\n",
    "    Ahfs = 0\n",
    "    if (mj == mjj) and (mi == mii):\n",
    "        Ahfs = mj*mi\n",
    "    elif (mj == mjj + 1.0) and (mi == mii - 1.0):\n",
    "        Ahfs = (1/2)*np.sqrt((J+mj)*(J-mj+1)*(I-mi)*(I+mi+1))\n",
    "    elif (mj == mjj - 1.0) and (mi == mii + 1.0): \n",
    "        Ahfs = (1/2)*np.sqrt((J-mj)*(J+mj+1)*(I+mi)*(I-mi+1))\n",
    "    else:\n",
    "        Ahfs = 0\n",
    "    return Ahfs\n",
    "\n",
    "def B_hfs(J, I, mj, mi, mjj, mii):\n",
    "    # reference: N. Ramsey's Molecular Beams... some Appendix, I believe\n",
    "    Bhfs = 0\n",
    "    if (mj == mjj) and (mi == mii):\n",
    "        Bhfs = (1/2)*(3*mi**2-I*(I+1))*(3*mj**2-J*(J+1))\n",
    "    elif (mjj == mj - 1) and (mii == mi + 1):   \n",
    "        Bhfs = (3/4)*(2*mjj-1)*(2*mii+1)*np.sqrt((J+mjj)*(J-mjj+1)*(I-mii)*(I+mii+1))\n",
    "    elif mjj == mj + 1 and mii == mi - 1:\n",
    "        Bhfs = (3/4)*(2*mjj+1)*(2*mii-1)*np.sqrt((J-mjj)*(J+mjj+1)*(I+mii)*(I-mii+1))\n",
    "    elif mjj == mj - 2 and mii == mi + 2 :  \n",
    "        Bhfs = (3/4)*np.sqrt((J+mjj)*(J+mjj-1)*(J-mjj+1)*(J-mjj+2)*(I-mii)*(I-mii-1)*(I+mii+1)*(I+mii+2))\n",
    "    elif mjj == mj + 2 and mii == mi - 2:\n",
    "        Bhfs = (3/4)*np.sqrt((J-mjj)*(J-mjj-1)*(J+mjj+1)*(J+mjj+2)*(I+mii)*(I+mii-1)*(I-mii+1)*(I-mii+2))\n",
    "    else:\n",
    "        Bhfs = 0\n",
    "\n",
    "    if (2*I*(2*I-1)*J*(2*J-1)) != 0:\n",
    "        Bhfs = Bhfs/(2*I*(2*I-1)*J*(2*J-1))\n",
    "    return Bhfs\n",
    "\n",
    "def mag(B, J, L, S, mj, mi, mjj, mii, gI):\n",
    "    gL = 1 - me/mn           # gyro magnetic factor of the orbital\n",
    "    gS = 2.0023193043622     # electron spin g-factor\n",
    "    gJ = gL*(J*(J+1)-S*(S+1)+L*(L+1))/(2*J*(J+1)) + gS*(J*(J+1)+S*(S+1)-L*(L+1))/(2*J*(J+1)) # verified, correct :)\n",
    "    \n",
    "    mag = 0\n",
    "    if mj == mjj and mi == mii:\n",
    "        mag = (muB/hbar)*(gJ*mj + gI*mi)*B*1e-4 # B is in Gauss, need to convert to Tesla\n",
    "    else:\n",
    "        mag = 0\n",
    "\n",
    "    return mag/(2*np.pi) # return answer in Hz"
   ]
  },
  {
   "cell_type": "code",
   "execution_count": 5,
   "metadata": {},
   "outputs": [],
   "source": [
    "# zeeman splitting calculator\n",
    "def zeeman_splitting_calculator(J, I, gI, L, S, B_main, B_start, B_end, num_B, Ahf, Bhf = 0, \n",
    "                                plotting = True, highlight_HF_states = [0,0], plot_range = None, \n",
    "                                single_B_field_calc_mode = False, print_field_sensitivity_between = None,\n",
    "                                search_mode = False, splitting = 0, splitting_between_states = None, labeling_mode='lf'):\n",
    "\n",
    "    B_start = min(B_start, B_end)\n",
    "    B_end = max(B_start, B_end)\n",
    "    if num_B >= 20:\n",
    "        B_fields = np.linspace(B_start, B_end, num_B)\n",
    "        if B_main < max(B_fields) and B_main > min(B_fields):\n",
    "            B_fields = np.append(B_fields, B_main)\n",
    "            B_fields = np.sort(B_fields)\n",
    "        else:\n",
    "            print('The variable \"B_main\" is not in B fields!')\n",
    "            return 0        \n",
    "    else:\n",
    "        print('Number of points must exceed 20!')\n",
    "        return 0\n",
    "    \n",
    "    # possible Js\n",
    "    possible_Js = np.arange(abs(L-S), abs(L+S)+1, 1)\n",
    "    if J > max(possible_Js) or J < min(possible_Js):\n",
    "        print('Invalid J!')\n",
    "        return 0\n",
    "    mJ = np.linspace(-J, J, int(2*J+1))\n",
    "    mI = np.linspace(-I, I, int(2*I+1))\n",
    "   \n",
    "    # now make a basis:\n",
    "    basis = [] # which is the set {[mj, mi]}\n",
    "    for mj in mJ:\n",
    "        for mi in mI:\n",
    "            basis.append([mj, mi])\n",
    "            mF = mj + mi\n",
    "    size = len(basis)\n",
    "    H = np.empty((size,size))\n",
    "    list_of_freqs = [ ]\n",
    "\n",
    "    # generate the zeeman Hamiltonian and diagonalize it \n",
    "    for b in B_fields:\n",
    "        for r in range(size):\n",
    "            mj = basis[r][0]\n",
    "            mi = basis[r][1]\n",
    "            for c in range(size):\n",
    "                mjj = basis[c][0]\n",
    "                mii = basis[c][1]\n",
    "                H[r,c] = Ahf * A_hfs(J, I, mj, mi, mjj, mii) + Bhf * B_hfs(J, I, mj, mi, mjj, mii) + mag(b, J, L, S, mj, mi, mjj, mii, gI)\n",
    "        freqs, eigenvectors = np.linalg.eigh(H) \n",
    "        freqs = freqs * 1e-6\n",
    "        list_of_freqs.append(freqs)\n",
    "\n",
    "    # Plotting, labeling states, and returning statistics:\n",
    "    list_of_freqs = np.array(list_of_freqs)\n",
    "    list_of_freqs = np.sort(list_of_freqs, axis=1)    \n",
    "    highlight_HF_states = np.array(highlight_HF_states)\n",
    "    if plotting:\n",
    "        for s in range(size):\n",
    "            plt.plot(B_fields, list_of_freqs[:,s], linewidth = 0.5, color='red')\n",
    "        if highlight_HF_states.all() in np.arange(1, size+1,1):\n",
    "            for state in highlight_HF_states:\n",
    "                plt.plot(B_fields[np.where((B_fields == B_main))[0][0]:], \n",
    "                         list_of_freqs[np.where((B_fields == B_main))[0][0] : , state-1], linewidth = 1.5 , color = 'black')\n",
    "        if plot_range is not None:\n",
    "            plt.ylim(plot_range)\n",
    "        plt.xlabel('Magnetic field (G)')\n",
    "        plt.ylabel('Energy shift (MHz)')\n",
    "        # labeling states depending on high or low field:\n",
    "        gL = 1 - me/mn           # gyro magnetic factor of the orbital\n",
    "        gS = 2.0023193043622     # electron spin g-factor\n",
    "        gJ = gL*(J*(J+1)-S*(S+1)+L*(L+1))/(2*J*(J+1)) + gS*(J*(J+1)+S*(S+1)-L*(L+1))/(2*J*(J+1)) # verified, correct :)\n",
    "        if labeling_mode=='lf':\n",
    "            # print out (F,mF) basis\n",
    "            basisF = []\n",
    "            possible_Fs = np.arange(abs(I-J), abs(I+J)+1, 1)\n",
    "            if gI > 0:\n",
    "                possible_Fs = np.flip(possible_Fs)\n",
    "            for F in possible_Fs:\n",
    "                gF = gJ*(F*(F+1) - I*(I+1) + J*(J+1))/(2*F*(F+1)) # without dividing a positive\n",
    "                if gF > 0:\n",
    "                    # if positive, then mF negative to positive:\n",
    "                    mF = np.linspace(-F, F, int(2*F+1))\n",
    "                    for mf in mF:\n",
    "                        basisF.append([F,mf])\n",
    "                else:\n",
    "                    # if negative, then mF positive to negative:\n",
    "                    mF = np.flip(np.linspace(-F, F, int(2*F+1)))\n",
    "                    for mf in mF:\n",
    "                        basisF.append([F,mf])\n",
    "            basisF = np.array(basisF)\n",
    "            print('(F, mF) basis, low to high in energy: ')\n",
    "            print(basisF)\n",
    "        elif labeling_mode=='hf':\n",
    "            # rank the mj mi basis based on the value of gJ * mJ + gI*mI:\n",
    "            vals = []\n",
    "            for b in basis:\n",
    "                B_hf = 10*Ahf*hbar*2*np.pi/(muB *1e-4)\n",
    "                vals.append(  Ahf*b[0]*b[1] + (gJ*b[0] + gI*b[1])*B_hf*1e-4*muB/(hbar*2*np.pi)    )\n",
    "            sort_vals = np.argsort(np.array(vals))\n",
    "            sorted_mJmI_basis = np.array(basis)\n",
    "            sorted_mJmI_basis = sorted_mJmI_basis[sort_vals]\n",
    "            print('(mJ, mI) basis, low to high in energy: ')\n",
    "            print(sorted_mJmI_basis)\n",
    "        elif labeling_mode == 'none':\n",
    "            print('No state labeling')\n",
    "        plt.grid()\n",
    "        plt.show()   \n",
    "\n",
    "    # Compute relevant statistics:\n",
    "    if single_B_field_calc_mode:\n",
    "        freqs = list_of_freqs[np.where(B_fields == B_main)[0][0]]\n",
    "        print('Frequencies (MHz)')\n",
    "        print(freqs)\n",
    "        print('Frequency spacings (MHz), from low to high in state energy, at ' + str(B_main) +  ' G:')\n",
    "        for i in range(len(freqs)-1):\n",
    "            print(\"{:.4f}\".format(freqs[i+1] - freqs[i]))    \n",
    "        print(' ')    \n",
    "        # Field sensitivities:\n",
    "        print('Field sensitivity of shift (MHz per G), from low to high in state energy, at ' + str(B_main) + ' G:')\n",
    "        freqs_next = list_of_freqs[np.where(B_fields == B_main)[0][0] + 1]\n",
    "        freqs_diff = freqs_next - freqs\n",
    "        Bs_diff = B_fields[np.where(B_fields == B_main)[0][0] + 1] - B_fields[np.where(B_fields == B_main)[0][0]]\n",
    "        for i in range(len(freqs)):\n",
    "            print(\"{:.3f}\".format(freqs_diff[i] / Bs_diff))  \n",
    "        print(' ')\n",
    "\n",
    "        # Next, calculate the difference between in energy between the two states:\n",
    "        if print_field_sensitivity_between is not None:\n",
    "            lower_state  = list_of_freqs[ : , print_field_sensitivity_between[0]-1]\n",
    "            higher_state = list_of_freqs[ : , print_field_sensitivity_between[1]-1]\n",
    "            differential_shift =  higher_state - lower_state\n",
    "            # take derivative:\n",
    "            dfdB = np.diff(differential_shift)/np.diff(B_fields)\n",
    "            print( 'Field sensitivity of splitting, df'+str(print_field_sensitivity_between[1])+str(print_field_sensitivity_between[0])+' by dB:')   \n",
    "            print(\"{:.4f}\".format(dfdB[np.where((B_fields == B_main))[0][0]]) + ' MHz per G')\n",
    "\n",
    "    # Search for B_field that matches splitting:\n",
    "    if search_mode:\n",
    "        if splitting_between_states is not None:\n",
    "            state_A_freqs = list_of_freqs[ : , splitting_between_states[0]-1]\n",
    "            state_B_freqs = list_of_freqs[ : , splitting_between_states[1]-1]\n",
    "            AB_freq_differences = np.abs(state_B_freqs - state_A_freqs - splitting) # assuming no weird crossings...\n",
    "            AB_freq_diff_min_index = np.argmin(AB_freq_differences)\n",
    "\n",
    "            print(' ')\n",
    "            print('Closest B field (G): ' + \"{:.2f}\".format(B_fields[AB_freq_diff_min_index]))\n",
    "            splitting_error = state_B_freqs[AB_freq_diff_min_index] - state_A_freqs[AB_freq_diff_min_index] - splitting\n",
    "            print('Splitting Error (MHz): ' + \"{:.5f}\".format(splitting_error ))\n",
    "            if np.abs(splitting_error/splitting) >= 0.1: # if error is too big\n",
    "                print('Note: large error might be due to bad guesses!')\n",
    "    return "
   ]
  },
  {
   "cell_type": "code",
   "execution_count": 45,
   "metadata": {},
   "outputs": [
    {
     "name": "stdout",
     "output_type": "stream",
     "text": [
      "(F, mF) basis, low to high in energy: \n",
      "[[ 1.  1.]\n",
      " [ 1.  0.]\n",
      " [ 1. -1.]\n",
      " [ 2. -2.]\n",
      " [ 2. -1.]\n",
      " [ 2.  0.]\n",
      " [ 2.  1.]\n",
      " [ 2.  2.]]\n"
     ]
    },
    {
     "data": {
      "image/png": "[encoded data removed]",
      "text/plain": [
       "<Figure size 640x480 with 1 Axes>"
      ]
     },
     "metadata": {},
     "output_type": "display_data"
    },
    {
     "name": "stdout",
     "output_type": "stream",
     "text": [
      "Frequencies (MHz)\n",
      "[-1185.97230641 -1118.50324982 -1045.54808848   523.04609566\n",
      "   602.8689721    675.59671762   742.8383584    805.67350095]\n",
      "Frequency spacings (MHz), from low to high in state energy, at 100.97 G:\n",
      "67.4691\n",
      "72.9552\n",
      "1568.5942\n",
      "79.8229\n",
      "72.7277\n",
      "67.2416\n",
      "62.8351\n",
      " \n",
      "Field sensitivity of shift (MHz per G), from low to high in state energy, at 100.97 G:\n",
      "-0.851\n",
      "-0.221\n",
      "0.514\n",
      "-1.400\n",
      "-0.511\n",
      "0.221\n",
      "0.848\n",
      "1.400\n",
      " \n",
      "Field sensitivity of splitting, df81 by dB:\n",
      "2.2502 MHz per G\n",
      " \n",
      "Closest B field (G): 100.68\n",
      "Splitting Error (MHz): -0.00189\n"
     ]
    }
   ],
   "source": [
    "# Zeeman calculator cell\n",
    "B_start = 90\n",
    "B_end = 110\n",
    "B_main = 100.97 # G\n",
    "num_B = 5000\n",
    "\n",
    "# Careful what you type in here!\n",
    "Ahf = Na23Ahf_s12\n",
    "Bhf = Na23Bhf_s12\n",
    "L = 0\n",
    "S = 1/2\n",
    "J = 1/2\n",
    "I = Na23I\n",
    "gI = Na23gI\n",
    "\n",
    "from_to = [1,8]\n",
    "\n",
    "zeeman_splitting_calculator(J, I, gI, L, S, B_main, B_start, B_end, num_B, Ahf, Bhf, \n",
    "                            plotting = True, highlight_HF_states = from_to, plot_range = None, \n",
    "                            single_B_field_calc_mode = True, print_field_sensitivity_between = from_to,\n",
    "                            search_mode = True, splitting = 1991.0, splitting_between_states = from_to,\n",
    "                            labeling_mode='lf')"
   ]
  },
  {
   "cell_type": "code",
   "execution_count": 47,
   "metadata": {},
   "outputs": [
    {
     "data": {
      "text/plain": [
       "-1928.8106648100002"
      ]
     },
     "execution_count": 47,
     "metadata": {},
     "output_type": "execute_result"
    }
   ],
   "source": [
    "-1185.97230641 -742.8383584"
   ]
  },
  {
   "attachments": {},
   "cell_type": "markdown",
   "metadata": {},
   "source": [
    "# <font size = 5>Landau-Zener transition (linear sweep)</font>"
   ]
  },
  {
   "cell_type": "code",
   "execution_count": 15,
   "metadata": {},
   "outputs": [],
   "source": [
    "# LZ solver\n",
    "def LZ_solve(delta0, omegaR, ddelta_dt, psi0, tlist):\n",
    "\n",
    "    # Hamiltonian\n",
    "    sx = sigmax()\n",
    "    sz = sigmaz()\n",
    "    a = destroy(2)\n",
    "\n",
    "    H0 = - (delta0/2.0) * sz - (omegaR/2.0) * sx\n",
    "    H1 = - ddelta_dt/2.0 * sz        \n",
    "\n",
    "    # collapse operators\n",
    "    c_op_list = []\n",
    "\n",
    "    # evolve and calculate expectation values. Method: Cython string-based\n",
    "    # want to return expectation value of aTa = [[0,0],[0,1]] = P_excited\n",
    "    H = [H0, [H1, 't']]\n",
    "    output = mesolve(H, psi0, tlist, c_op_list, [a.dag() * a], {})  \n",
    "\n",
    "    return output.expect[0]"
   ]
  },
  {
   "cell_type": "code",
   "execution_count": 53,
   "metadata": {},
   "outputs": [
    {
     "data": {
      "image/png": "[encoded data removed]",
      "text/plain": [
       "<Figure size 400x300 with 1 Axes>"
      ]
     },
     "metadata": {},
     "output_type": "display_data"
    }
   ],
   "source": [
    "# calculate\n",
    "sweep_time   = 10e-3              # sweep time in secs\n",
    "sweep_span   = 50e3 * 2 * np.pi   # sweep span in Hz * 2pi, make sure this is >> omegaR for good LZ\n",
    "sweep_center = 0 * 2 * np.pi # sweep center in Hz * 2pi\n",
    "ddelta_dt    = sweep_span/sweep_time   # sweep rate in Hz/s * 2pi\n",
    "delta0       = -sweep_span/2   # initial detuning in Hz * 2pi\n",
    "omegaR       = 0.5e3 * 2 * np.pi   # Rabi frequency in Hz * 2pi\n",
    "psi0         = basis(2,0)      # initial state\n",
    "tlist        = np.linspace(0, sweep_time, 10000)\n",
    "p_ex         = LZ_solve(delta0, omegaR, ddelta_dt, psi0, tlist)\n",
    "\n",
    "# display results\n",
    "fig, ax = plt.subplots(figsize=(4,3))\n",
    "ax.plot(tlist, np.real(p_ex), 'b', tlist, np.real(1-p_ex), 'r')\n",
    "ax.plot(tlist, 1 - np.exp(-np.pi * omegaR **2 / (2 * ddelta_dt)) * np.ones(np.shape(tlist)), 'k')\n",
    "ax.set_xlabel('Time (s)')\n",
    "ax.set_ylabel('Population')\n",
    "ax.set_title('Landau-Zener transition')\n",
    "ax.legend((\"Excited\", \"Ground\", \"LZ formula\"), loc=0)\n",
    "plt.show()"
   ]
  },
  {
   "attachments": {},
   "cell_type": "markdown",
   "metadata": {},
   "source": [
    "# <font size = 5>Rabi Solution for Two-Level System</font>"
   ]
  },
  {
   "cell_type": "code",
   "execution_count": 27,
   "metadata": {},
   "outputs": [],
   "source": [
    "def _P2_Rabi(omega, tau, omegaR, omega0, offset):    \n",
    "    OmegaR = np.sqrt( omegaR**2 + (omega - omega0)**2 )\n",
    "    return ( omegaR**2 / OmegaR**2) * np.sin( 2*np.pi*OmegaR * tau / 2)**2 + offset"
   ]
  },
  {
   "cell_type": "code",
   "execution_count": 34,
   "metadata": {},
   "outputs": [
    {
     "data": {
      "image/png": "[encoded data removed]",
      "text/plain": [
       "<Figure size 640x480 with 1 Axes>"
      ]
     },
     "metadata": {},
     "output_type": "display_data"
    }
   ],
   "source": [
    "detunings = np.arange(-15e3,15e3,0.001e3)\n",
    "omega0 = 26.2370e6\n",
    "tau = 100e-6\n",
    "omegaR = 6e3\n",
    "offset = 0\n",
    "P2 = _P2_Rabi(detunings+omega0, tau , omegaR, omega0, offset)\n",
    "plt.plot(detunings, P2)\n",
    "plt.show()"
   ]
  },
  {
   "attachments": {},
   "cell_type": "markdown",
   "metadata": {},
   "source": [
    "# <font size = 5>Miscellaneous lab calculations</font>"
   ]
  },
  {
   "cell_type": "code",
   "execution_count": 43,
   "metadata": {},
   "outputs": [
    {
     "data": {
      "text/plain": [
       "array([-20. , -13. ,  -6. ,   1. ,   8. ,  15. ,  22. ,  29. ,  36. ,\n",
       "        43. ,  50. ,  50. ,  52.5,  55. ,  57.5,  60. ,  62.5,  65. ,\n",
       "        67.5,  70. ,  72.5,  75. ,  77.5,  80. ,  82.5,  85. ,  87.5,\n",
       "        90. ,  92.5,  95. ,  97.5, 100. ])"
      ]
     },
     "execution_count": 43,
     "metadata": {},
     "output_type": "execute_result"
    }
   ],
   "source": [
    "np.concatenate((np.linspace(-20,50,11), np.linspace(50,100,21)))"
   ]
  },
  {
   "cell_type": "code",
   "execution_count": 54,
   "metadata": {},
   "outputs": [
    {
     "data": {
      "text/plain": [
       "4.605170185988091"
      ]
     },
     "execution_count": 54,
     "metadata": {},
     "output_type": "execute_result"
    }
   ],
   "source": [
    "-np.log(0.01)"
   ]
  },
  {
   "cell_type": "code",
   "execution_count": null,
   "metadata": {},
   "outputs": [],
   "source": []
  }
 ],
 "metadata": {
  "kernelspec": {
   "display_name": "AMO_Calculator",
   "language": "python",
   "name": "python3"
  },
  "language_info": {
   "codemirror_mode": {
    "name": "ipython",
    "version": 3
   },
   "file_extension": ".py",
   "mimetype": "text/x-python",
   "name": "python",
   "nbconvert_exporter": "python",
   "pygments_lexer": "ipython3",
   "version": "3.11.3"
  },
  "orig_nbformat": 4
 },
 "nbformat": 4,
 "nbformat_minor": 2
}
