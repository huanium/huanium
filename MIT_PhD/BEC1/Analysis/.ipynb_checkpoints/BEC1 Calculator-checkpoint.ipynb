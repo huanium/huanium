{
 "cells": [
  {
   "cell_type": "markdown",
   "id": "28ef2da4",
   "metadata": {},
   "source": [
    "# Setting up"
   ]
  },
  {
   "cell_type": "markdown",
   "id": "05e01da4",
   "metadata": {
    "heading_collapsed": true
   },
   "source": [
    "## Collapsible Headings"
   ]
  },
  {
   "cell_type": "markdown",
   "id": "ff1422a2",
   "metadata": {
    "hidden": true
   },
   "source": [
    "Run the following commands in anaconda prompt to install a graphical interface for configuring collapsible headings and other extentions/plugins from within the notebooks:\n",
    "\n",
    "pip install jupyter_contrib_nbextensions\n",
    "\n",
    "jupyter contrib nbextension install --user\n",
    "\n",
    "jupyter nbextensions_configurator enable --user\n",
    "\n",
    "Once done, go to Jupyter notebook --> Nbextensions --> check the \"Collapsible Headings\" box"
   ]
  },
  {
   "cell_type": "markdown",
   "id": "54c4e9be",
   "metadata": {},
   "source": [
    "## Imports"
   ]
  },
  {
   "cell_type": "code",
   "execution_count": 5,
   "id": "4d2253dc",
   "metadata": {},
   "outputs": [],
   "source": [
    "from tkinter import filedialog # for prompting user to set analysis folder\n",
    "import glob"
   ]
  },
  {
   "cell_type": "markdown",
   "id": "ef33df1f",
   "metadata": {},
   "source": [
    "# Convenience Functions"
   ]
  },
  {
   "cell_type": "markdown",
   "id": "0f80d6a5",
   "metadata": {},
   "source": [
    "# Na Catch"
   ]
  },
  {
   "cell_type": "markdown",
   "id": "ed2ed315",
   "metadata": {},
   "source": [
    "# Na BEC"
   ]
  },
  {
   "cell_type": "code",
   "execution_count": 10,
   "id": "aab28a22",
   "metadata": {},
   "outputs": [
    {
     "name": "stdout",
     "output_type": "stream",
     "text": [
      "Current folder: C:/Users/huanium/Desktop/sample_data/humongous BEC\n",
      "----------------------------------\n",
      "unmatched_2022-08-19--13-46-51_Side.fits\n",
      "unmatched_2022-08-19--13-47-30_Side.fits\n",
      "unmatched_2022-08-19--13-48-09_Side.fits\n",
      "unmatched_2022-08-19--13-48-48_Side.fits\n",
      "unmatched_2022-08-19--13-49-27_Side.fits\n",
      "unmatched_2022-08-19--13-50-06_Side.fits\n",
      "unmatched_2022-08-19--13-50-44_Side.fits\n",
      "unmatched_2022-08-19--13-51-24_Side.fits\n",
      "unmatched_2022-08-19--13-52-02_Side.fits\n",
      "unmatched_2022-08-19--13-52-41_Side.fits\n",
      "unmatched_2022-08-19--13-53-20_Side.fits\n",
      "unmatched_2022-08-19--13-53-59_Side.fits\n",
      "unmatched_2022-08-19--13-54-38_Side.fits\n",
      "unmatched_2022-08-19--13-55-17_Side.fits\n",
      "unmatched_2022-08-19--13-55-55_Side.fits\n",
      "unmatched_2022-08-19--13-56-34_Side.fits\n",
      "unmatched_2022-08-19--13-57-13_Side.fits\n",
      "unmatched_2022-08-19--13-57-52_Side.fits\n",
      "unmatched_2022-08-19--13-58-31_Side.fits\n",
      "unmatched_2022-08-19--13-59-10_Side.fits\n",
      "unmatched_2022-08-19--13-59-48_Side.fits\n"
     ]
    }
   ],
   "source": [
    "# select folder\n",
    "folder_path = filedialog.askdirectory()\n",
    "\n",
    "print('Current folder: ' + current_folder)\n",
    "print('----------------------------------')\n",
    "\n",
    "# list all .fits files in the folder:\n",
    "if current_folder:\n",
    "    file_names = []\n",
    "    files_fullpath = glob.glob(folder_path + '/*.fits')\n",
    "    for f in files_fullpath:\n",
    "        name = f.split(folder_path)\n",
    "        file_names.append(str(name[1]).replace('\\\\',\"\")) # make list of file names\n",
    "        \n",
    "    for name in file_names: # print all file names\n",
    "        print(name)\n",
    "else:\n",
    "    print('No folder selected!')    \n",
    "    \n",
    "# load all the metadata:\n"
   ]
  },
  {
   "cell_type": "markdown",
   "id": "978971a1",
   "metadata": {},
   "source": [
    "# Li LF low mag"
   ]
  },
  {
   "cell_type": "markdown",
   "id": "5b1171fb",
   "metadata": {},
   "source": [
    "# Li HF hi mag"
   ]
  },
  {
   "cell_type": "markdown",
   "id": "025ef7ee",
   "metadata": {},
   "source": [
    "# Li HF Top Absorption"
   ]
  },
  {
   "cell_type": "markdown",
   "id": "6041d267",
   "metadata": {},
   "source": [
    "# Li HF Top Polarization Rotation"
   ]
  },
  {
   "cell_type": "code",
   "execution_count": null,
   "id": "3e0d3cff",
   "metadata": {},
   "outputs": [],
   "source": []
  }
 ],
 "metadata": {
  "kernelspec": {
   "display_name": "Python 3 (ipykernel)",
   "language": "python",
   "name": "python3"
  },
  "language_info": {
   "codemirror_mode": {
    "name": "ipython",
    "version": 3
   },
   "file_extension": ".py",
   "mimetype": "text/x-python",
   "name": "python",
   "nbconvert_exporter": "python",
   "pygments_lexer": "ipython3",
   "version": "3.9.13"
  }
 },
 "nbformat": 4,
 "nbformat_minor": 5
}
