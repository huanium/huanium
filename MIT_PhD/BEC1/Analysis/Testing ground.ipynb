{
 "cells": [
  {
   "cell_type": "code",
   "execution_count": 1,
   "id": "e4f327cc",
   "metadata": {},
   "outputs": [
    {
     "name": "stdout",
     "output_type": "stream",
     "text": [
      "('https://github.com/veit/jupyter-tutorial/', 224174)\n",
      "('https://jupyter-tutorial.readthedocs.io/en/latest/', 80213)\n",
      "('https://github.com/veit/pyviz-tutorial/', 195741)\n",
      "('https://pyviz-tutorial.readthedocs.io/de/latest/', 32709)\n",
      "('https://cusy.io/en', 30232)\n"
     ]
    }
   ],
   "source": [
    "import requests\n",
    "from multiprocessing import Pool\n",
    "\n",
    "sites = [\n",
    "    'https://github.com/veit/jupyter-tutorial/',\n",
    "    'https://jupyter-tutorial.readthedocs.io/en/latest/',\n",
    "    'https://github.com/veit/pyviz-tutorial/',\n",
    "    'https://pyviz-tutorial.readthedocs.io/de/latest/',\n",
    "    'https://cusy.io/en',\n",
    "]\n",
    "\n",
    "def sitesize(url):\n",
    "    with requests.get(url) as u:\n",
    "        return url, len(u.content)\n",
    "\n",
    "for result in map(sitesize, sites):\n",
    "    print(result)"
   ]
  },
  {
   "cell_type": "code",
   "execution_count": null,
   "id": "47d7d610",
   "metadata": {},
   "outputs": [],
   "source": []
  }
 ],
 "metadata": {
  "kernelspec": {
   "display_name": "Python 3 (ipykernel)",
   "language": "python",
   "name": "python3"
  },
  "language_info": {
   "codemirror_mode": {
    "name": "ipython",
    "version": 3
   },
   "file_extension": ".py",
   "mimetype": "text/x-python",
   "name": "python",
   "nbconvert_exporter": "python",
   "pygments_lexer": "ipython3",
   "version": "3.9.13"
  }
 },
 "nbformat": 4,
 "nbformat_minor": 5
}
