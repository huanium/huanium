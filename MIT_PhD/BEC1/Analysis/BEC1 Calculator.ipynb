{
 "cells": [
  {
   "cell_type": "markdown",
   "id": "fc1b05b4",
   "metadata": {
    "heading_collapsed": true
   },
   "source": [
    "#  <font color='black'>Notes</font>"
   ]
  },
  {
   "cell_type": "markdown",
   "id": "eef196db",
   "metadata": {
    "hidden": true
   },
   "source": [
    "Author: Huan Q. Bui\n",
    "\n",
    "Affiliation: Massachusetts Institute of Technology,\n",
    "             BEC1 Ultracold Quantum Gases experiment\n",
    "             \n",
    "PI: Professor Martin Zwierlein\n",
    "\n",
    "First updated: Feb 07, 2023\n",
    "\n",
    "Last updated: 10:47 pm, Feb 23, 2023\n",
    "\n",
    "To do:\n",
    "- Fitting RF data: working for now! But will test more rigorously :)\n",
    "- Na BEC fitting\n",
    "- Na BEC counting\n",
    "- Li MT LF thermometry\n",
    "- Polarization rotating imaging analysis"
   ]
  },
  {
   "cell_type": "markdown",
   "id": "28ef2da4",
   "metadata": {
    "heading_collapsed": true
   },
   "source": [
    "#  <font color='black'>Setting up</font>"
   ]
  },
  {
   "cell_type": "markdown",
   "id": "05e01da4",
   "metadata": {
    "heading_collapsed": true,
    "hidden": true
   },
   "source": [
    "##  <font color=#399FD5>Collapsible Headings and Requirements</font>"
   ]
  },
  {
   "cell_type": "markdown",
   "id": "ff1422a2",
   "metadata": {
    "hidden": true
   },
   "source": [
    "Run the following commands in anaconda prompt to install a graphical interface for configuring collapsible headings and other extentions/plugins from within the notebooks:\n",
    "\n",
    "pip install jupyter_contrib_nbextensions\n",
    "\n",
    "jupyter contrib nbextension install --user\n",
    "\n",
    "jupyter nbextensions_configurator enable --user\n",
    "\n",
    "Once done, go to Jupyter notebook --> Nbextensions --> check the \"Collapsible Headings\" box"
   ]
  },
  {
   "cell_type": "markdown",
   "id": "54c4e9be",
   "metadata": {
    "heading_collapsed": true,
    "hidden": true
   },
   "source": [
    "## <font color=#399FD5>Imports</font>"
   ]
  },
  {
   "cell_type": "code",
   "execution_count": 1,
   "id": "4d2253dc",
   "metadata": {
    "hidden": true
   },
   "outputs": [],
   "source": [
    "from tkinter import Tk\n",
    "from tkinter import filedialog # for prompting user to set analysis folder\n",
    "import glob\n",
    "import json\n",
    "from astropy.io import fits\n",
    "import numpy as np\n",
    "import matplotlib.pyplot as plt\n",
    "import matplotlib.patches as patches\n",
    "import os\n",
    "import scipy\n",
    "from scipy.optimize import fsolve\n",
    "import pandas as pd\n",
    "from tqdm import tqdm\n",
    "from joblib import Parallel, delayed\n",
    "import math\n",
    "import cython\n",
    "import numba"
   ]
  },
  {
   "cell_type": "markdown",
   "id": "9c5e9bc9",
   "metadata": {
    "heading_collapsed": true,
    "hidden": true
   },
   "source": [
    "## <font color=#399FD5>Suppress Warnings</font>"
   ]
  },
  {
   "cell_type": "code",
   "execution_count": 84,
   "id": "65376db9",
   "metadata": {
    "hidden": true
   },
   "outputs": [],
   "source": [
    "import warnings\n",
    "warnings.filterwarnings('ignore')"
   ]
  },
  {
   "cell_type": "markdown",
   "id": "8b43d457",
   "metadata": {
    "heading_collapsed": true,
    "hidden": true
   },
   "source": [
    "## <font color=#399FD5>Constants</font>"
   ]
  },
  {
   "cell_type": "code",
   "execution_count": 2,
   "id": "83028873",
   "metadata": {
    "hidden": true
   },
   "outputs": [],
   "source": [
    "ABSORPTION_LIMIT = 7.0\n",
    "SPECIAL_CHARACTERS = \"!@#$%^&*()-+?_=,<>/\"\n",
    "\n",
    "# physics constants\n",
    "hbar = 1.05457182*10**(-34) # Js\n",
    "\n",
    "# Lithium constants\n",
    "mLi6 = 9.9883414*10**(-27) # kg\n",
    "Li6D2Gamma = 5.8724 # MHz. Note that this is NOT angular freq\n",
    "Li6D2lambda0 = 670.977338*10**(-9) # meters\n",
    "Li6D2sigma0 = 3*(Li6D2lambda0)**2/(2*np.pi)\n",
    "\n",
    "# Sodium constants\n",
    "mNa23 = 0.381754035*10**(-25) # kg "
   ]
  },
  {
   "cell_type": "markdown",
   "id": "ef33df1f",
   "metadata": {
    "heading_collapsed": true
   },
   "source": [
    "# Utility functions"
   ]
  },
  {
   "cell_type": "markdown",
   "id": "60f0c90e",
   "metadata": {
    "heading_collapsed": true,
    "hidden": true
   },
   "source": [
    "## <font color=#399FD5>Get run parameters</font>"
   ]
  },
  {
   "cell_type": "code",
   "execution_count": 3,
   "id": "5dcdcedd",
   "metadata": {
    "hidden": true
   },
   "outputs": [],
   "source": [
    "def get_run_param_from_filename(folder_path, current_file_fullpath, metadata_dict = dict(), param = ''):\n",
    "    '''\n",
    "    get a single parameter value from a file, if metadata)dict exists:\n",
    "    '''\n",
    "    param_for_filename = 0\n",
    "    name = str(current_file_fullpath.split(folder_path)[1]).replace('\\\\',\"\")\n",
    "    run_id = name.split('_')[0]\n",
    "    run_id = \"\".join(ch for ch in run_id if ch.isalnum() ) # extract run_id out of folder name\n",
    "    # get params for this run_id\n",
    "    if bool(metadata_dict):\n",
    "        params_for_run_id = metadata_dict[run_id]\n",
    "        param_for_filename = params_for_run_id[param]\n",
    "    return param_for_filename"
   ]
  },
  {
   "cell_type": "code",
   "execution_count": 4,
   "id": "006c0e8d",
   "metadata": {
    "hidden": true
   },
   "outputs": [],
   "source": [
    "def get_run_params_for_data_frame(folder_path, metadata_dict = dict(), params = []):\n",
    "    '''\n",
    "    params: list of param names [p1,p2,...]\n",
    "    returns a dictionary of the form {p1: [], p2: [],...}\n",
    "    '''\n",
    "    params_for_folder = dict() # this is a dict() of lists\n",
    "    # initial params_for_folder:\n",
    "    if params != []:\n",
    "        for p in params:\n",
    "            params_for_folder[p] = []\n",
    "    if bool(metadata_dict): \n",
    "        for f in sorted(glob.glob(folder_path + '/*.fits')): # for every fits file in folder\n",
    "            name = str(f.split(folder_path)[1]).replace('\\\\',\"\")\n",
    "            run_id = name.split('_')[0] \n",
    "            run_id = \"\".join(ch for ch in run_id if ch.isalnum() )\n",
    "            # get params for this run_id\n",
    "            params_for_run_id = metadata_dict[run_id]\n",
    "            for k in params_for_folder.keys():\n",
    "                params_for_folder[k].append(params_for_run_id[k])\n",
    "                \n",
    "    return params_for_folder\n",
    "\n",
    "### EXAMPLE CODE: ####\n",
    "# params = get_run_params(folder_path, params = ['LFImgFreq', 'SideGreenEvap', 'IREvap'])"
   ]
  },
  {
   "cell_type": "markdown",
   "id": "cdaf8248",
   "metadata": {
    "heading_collapsed": true,
    "hidden": true
   },
   "source": [
    "## <font color=#399FD5>Initialize data frame</font>"
   ]
  },
  {
   "cell_type": "code",
   "execution_count": 5,
   "id": "2c2ded77",
   "metadata": {
    "hidden": true
   },
   "outputs": [],
   "source": [
    "def init_dataframe_metadata_and_exp_params(optional_parameter_list = []):\n",
    "    \n",
    "    folder_path = filedialog.askdirectory()\n",
    "    metadata_dict = dict()\n",
    "    experiment_parameters_dict = dict()\n",
    "    \n",
    "    # load metadata if avalable:\n",
    "    metadata_fullpath_load_status = False\n",
    "    metadata_fullpath = folder_path + \"/run_params_dump.json\"\n",
    "    if os.path.isfile(metadata_fullpath):\n",
    "        metadata_fullpath_load_status = True\n",
    "        with open(metadata_fullpath, 'r') as json_file:\n",
    "            metadata_dict = json.load(json_file)  \n",
    "\n",
    "    # load experiment_parameters if avaiable:\n",
    "    experiment_parameters_fullpath_load_status = False\n",
    "    experiment_parameters_fullpath = folder_path + \"/experiment_parameters.json\"\n",
    "    if os.path.isfile(experiment_parameters_fullpath):\n",
    "        experiment_parameters_fullpath_load_status = True\n",
    "        with open(experiment_parameters_fullpath, 'r') as json_file:\n",
    "            experiment_parameters_dict = json.load(json_file)  \n",
    "            \n",
    "    # construct data frame with full paths:\n",
    "    image_list = sorted(glob.glob(folder_path + '/*.fits'))\n",
    "    data_frame = pd.DataFrame(data = {'fullpaths' : image_list})\n",
    "    # add good/bad shot status to dataframe... will modify later if necessary:\n",
    "    data_frame['good_shot'] = [True for i in range(len(image_list))]\n",
    "    \n",
    "    # get file names for readability and attach to data frame:\n",
    "    # also get image type: TopA, TopB, Side\n",
    "    run_ids = []\n",
    "    image_type = []\n",
    "    ImagFreq1 = []\n",
    "    ImagFreq2 = []\n",
    "    LFImgFreq = []\n",
    "    for f in tqdm(image_list):\n",
    "        # add run_id\n",
    "        name = str(f.split(folder_path)[1]).replace('\\\\',\"\")\n",
    "        run_id = name.split('_')[0] \n",
    "        run_id = \"\".join(ch for ch in run_id if ch.isalnum() )\n",
    "        run_ids.append(run_id)\n",
    "\n",
    "        # add image type\n",
    "        if 'TopA' in name:\n",
    "            image_type.append('TopA')\n",
    "        elif 'TopB' in name:\n",
    "            image_type.append('TopB')\n",
    "        elif 'Side' in name:\n",
    "            image_type.append('Side')\n",
    "\n",
    "        # add ImagFreq, only if metadata_dict is available:\n",
    "        if bool(metadata_dict):\n",
    "            ImagFreq1.append(get_run_param_from_filename(folder_path, f, metadata_dict, 'ImagFreq1'))\n",
    "            ImagFreq2.append(get_run_param_from_filename(folder_path, f, metadata_dict, 'ImagFreq2'))\n",
    "            LFImgFreq.append(get_run_param_from_filename(folder_path, f, metadata_dict, 'LFImgFreq'))\n",
    "                    \n",
    "    data_frame['run_id'] = run_ids\n",
    "    data_frame['image_type'] = image_type\n",
    "    if bool(metadata_dict):\n",
    "        data_frame['ImagFreq1'] = ImagFreq1\n",
    "        data_frame['ImagFreq2'] = ImagFreq2\n",
    "        data_frame['LFImgFreq'] = LFImgFreq\n",
    "    \n",
    "    # add relevant parameters to dataframe... can always add more later:\n",
    "    run_params = get_run_params_for_data_frame(folder_path, metadata_dict, optional_parameter_list)\n",
    "    # add data to dataframe:\n",
    "    if bool(run_params):\n",
    "        for param in run_params.keys():\n",
    "            data_frame[param] = run_params[param]\n",
    "    \n",
    "    ##################################################\n",
    "    ############## PRINT OUT STATUS ##################\n",
    "    ##################################################\n",
    "\n",
    "    print('Current folder: ' + folder_path)\n",
    "    if metadata_fullpath_load_status:\n",
    "        print('Metadata loaded')\n",
    "    else:\n",
    "        print('No metadata to load') \n",
    "    if experiment_parameters_fullpath_load_status:\n",
    "        print('Experiment parameters loaded')\n",
    "    else:\n",
    "        print('No experiment parameters to load')\n",
    "    print('Data frame initialized!')\n",
    "\n",
    "    return (data_frame, metadata_dict, experiment_parameters_dict)"
   ]
  },
  {
   "cell_type": "markdown",
   "id": "db70e83a",
   "metadata": {
    "heading_collapsed": true,
    "hidden": true
   },
   "source": [
    "## <font color=#399FD5>Display image</font>"
   ]
  },
  {
   "cell_type": "code",
   "execution_count": 6,
   "id": "2bd89fb6",
   "metadata": {
    "hidden": true
   },
   "outputs": [],
   "source": [
    "# function for safely handling subtractions...\n",
    "# Credit: Eric A. Wolf, BEC1@MIT, 2022. \n",
    "\n",
    "def safe_subtract(x, y, minimum_cast = np.byte):\n",
    "    newtype = np.result_type(x, y, minimum_cast)\n",
    "    return x.astype(newtype) - y.astype(newtype)"
   ]
  },
  {
   "cell_type": "code",
   "execution_count": 104,
   "id": "148967aa",
   "metadata": {
    "hidden": true
   },
   "outputs": [],
   "source": [
    "# display an image given folder_path, run_id, ROI, and frame_type:\n",
    "def display_image(current_file_fullpath, ROI, norm_box, \n",
    "                  frame_type = 'FakeOD', min_scale=0, max_scale=1.3, brightness=12):\n",
    "    # set up figure\n",
    "    fig, ax = plt.subplots()\n",
    "    \n",
    "    # read image\n",
    "    fits_image = fits.open(current_file_fullpath)\n",
    "    # fits_image.info() # display fits image info\n",
    "    img = fits_image[0].data\n",
    "    fits_image.close()\n",
    "\n",
    "    # get dims of image\n",
    "    dims = img[0,:,:].shape \n",
    "    x_limit = dims[1]\n",
    "    y_limit = dims[0]\n",
    "\n",
    "    # then show image:\n",
    "    if frame_type == 'OD':\n",
    "        frame = (-np.log(safe_subtract(img[0,:,:], img[2,:,:])/safe_subtract(img[1,:,:], img[2,:,:])))\n",
    "        # clean image: using nan_to_num\n",
    "        frame = np.nan_to_num(frame, nan=ABSORPTION_LIMIT)\n",
    "        # fix clipping\n",
    "        frame = np.clip(frame, 0, ABSORPTION_LIMIT)\n",
    "        ax.imshow(frame, cmap='gray', vmin=0, vmax=2**15).set_clim(min_scale, max_scale)\n",
    "        ax.invert_yaxis()\n",
    "\n",
    "    else:\n",
    "        if frame_type == 'FakeOD':\n",
    "            frame = (safe_subtract(img[0,:,:], img[2,:,:])/safe_subtract(img[1,:,:], img[2,:,:]))\n",
    "            # clean image: using nan_to_num\n",
    "            frame = np.nan_to_num(frame)\n",
    "            # fix clipping\n",
    "            frame = np.clip(frame, 0, ABSORPTION_LIMIT)\n",
    "            ax.imshow(frame, cmap='gray', vmin=0, vmax=2**15).set_clim(min_scale, max_scale)\n",
    "            ax.invert_yaxis()\n",
    "        else:\n",
    "            if frame_type == 'With atoms':\n",
    "                frame = img[0,:,:]\n",
    "                # clean image: using nan_to_num\n",
    "                frame = np.nan_to_num(frame)\n",
    "                ax.imshow(frame, cmap='gray', vmin=0, vmax=2**brightness)  # need to adjust gray scale/colormap here with BRIGHTNESS variable\n",
    "                ax.invert_yaxis()\n",
    "            elif frame_type == 'Without atoms':\n",
    "                frame = img[1,:,:]\n",
    "                # clean image: using nan_to_num\n",
    "                frame = np.nan_to_num(frame)\n",
    "                ax.imshow(frame, cmap='gray', vmin=0, vmax=2**brightness)  # need to adjust gray scale/colormap here with BRIGHTNESS variable\n",
    "                ax.invert_yaxis()\n",
    "            elif frame_type == 'Dark':\n",
    "                frame = img[2,:,:]\n",
    "                # clean image: using nan_to_num\n",
    "                frame = np.nan_to_num(frame)\n",
    "                ax.imshow(frame, cmap='gray', vmin=0, vmax=2**brightness)  # need to adjust gray scale/colormap here with BRIGHTNESS variable\n",
    "                ax.invert_yaxis()\n",
    "            else:\n",
    "                frame = (-np.log(safe_subtract(img[0,:,:], img[2,:,:])/safe_subtract(img[1,:,:], img[2,:,:])))\n",
    "                # clean image: using nan_to_num\n",
    "                frame = np.nan_to_num(frame)\n",
    "                ax.imshow(frame, cmap='gray', vmin=0, vmax=2**15).set_clim(min_scale, max_scale)\n",
    "                ax.invert_yaxis()\n",
    "                \n",
    "    # Create a roi patch\n",
    "    width = abs(int(ROI[1]) - int(ROI[0]))\n",
    "    height = abs(int(ROI[3]) - int(ROI[2]))\n",
    "    xmin = min(int(ROI[0]), int(ROI[1]))\n",
    "    ymin = min(int(ROI[2]), int(ROI[3]))\n",
    "    roi = patches.Rectangle((xmin, ymin), \n",
    "                             width, \n",
    "                             height, \n",
    "                             linewidth=1, \n",
    "                             edgecolor='r', \n",
    "                             facecolor='none')\n",
    "    # Add the ROI to the Axes\n",
    "    ax.add_patch(roi)\n",
    "    \n",
    "    # Create a norm_box patch\n",
    "    width_norm = abs(int(norm_box[1]) - int(norm_box[0]))\n",
    "    height_norm = abs(int(norm_box[3]) - int(norm_box[2]))\n",
    "    xmin_norm = min(int(norm_box[0]), int(norm_box[1]))\n",
    "    ymin_norm = min(int(norm_box[2]), int(norm_box[3]))\n",
    "    \n",
    "    norm_roi = patches.Rectangle((xmin_norm, ymin_norm), \n",
    "                             width_norm, \n",
    "                             height_norm, \n",
    "                             linewidth=1, \n",
    "                             edgecolor='g', \n",
    "                             facecolor='none')\n",
    "    # Add the ROI to the Axes\n",
    "    ax.add_patch(roi)\n",
    "    ax.add_patch(norm_roi)   \n",
    "    \n",
    "    # add center of ROI box to image:\n",
    "    ROI_center = [(ROI[2] + ROI[3])//2, (ROI[0] + ROI[1])//2]\n",
    "    ax.scatter([ROI_center[1]],[ROI_center[0]], marker='.', color = 'red', s=1)\n",
    "    \n",
    "    # show everything\n",
    "    plt.show()\n",
    "                \n",
    "    return (fig, ax)"
   ]
  },
  {
   "cell_type": "markdown",
   "id": "0c56e0f5",
   "metadata": {
    "heading_collapsed": true,
    "hidden": true
   },
   "source": [
    "## <font color=#399FD5>Add Background-subtracted ROI to dataframe</font>"
   ]
  },
  {
   "cell_type": "code",
   "execution_count": 8,
   "id": "487b00dd",
   "metadata": {
    "hidden": true
   },
   "outputs": [],
   "source": [
    "def get_fakeOD_cropped(current_file_fullpath, ROI, norm_box):\n",
    "    # read image\n",
    "    fits_image = fits.open(current_file_fullpath)\n",
    "    img = fits_image[0].data\n",
    "    fits_image.close()\n",
    "    # get fakeOD image and crop it\n",
    "    fakeOD = safe_subtract(img[0,:,:], img[2,:,:])/safe_subtract(img[1,:,:], img[2,:,:])\n",
    "    # clean fakeOD?\n",
    "    fakeOD = fakeOD.astype(np.float)\n",
    "    ROI_cropped_from_fakeOD = fakeOD[ROI[2]:ROI[3], ROI[0]:ROI[1]] \n",
    "    norm_box_cropped_from_fakeOD = fakeOD[norm_box[2]:norm_box[3], norm_box[0]:norm_box[1]] \n",
    "    \n",
    "    norm_box_area = abs(norm_box[3] - norm_box[2])*abs(norm_box[1] - norm_box[0])\n",
    "    norm_fakeOD_avg = sum(sum(norm_box_cropped_from_fakeOD))/norm_box_area\n",
    "    # basically set fakeOD of background to 1\n",
    "    ROI_cropped_from_fakeOD = ROI_cropped_from_fakeOD/norm_fakeOD_avg\n",
    "    \n",
    "    return ROI_cropped_from_fakeOD"
   ]
  },
  {
   "cell_type": "code",
   "execution_count": 9,
   "id": "f2c11486",
   "metadata": {
    "hidden": true
   },
   "outputs": [],
   "source": [
    "def add_backgroud_subtracted_ROI_to_dataframe(df, ROI, norm_box):\n",
    "    fake_od_background_subtracted_roi = []\n",
    "    for index, row in tqdm(df.iterrows(), total=df.shape[0]):\n",
    "        file_name = row['fullpaths']\n",
    "        fake_od_background_subtracted_roi.append(get_fakeOD_cropped(file_name, ROI, norm_box))\n",
    "    df['fakeOD_roi'] = fake_od_background_subtracted_roi\n",
    "    return df"
   ]
  },
  {
   "cell_type": "markdown",
   "id": "dd38da8c",
   "metadata": {
    "heading_collapsed": true,
    "hidden": true
   },
   "source": [
    "## <font color=#399FD5>Pixel summing</font>"
   ]
  },
  {
   "cell_type": "code",
   "execution_count": 10,
   "id": "70aa6ab7",
   "metadata": {
    "hidden": true
   },
   "outputs": [],
   "source": [
    "def get_pixel_sum_single_image(current_file_fullpath, ROI, norm_box):\n",
    "    # read image\n",
    "    fits_image = fits.open(current_file_fullpath)\n",
    "    img = fits_image[0].data\n",
    "    fits_image.close()\n",
    "\n",
    "    # get od image, crop, and sum\n",
    "    od = (-np.log(safe_subtract(img[0,:,:], img[2,:,:])/safe_subtract(img[1,:,:], img[2,:,:])))\n",
    "    # now clean od:\n",
    "    od = np.nan_to_num(od)\n",
    "    # fix clipping\n",
    "    od = np.clip(od, 0, ABSORPTION_LIMIT)\n",
    "    od = od.astype(np.float)\n",
    "    od_cropped = od[ROI[2]:ROI[3], ROI[0]:ROI[1]] # just OD, but cropped\n",
    "    norm_od = od[norm_box[2]:norm_box[3], norm_box[0]:norm_box[1]]\n",
    "    \n",
    "    od_cropped_area = abs(ROI[3] - ROI[2])*abs(ROI[1] - ROI[0])\n",
    "    norm_od_area = abs(norm_box[3] - norm_box[2])*abs(norm_box[1] - norm_box[0])\n",
    "    \n",
    "    return sum(sum(od_cropped)) - sum(sum(norm_od*od_cropped_area/norm_od_area))"
   ]
  },
  {
   "cell_type": "code",
   "execution_count": 11,
   "id": "bb8c9360",
   "metadata": {
    "hidden": true
   },
   "outputs": [],
   "source": [
    "def add_pixel_sums_to_data_frame(df, ROI, norm_box, column_name = 'pixel_sum'):\n",
    "    pixel_sums = []\n",
    "    for f in tqdm(df['fullpaths']):\n",
    "        pixel_sums.append(get_pixel_sum_single_image(f, ROI, norm_box))          \n",
    "        \n",
    "    # update dataframe:\n",
    "    df[column_name] = pixel_sums\n",
    "    return df"
   ]
  },
  {
   "cell_type": "markdown",
   "id": "ffe3864f",
   "metadata": {
    "heading_collapsed": true,
    "hidden": true
   },
   "source": [
    "## <font color=#399FD5>Get atom densities from absorption images</font>"
   ]
  },
  {
   "cell_type": "markdown",
   "id": "3faaa569",
   "metadata": {
    "hidden": true
   },
   "source": [
    "Some theory for atom counting. The 2D atom density, including the effect of saturation, is given by \n",
    "\n",
    "$n_{2d}(x,y) = \\int n_{3d}(x,y,z)\\,dz = -\\frac{1+I/I_\\text{sat}(\\omega)}{\\sigma(\\omega)} \\ln \\frac{I_f}{I_0} = \\frac{1+s\\sigma(\\omega)/\\sigma_0}{\\sigma(\\omega)} \\times \\text{OD}, $ \n",
    "\n",
    "where $\\kappa(\\omega, I) = \\frac{n_{2d} \\sigma(\\omega)}{1 + I / I_\\text{sat}(\\omega)}$ is the absorption coefficient, \n",
    "$\\sigma(\\omega) = \\sigma_0 \\frac{\\Gamma^2/4}{(\\omega-\\omega_0)^2 + \\Gamma^2/4}$, and $\\sigma_0 = \\frac{3\\lambda_0^2}{2\\pi}$.\n",
    "\n",
    "So, after the fit has been done, we know $\\omega_0$ and $s$. Since $\\sigma_0$ is known, we can calculate $(1+s \\sigma(\\omega)/\\sigma_0)/\\sigma(\\omega)$ for every shot. From here, we can obtain $n_{2d}$ from knowing the OD (which comes from the image). Finally, to obtain the atom number, we just multiply the atom density $n_{2d}$ by the pixel size and integrate over the entire image to get $N$. \n",
    "\n",
    "Notice that we have not considered the fact that for (nearly) blacked out clouds the saturation parameter changes as a function of the line of integration. How might we take this into account? Consider the Beer-Lambert law, which says \n",
    "\n",
    "$ \\frac{dI}{I} = -\\kappa(I, \\omega) \\,dz = -n\\sigma_0 \\frac{\\Gamma^2/4}{\\delta^2 + (1+s)\\Gamma^2/4} \\,dz \\implies \\int_{s_0}^{s_f} \\frac{1}{s} \\frac{\\Gamma^2/4}{\\delta^2 + (1+s)\\Gamma^2/4} \\,ds =  -n_{2d}\\sigma_0 $.\n",
    "\n",
    "where we have made the substitution $I \\to s I_\\text{sat},  I_0 \\to s_0 I_\\text{sat}, I_f \\to s_f I_\\text{sat}$ and integrated both sides, simplifying the integrand, we find that\n",
    "\n",
    "$-n_{2d} \\sigma_0 =  \\int_{s_0}^{s_f} 1 + \\frac{1 + 4\\delta^2/\\Gamma^2}{s}\\,ds = (s_f - s_0) + \\left( 1 + \\frac{4\\delta^2}{\\Gamma^2} \\right)\\ln \\frac{s_f}{s_0}.$\n",
    "\n",
    "From here, the atom density is readily found:\n",
    "\n",
    "$\\boxed{n_{2d} = -\\frac{1}{\\sigma_0} \\left[ \\left( 1 + \\frac{4\\delta^2}{\\Gamma^2} \\right) \\ln \\frac{I_f}{I_0} +  \\frac{I_f - I_0}{I_\\text{sat}}\\right] =  \\frac{1}{\\sigma_0} \\left( 1 + \\frac{4\\delta^2}{\\Gamma^2} \\right) \\times od  -\\frac{1}{\\sigma_0} \\frac{I_f - I_0}{I_\\text{sat}} = \\frac{od}{\\sigma(\\omega)}  -\\frac{1}{\\sigma_0} \\frac{I_f - I_0}{I_\\text{sat}} } $\n",
    "\n",
    "One final thing: how do we obtain $I_\\text{sat}$? There are several ways to do this, but one way is to obtain the saturation parameter $s$ from the imaging resonance curve fit, and then take the without atom shot and divide it by $s$ to get an approximation for $I_\\text{sat}$."
   ]
  },
  {
   "cell_type": "code",
   "execution_count": 12,
   "id": "82b2c33f",
   "metadata": {
    "hidden": true
   },
   "outputs": [],
   "source": [
    "def get_density_abs_single_image(current_file_fullpath, ROI, norm_box, sigma0, sigma, s):\n",
    "    # read image\n",
    "    fits_image = fits.open(current_file_fullpath)\n",
    "    img = fits_image[0].data\n",
    "    fits_image.close()\n",
    "\n",
    "    # get od image, crop, and sum\n",
    "    od = (-np.log(safe_subtract(img[0,:,:], img[2,:,:])/safe_subtract(img[1,:,:], img[2,:,:])))\n",
    "    # now clean od\n",
    "    od = np.nan_to_num(od)\n",
    "    # fix clipping\n",
    "    od = np.clip(od, 0, ABSORPTION_LIMIT)\n",
    "    od = od.astype(np.float)\n",
    "    od_cropped = od[ROI[2]:ROI[3], ROI[0]:ROI[1]] # just OD, but cropped\n",
    "    norm_od = od[norm_box[2]:norm_box[3], norm_box[0]:norm_box[1]]\n",
    "    \n",
    "    norm_od_area = abs(norm_box[3] - norm_box[2])*abs(norm_box[1] - norm_box[0])\n",
    "    # find average in norm_od:\n",
    "    norm_od_avg = sum(sum(norm_od))/norm_od_area\n",
    "    \n",
    "    # now background subtract to get od_cropped:\n",
    "    od_cropped = od_cropped - norm_od_avg\n",
    "    \n",
    "    # Isat will be approximately the Intensity WOA divided by saturation parameter s\n",
    "    Isat = img[1,:,:].astype(np.float)/s\n",
    "    \n",
    "    # ic is (WA - WOA)/Isat/sigma0\n",
    "    ic = (safe_subtract(img[0,:,:], img[1,:,:])/Isat)/sigma0\n",
    "    ic = np.nan_to_num(ic)\n",
    "    ic_cropped = ic[ROI[2]:ROI[3], ROI[0]:ROI[1]] # just ic, but cropped\n",
    "    \n",
    "    # n2D = od/sigma(omega), naively, assuming saturation is constant across the cloud\n",
    "    n2D = od_cropped/sigma - ic_cropped\n",
    "    \n",
    "    return n2D"
   ]
  },
  {
   "cell_type": "code",
   "execution_count": 13,
   "id": "7b3b87e0",
   "metadata": {
    "hidden": true
   },
   "outputs": [],
   "source": [
    "def add_atom_densities_abs_to_data_frame_Side(df, ROI, norm_box, \n",
    "                                             sigma0 = Li6D2sigma0,\n",
    "                                             Gamma = Li6D2Gamma, \n",
    "                                             s = 0, \n",
    "                                             omega0 = 0,\n",
    "                                             AOM_factor = -2):\n",
    "    \n",
    "    # for now handle saturation parameter separately from data frame\n",
    "    '''\n",
    "    s: saturation parameters, default to 0\n",
    "    Assumes that df already has 'ImagFreq1' and 'ImagFreq2'\n",
    "    '''\n",
    "    n2d = []\n",
    "    for index, row in tqdm(df.iterrows(), total=df.shape[0]):\n",
    "        file_name = row['fullpaths']\n",
    "        sigma = sigma0 * (Gamma**2/4) / ( (AOM_factor*(omega0 - row['LFImgFreq']))**2 + Gamma**2/4 )\n",
    "        n2d.append(get_density_abs_single_image(file_name, ROI, norm_box, sigma0, sigma, s))\n",
    "        \n",
    "    df['atom_density'] = n2d\n",
    "    \n",
    "    return df"
   ]
  },
  {
   "cell_type": "code",
   "execution_count": 14,
   "id": "590f4f65",
   "metadata": {
    "hidden": true
   },
   "outputs": [],
   "source": [
    "def add_atom_densities_abs_to_data_frame_TopAB(df, ROI, norm_box, \n",
    "                                         sigma0 = Li6D2sigma0,\n",
    "                                         Gamma = Li6D2Gamma, \n",
    "                                         s_A = 0, s_B = 0,\n",
    "                                         omega0_A = 0, omega0_B = 0,\n",
    "                                         AOM_factor = -2):\n",
    "    \n",
    "    # for now handle saturation parameter separately from data frame\n",
    "    '''\n",
    "    s_A, s_B: saturation parameters, default to 0\n",
    "    Assumes that df already has 'ImagFreq1' and 'ImagFreq2'\n",
    "    '''\n",
    "    # since imaging from top is not along quantization axis, cross section is reduced by 2\n",
    "    top_imaging_factor = 0.5\n",
    "    sigma0 = sigma0 * top_imaging_factor\n",
    "    \n",
    "    n2d = []\n",
    "    for index, row in tqdm(df.iterrows(), total=df.shape[0]):\n",
    "        file_name = row['fullpaths']\n",
    "        if row['image_type'] == 'TopA':\n",
    "            sigma = sigma0 * (Gamma**2/4) / ((AOM_factor*(omega0_A - row['ImagFreq1']))**2 + Gamma**2/4 )\n",
    "            n2d.append(get_density_abs_single_image(file_name, ROI, norm_box, sigma0, sigma, s_A))\n",
    "        elif row['image_type'] == 'TopB':\n",
    "            sigma = sigma0 * (Gamma**2/4) / ((AOM_factor*(omega0_B - row['ImagFreq2']))**2 + Gamma**2/4 )\n",
    "            n2d.append(get_density_abs_single_image(file_name, ROI, norm_box, sigma0, sigma, s_B))\n",
    "        else:\n",
    "            print('NOT YET SUPPORTED!')\n",
    "            \n",
    "    df['atom_density'] = n2d\n",
    "    return df"
   ]
  },
  {
   "cell_type": "markdown",
   "id": "c36162c5",
   "metadata": {
    "heading_collapsed": true,
    "hidden": true
   },
   "source": [
    "## <font color=#399FD5>Polarization Rotation Imaging Functions</font>"
   ]
  },
  {
   "cell_type": "code",
   "execution_count": 41,
   "id": "20f96c82",
   "metadata": {
    "hidden": true
   },
   "outputs": [],
   "source": [
    "@numba.jit(nopython=True, cache=True)\n",
    "def polrot_equations(actual_ods, *params):\n",
    "        \n",
    "    od0_1, od0_2 = actual_ods    \n",
    "    observed_fakeOD_A, observed_fakeOD_B, detuning_A_1, detuning_A_2, detuning_B_1, detuning_B_2, phase_sign, Li6D2Gamma = params\n",
    "    \n",
    "    odA_1 = od0_1 / (1 + pow(2*detuning_A_1/Li6D2Gamma,2))\n",
    "    odA_2 = od0_2 / (1 + pow(2*detuning_A_2/Li6D2Gamma,2))\n",
    "    odB_1 = od0_1 / (1 + pow(2*detuning_B_1/Li6D2Gamma,2))\n",
    "    odB_2 = od0_2 / (1 + pow(2*detuning_B_2/Li6D2Gamma,2))\n",
    "    \n",
    "    aA = math.exp( -(odA_1 + odA_2)/2.0)\n",
    "    aB = math.exp( -(odB_1 + odB_2)/2.0)\n",
    "    phiA = phase_sign*(-detuning_A_1*odA_1 - detuning_A_2*odA_2)/Li6D2Gamma\n",
    "    phiB = phase_sign*(-detuning_B_1*odB_1 - detuning_B_2*odB_2)/Li6D2Gamma\n",
    "    \n",
    "    return ( (1/2 + aA**2/2) - aA*math.sin(phiA) - observed_fakeOD_A, \n",
    "             (1/2 + aB**2/2) - aB*math.sin(phiB) - observed_fakeOD_B )"
   ]
  },
  {
   "cell_type": "code",
   "execution_count": 16,
   "id": "1306f205",
   "metadata": {
    "hidden": true
   },
   "outputs": [],
   "source": [
    "# for parallel processing\n",
    "import contextlib\n",
    "import joblib\n",
    "\n",
    "@contextlib.contextmanager\n",
    "def tqdm_joblib(tqdm_object):\n",
    "    \"\"\"Context manager to patch joblib to report into tqdm progress bar given as argument\"\"\"\n",
    "    class TqdmBatchCompletionCallback(joblib.parallel.BatchCompletionCallBack):\n",
    "        def __call__(self, *args, **kwargs):\n",
    "            tqdm_object.update(n=self.batch_size)\n",
    "            return super().__call__(*args, **kwargs)\n",
    "\n",
    "    old_batch_callback = joblib.parallel.BatchCompletionCallBack\n",
    "    joblib.parallel.BatchCompletionCallBack = TqdmBatchCompletionCallback\n",
    "    try:\n",
    "        yield tqdm_object\n",
    "    finally:\n",
    "        joblib.parallel.BatchCompletionCallBack = old_batch_callback\n",
    "        tqdm_object.close()"
   ]
  },
  {
   "cell_type": "code",
   "execution_count": 34,
   "id": "2e371cb7",
   "metadata": {
    "hidden": true
   },
   "outputs": [],
   "source": [
    "def process(i, fake_OD_roi_A, fake_OD_roi_B, detuning_A_1, detuning_A_2, detuning_B_1, detuning_B_2, polrot_phase_sign, height, width):   \n",
    "    \n",
    "    # prepare od0_1 and od0_2:\n",
    "    od0_1 = np.empty([height, width])\n",
    "    od0_2 = np.empty([height, width])\n",
    "    \n",
    "    # now process:\n",
    "    for h in range(height):\n",
    "        for w in range(width):\n",
    "            od0_1[h][w], od0_2[h][w] =  fsolve(polrot_equations, \n",
    "                                               (0,0), # this is a fakeOD guess \n",
    "                                               args = (fake_OD_roi_A[i][h][w], \n",
    "                                                       fake_OD_roi_B[i][h][w], \n",
    "                                                       detuning_A_1, \n",
    "                                                       detuning_A_2, \n",
    "                                                       detuning_B_1, \n",
    "                                                       detuning_B_2,\n",
    "                                                       polrot_phase_sign,\n",
    "                                                       Li6D2Gamma),\n",
    "                                               xtol=1e-09, \n",
    "                                               maxfev=1000)\n",
    "    return od0_1, od0_2"
   ]
  },
  {
   "cell_type": "code",
   "execution_count": 69,
   "id": "b3f6cca0",
   "metadata": {
    "hidden": true
   },
   "outputs": [],
   "source": [
    "def add_polrot_column_densities_to_dataframe(df_PR, exp_params_dict_PR, ROI_PR):\n",
    "\n",
    "    # get imaging parameters:\n",
    "    state_1_unitarity_res_freq_MHz = exp_params_dict_PR[\"Values\"]['state_1_unitarity_res_freq_MHz']\n",
    "    state_3_unitarity_res_freq_MHz = exp_params_dict_PR[\"Values\"]['state_3_unitarity_res_freq_MHz']\n",
    "    li_hf_freq_multiplier = exp_params_dict_PR[\"Values\"][\"li_hf_freq_multiplier\"]\n",
    "    polrot_phase_sign = exp_params_dict_PR[\"Values\"][\"polrot_phase_sign\"]\n",
    "    \n",
    "    # these variables are added recently:\n",
    "    hf_lock_setpoint = 0\n",
    "    hf_lock_unitarity_resonance_value = 0\n",
    "    if \"hf_lock_setpoint\" in exp_params_dict_PR[\"Values\"] and \"hf_lock_unitarity_resonance_value\" in exp_params_dict_PR[\"Values\"]:\n",
    "        hf_lock_setpoint = exp_params_dict_PR[\"Values\"][\"hf_lock_setpoint\"]\n",
    "        hf_lock_unitarity_resonance_value = exp_params_dict_PR[\"Values\"][\"hf_lock_unitarity_resonance_value\"]\n",
    "\n",
    "    # calculate imaging parameters to \n",
    "    omega0_1 = state_1_unitarity_res_freq_MHz # resonance freq for state 1\n",
    "    omega0_2 = state_3_unitarity_res_freq_MHz # resonance freq for state 3\n",
    "    omega_A  = (df_PR['ImagFreq1'][0] - (hf_lock_setpoint-hf_lock_unitarity_resonance_value)/li_hf_freq_multiplier ) # assuming ImagFreq does not change\n",
    "    omega_B  = (df_PR['ImagFreq2'][0] - (hf_lock_setpoint-hf_lock_unitarity_resonance_value)/li_hf_freq_multiplier) # assuming ImagFreq does not change\n",
    "\n",
    "    detuning_A_1 = (-omega0_1 + omega_A)*li_hf_freq_multiplier\n",
    "    detuning_A_2 = (-omega0_2 + omega_A)*li_hf_freq_multiplier\n",
    "    detuning_B_1 = (-omega0_1 + omega_B)*li_hf_freq_multiplier\n",
    "    detuning_B_2 = (-omega0_2 + omega_B)*li_hf_freq_multiplier\n",
    "\n",
    "    # get size of ROI:\n",
    "    height = ROI_PR[3] - ROI_PR[2]\n",
    "    width  = ROI_PR[1] - ROI_PR[0] \n",
    "\n",
    "    # shouldn't pass the entire data frame to processes... since there's a lot of extra info that we won't need:\n",
    "    # instead make list of images:\n",
    "    fake_OD_roi_A = []\n",
    "    fake_OD_roi_B = []\n",
    "\n",
    "    for i in range(0, len(df_PR), 2):\n",
    "        if df_PR['image_type'][i] == 'TopA' and df_PR['image_type'][i+1] == 'TopB':\n",
    "            fake_OD_roi_A.append(df_PR['fakeOD_roi'][i])\n",
    "            fake_OD_roi_B.append(df_PR['fakeOD_roi'][i+1])\n",
    "        elif df_PR['image_type'][i] == 'TopB' and df_PR['image_type'][i+1] == 'TopA':\n",
    "            fake_OD_roi_A.append(df_PR['fakeOD_roi'][i+1])\n",
    "            fake_OD_roi_B.append(df_PR['fakeOD_roi'][i])\n",
    "                    \n",
    "    with tqdm_joblib(tqdm(desc=\"Progress\", total= len(df_PR)//2)) as progress_bar:\n",
    "        results = Parallel(n_jobs=-2)(delayed(process)(i, \n",
    "                                                      fake_OD_roi_A = fake_OD_roi_A, \n",
    "                                                      fake_OD_roi_B = fake_OD_roi_B,\n",
    "                                                      detuning_A_1 = detuning_A_1, \n",
    "                                                      detuning_A_2 = detuning_A_2, \n",
    "                                                      detuning_B_1 = detuning_B_1, \n",
    "                                                      detuning_B_2 = detuning_B_2, \n",
    "                                                      polrot_phase_sign = polrot_phase_sign,\n",
    "                                                      height = height, \n",
    "                                                      width = width) \n",
    "                                                 for i in range(len(df_PR)//2))\n",
    "    # remember that factor of 2 reduction in the cross section when imaging from Top:\n",
    "    PR_densities = []\n",
    "    for r in results:\n",
    "        PR_densities.append(r[0]/(Li6D2sigma0/2))\n",
    "        PR_densities.append(r[1]/(Li6D2sigma0/2))\n",
    "    df_PR['column_density'] = PR_densities\n",
    "    \n",
    "    return df_PR"
   ]
  },
  {
   "cell_type": "code",
   "execution_count": 19,
   "id": "0a3e9b04",
   "metadata": {
    "hidden": true
   },
   "outputs": [],
   "source": [
    "def add_counts_from_PR_column_densities_to_dataframe(df_PR, um_per_pixel):\n",
    "    counts = []\n",
    "    for idx, row in df_PR.iterrows():\n",
    "        counts.append( sum(sum(row['column_density']))* (um_per_pixel**2) * 10**(-12) )\n",
    "    df_PR['atom_count'] = counts\n",
    "    return df_PR"
   ]
  },
  {
   "cell_type": "markdown",
   "id": "d0859dec",
   "metadata": {
    "heading_collapsed": true,
    "hidden": true
   },
   "source": [
    "## <font color=#399FD5>Get atom counts from densities</font>"
   ]
  },
  {
   "cell_type": "code",
   "execution_count": 20,
   "id": "92be446c",
   "metadata": {
    "hidden": true
   },
   "outputs": [],
   "source": [
    "def add_atom_counts_from_densities_to_data_frame(df, um_per_pixel):\n",
    "    '''\n",
    "    um_per_pixel is, obviously, in um\n",
    "    we have to convert this to m, since sigma0 is in m^2\n",
    "    '''\n",
    "    counts = []\n",
    "    for index, row in df.iterrows():\n",
    "        counts.append(sum(sum(row['atom_density'])) * (um_per_pixel**2) * 10**(-12))\n",
    "    df['atom_count'] = counts\n",
    "    return df"
   ]
  },
  {
   "cell_type": "markdown",
   "id": "27ecdd87",
   "metadata": {
    "heading_collapsed": true,
    "hidden": true
   },
   "source": [
    "## <font color=#399FD5>Mathematical functions</font>"
   ]
  },
  {
   "cell_type": "code",
   "execution_count": 21,
   "id": "3a914c8d",
   "metadata": {
    "hidden": true
   },
   "outputs": [],
   "source": [
    "def _absorption_coefficient(omega, amp, omega0, gamma_prime, offset):\n",
    "    return amp * gamma_prime**2/ ( 4*(omega-omega0)**2 + gamma_prime**2) + offset"
   ]
  },
  {
   "cell_type": "code",
   "execution_count": 22,
   "id": "afd0f497",
   "metadata": {
    "hidden": true
   },
   "outputs": [],
   "source": [
    "def _P2_Rabi(omega_and_tau, omegaR, omega0, offset):\n",
    "    omega = omega_and_tau[0]\n",
    "    tau = omega_and_tau[1]    \n",
    "    OmegaR = np.sqrt( omegaR**2 + (omega - omega0)**2 )\n",
    "    return ( omegaR**2 / OmegaR**2) * np.sin( 2*np.pi*OmegaR * tau * 10**(6-3)/ 2)**2 + offset"
   ]
  },
  {
   "cell_type": "markdown",
   "id": "8ec160c9",
   "metadata": {
    "heading_collapsed": true,
    "hidden": true
   },
   "source": [
    "## <font color=#399FD5>Fit functions</font>"
   ]
  },
  {
   "cell_type": "markdown",
   "id": "1040dfbc",
   "metadata": {
    "heading_collapsed": true,
    "hidden": true
   },
   "source": [
    "### <font color='6C828D'>Li resonance imaging curve fit</font>"
   ]
  },
  {
   "cell_type": "code",
   "execution_count": 23,
   "id": "feceb513",
   "metadata": {
    "hidden": true
   },
   "outputs": [],
   "source": [
    "def Li_resonance_imaging_curve_fit(freqs, \n",
    "                                   pixel_sums, \n",
    "                                   AOM_factor,\n",
    "                                   center_guess, \n",
    "                                   plot_xlabel = 'ImagFreq1 x AOM_Factor',\n",
    "                                   plot_title = 'Resonance Curve'):\n",
    "    \n",
    "    # get guesses from experiment_parameters_dict and known constants\n",
    "    center_guess = center_guess*AOM_factor \n",
    "    gamma_prime_guess = Li6D2Gamma # from table of constants\n",
    "    amplitude_guess = max(pixel_sums)\n",
    "    offset_guess = min(pixel_sums)/10\n",
    "\n",
    "    # fit\n",
    "    freqs_fit = freqs*AOM_factor\n",
    "    params_lorzt, covariance_lorzt = scipy.optimize.curve_fit(_absorption_coefficient, freqs_fit, pixel_sums, \n",
    "                                                              p0=[amplitude_guess, center_guess, \n",
    "                                                                  gamma_prime_guess, offset_guess],\n",
    "                                                              bounds = ([0, -np.inf, 0, 0],\n",
    "                                                                       [np.inf, np.inf, np.inf, np.inf]))\n",
    "    errors_lorzt = np.sqrt(np.diag(covariance_lorzt))\n",
    "\n",
    "    # get fit parameters\n",
    "    amplitude = params_lorzt[0]\n",
    "    center = params_lorzt[1]\n",
    "    gamma_prime = params_lorzt[2]\n",
    "    offset = params_lorzt[3]\n",
    "\n",
    "    # get fit parameter errors\n",
    "    amplitude_error = errors_lorzt[0]\n",
    "    center_error = errors_lorzt[1]\n",
    "    gamma_prime_error = errors_lorzt[2]\n",
    "    offset_error = errors_lorzt[3]\n",
    "\n",
    "    # make fitted curve\n",
    "    freqs_fit_plot = np.linspace(min(freqs)*AOM_factor, max(freqs)*AOM_factor, len(freqs)*10)\n",
    "    pixel_sums_fit = amplitude*gamma_prime**2/ ( 4*(freqs_fit_plot-center)**2 + gamma_prime**2) + offset\n",
    "\n",
    "    # print out fit results\n",
    "    print('----------Fit result----------------')\n",
    "    print('Amplitude: ' + str('{:.2f}'.format(amplitude)) + ' +/- ' + str('{:.2f}'.format(amplitude_error)))\n",
    "    print('Center: ' + str('{:.2f}'.format(center)) + ' +/- ' + str('{:.2f}'.format(center_error)))\n",
    "    print('Gamma prime: ' + str('{:.2f}'.format(gamma_prime)) + ' +/- ' + str('{:.2f}'.format(gamma_prime_error)))\n",
    "    print('Offset: ' + str('{:.2f}'.format(offset)) + ' +/- ' + str('{:.2f}'.format(offset_error)))\n",
    "    print('Calculated saturation parameter: ' + str('{:.2f}'.format((gamma_prime/Li6D2Gamma)**2 - 1)))\n",
    "\n",
    "    # print resonance value in Cicero space:\n",
    "    print('------------------------------------')\n",
    "    print('Set value in Cicero to: ' + str('{:.2f}'.format(-center/2)))\n",
    "\n",
    "    # plotting \n",
    "    plt.scatter(freqs_fit, pixel_sums, color = 'black', s=10)\n",
    "    plt.plot(freqs_fit_plot, pixel_sums_fit, color='red', linewidth=1)\n",
    "    plt.xlabel(plot_xlabel)\n",
    "    plt.ylabel('Pixel sum')\n",
    "    plt.title(plot_title)\n",
    "    plt.show()\n",
    "    \n",
    "    # return results\n",
    "    fit_result = dict()\n",
    "    fit_result['amplitude'] = amplitude\n",
    "    fit_result['center'] = center\n",
    "    fit_result['gamma prime'] = gamma_prime\n",
    "    fit_result['offset'] = offset\n",
    "    fit_result['calculated saturation parameter'] = (gamma_prime/Li6D2Gamma)**2 - 1\n",
    "    \n",
    "    return fit_result"
   ]
  },
  {
   "cell_type": "markdown",
   "id": "e2dc6572",
   "metadata": {
    "heading_collapsed": true,
    "hidden": true
   },
   "source": [
    "### <font color='6C828D'>RF resonance curve fit</font>"
   ]
  },
  {
   "cell_type": "markdown",
   "id": "ece2b2c1",
   "metadata": {
    "hidden": true
   },
   "source": [
    "How do we find the best guess for the resonant RF frequency from the RF transfer curve? While there are certainly more sophisticated solutions, here we implement a rather simple one. \n",
    "\n",
    "We can quite safely assuem that in most cases, our RF transfer curve will either be unimodal or bimodal. So first we have to be able to classify various any curve into one of these types. To do this, we will use the scipy peak-finding method to extract peaks. If the data is unimodal, then the guess for $\\omega_0$ is simply the RF frequency at which the RF transfer maximizes. If the data is bimodal, then we take the two peaks, and the guess for $\\omega_0$ is simply the average of the RF frequencies associated with those two peaks. \n",
    "\n",
    "Before we proceed, remember that because data is often taken in randomized order, we will have to sort the RF transfer values by the RF frequency value (low-to-high). "
   ]
  },
  {
   "cell_type": "code",
   "execution_count": 24,
   "id": "50b270f6",
   "metadata": {
    "hidden": true
   },
   "outputs": [],
   "source": [
    "# generate guesses:\n",
    "def RF_spec_generate_guesses(RF_freqs_and_taus, RF_transfers, peaks_ratio_threshold = 0.8):\n",
    "    '''\n",
    "    peaks_ratio_threshold should be in range [0,1]\n",
    "    '''\n",
    "    offset_guess = min(RF_transfers)\n",
    "    omegaR_guess = 0.001 # these are typically on the order of 0.001 MHz \n",
    "    \n",
    "    # the guess for omega0_guess is the best symmetry point...\n",
    "    peaks = scipy.signal.find_peaks(RF_transfers)\n",
    "    \n",
    "    # sort first so that things work nicely\n",
    "    sorted_RF_transfers = np.array([x for _,x in sorted(zip(RF_freqs_and_taus[0], RF_transfers))])\n",
    "    sorted_RF_freqs = np.array(sorted(RF_freqs_and_taus[0]))\n",
    "    RF_transfers_no_dup = np.array([sorted_RF_transfers[0]])\n",
    "    RF_freqs_no_dup = np.array([sorted_RF_freqs[0]])\n",
    "        \n",
    "    # now take average to remove duplicates in X:\n",
    "    x_old = -np.inf\n",
    "    x_count = 0\n",
    "    for i in range(len(sorted_RF_transfers)):\n",
    "        if sorted_RF_freqs[i] == x_old:\n",
    "            # if RF freq already exists, then update previous one in RF transfers\n",
    "            x_count += 1\n",
    "            RF_transfers_no_dup[-1] = ((RF_transfers_no_dup[-1]*x_count)+sorted_RF_transfers[i])/(x_count+1)\n",
    "        else:\n",
    "            # if RF freq is new, then just append\n",
    "            RF_transfers_no_dup = np.append(RF_transfers_no_dup, sorted_RF_transfers[i])\n",
    "            RF_freqs_no_dup = np.append(RF_freqs_no_dup, sorted_RF_freqs[i])\n",
    "            x_count = 0\n",
    "            x_old = sorted_RF_freqs[i]\n",
    "\n",
    "    # now find peaks on this modified dataset:\n",
    "    peak_indices = scipy.signal.find_peaks(RF_transfers_no_dup)[0]\n",
    "    plt.scatter(RF_freqs_no_dup[peak_indices], RF_transfers_no_dup[peak_indices], color = 'blue', marker='o')\n",
    "    sorted_RF_transfers_peaks = sorted(RF_transfers_no_dup[peak_indices])\n",
    "    sorted_RF_freqs_peaks = np.array([x for _,x in sorted(zip(RF_transfers_no_dup[peak_indices], RF_freqs_no_dup[peak_indices]))])\n",
    "        \n",
    "    # compare the two tallest peaks in the data:\n",
    "    if len(sorted_RF_transfers_peaks) == 1:\n",
    "        # in this case, omega0_guess is just the RF_freq associated with this peak!\n",
    "        omega0_guess = sorted_RF_freqs_peaks[-1]\n",
    "    else:\n",
    "        if sorted_RF_transfers_peaks[-2]/sorted_RF_transfers_peaks[-1] < peaks_ratio_threshold:\n",
    "            # in this case, omega0_guess is just the RF_freq associated with this peak!\n",
    "            omega0_guess = sorted_RF_freqs_peaks[-1]\n",
    "        else:\n",
    "            # in this case, take the average \n",
    "            omega0_guess = (sorted_RF_freqs_peaks[-1] + sorted_RF_freqs_peaks[-2])/2      \n",
    "    plt.scatter([sorted_RF_freqs_peaks[-1]], [sorted_RF_transfers_peaks[-1]], color='red', marker='x')\n",
    "    \n",
    "    return omegaR_guess, omega0_guess, offset_guess"
   ]
  },
  {
   "cell_type": "code",
   "execution_count": 25,
   "id": "fafe3e16",
   "metadata": {
    "hidden": true
   },
   "outputs": [],
   "source": [
    "# fitting function:\n",
    "def Li_P2_Rabi_RF_curve_fit(RF_freqs_and_taus, \n",
    "                            RF_transfers, \n",
    "                            omega0_guess = 75,\n",
    "                            omegaR_guess = 1, \n",
    "                            offset_guess = 0,\n",
    "                            smart_guesses = False,\n",
    "                            peaks_ratio_threshold = 0.8,\n",
    "                            plot_xlabel = 'RF frequency',\n",
    "                            plot_title = 'RF Resonance Curve'):\n",
    "    \n",
    "    if smart_guesses:\n",
    "        omegaR_guess, omega0_guess, offset_guess = RF_spec_generate_guesses(RF_freqs_and_taus, \n",
    "                                                                            RF_transfers,\n",
    "                                                                           peaks_ratio_threshold = peaks_ratio_threshold)\n",
    "        \n",
    "    # fit\n",
    "    params_Rabi, covariance_Rabi = scipy.optimize.curve_fit(_P2_Rabi, \n",
    "                                                              xdata = RF_freqs_and_taus, \n",
    "                                                              ydata = RF_transfers, \n",
    "                                                              p0 = [omegaR_guess, omega0_guess, offset_guess])\n",
    "    errors_Rabi = np.sqrt(np.diag(covariance_Rabi))\n",
    "    \n",
    "    # get fit parameters\n",
    "    omegaR = params_Rabi[0]\n",
    "    omega0 = params_Rabi[1]\n",
    "    offset = params_Rabi[2]\n",
    "    \n",
    "    # get fit parameter errors\n",
    "    omegaR_error = errors_Rabi[0]\n",
    "    omega0_error = errors_Rabi[1]\n",
    "    offset_error = errors_Rabi[2]\n",
    "    \n",
    "    # make fitted curve\n",
    "    RF_freqs_fit_plot = np.linspace(min(RF_freqs_and_taus[0]), max(RF_freqs_and_taus[0]), len(RF_freqs_and_taus[0])*10)\n",
    "    taus_fit_plot = np.linspace(min(RF_freqs_and_taus[1]), max(RF_freqs_and_taus[1]), len(RF_freqs_and_taus[1])*10)\n",
    "    OmegaR = np.sqrt(omegaR**2 + (RF_freqs_fit_plot - omega0)**2)\n",
    "    RF_transfer_fit = (omegaR**2 / OmegaR**2) * np.sin(2*np.pi*OmegaR * taus_fit_plot * 10**(6-3) / 2)**2 + offset\n",
    "        \n",
    "    # plotting \n",
    "    plt.scatter(RF_freqs_and_taus[0], RF_transfers, color = 'black', s=10)\n",
    "    plt.plot(RF_freqs_fit_plot, RF_transfer_fit, color='red', linewidth=1)\n",
    "    plt.xlabel(plot_xlabel)\n",
    "    plt.ylabel('RF Transfer B/(A+B)')\n",
    "    plt.title(plot_title)\n",
    "    plt.show()\n",
    "    \n",
    "    fit_result = dict()\n",
    "    fit_result['omegaR'] = omegaR\n",
    "    fit_result['center'] = omega0\n",
    "    fit_result['offset'] = offset\n",
    "    \n",
    "    ######## PRINT OUT RESULTS ############\n",
    "    print('----------Fit result----------------')\n",
    "    print('Rabi frequency: ' + str('{:.6f}'.format(omegaR)) + ' +/- ' + str('{:.6f}'.format(omegaR_error)))\n",
    "    print('Center: ' + str('{:.5f}'.format(omega0)) + ' +/- ' + str('{:.5f}'.format(omega0_error)))\n",
    "    print('Offset: ' + str('{:.5f}'.format(offset)) + ' +/- ' + str('{:.5f}'.format(offset_error)))\n",
    "    \n",
    "    return fit_result"
   ]
  },
  {
   "cell_type": "markdown",
   "id": "b9209a1b",
   "metadata": {
    "heading_collapsed": true,
    "hidden": true
   },
   "source": [
    "## <font color=#399FD5>Data filter</font>"
   ]
  },
  {
   "cell_type": "code",
   "execution_count": 26,
   "id": "11314e46",
   "metadata": {
    "hidden": true
   },
   "outputs": [],
   "source": [
    "def generic_data_filter(x_data, y_data, tolerance):\n",
    "    # TODO: include the ability to mark shots as good/bad in dataframe!\n",
    "    '''\n",
    "    x_data: np.array()\n",
    "    y_data: np.array()\n",
    "    assumes len(x_data) == len(y_data)\n",
    "    tolerance: float, how many st devs is the cutoff\n",
    "    compute the standard deviation of y_data\n",
    "    removes y_data points beyond tolerance and corresponding x_data\n",
    "    return filtered_x_data, filter_y_data\n",
    "    '''\n",
    "    x_data = np.array(x_data)\n",
    "    y_data = np.array(y_data)\n",
    "    \n",
    "    filtered_x_data = np.array([])\n",
    "    filtered_y_data = np.array([])\n",
    "    \n",
    "    if len(x_data) == len(y_data):\n",
    "        st_dev_y_data  = np.std(y_data)\n",
    "        mean_y_data = np.average(y_data)\n",
    "        for i in range(len(x_data)):\n",
    "            if y_data[i] < mean_y_data + tolerance*st_dev_y_data and y_data[i] > mean_y_data - tolerance*st_dev_y_data:\n",
    "                filtered_x_data = np.append(filtered_x_data, x_data[i])\n",
    "                filtered_y_data = np.append(filtered_y_data, y_data[i])\n",
    "    else:\n",
    "        print('Incompatible sizes!')\n",
    "        return [],[]\n",
    "    \n",
    "    return filtered_x_data, filtered_y_data"
   ]
  },
  {
   "cell_type": "code",
   "execution_count": 27,
   "id": "42994495",
   "metadata": {
    "hidden": true
   },
   "outputs": [],
   "source": [
    "def data_filter(df, variable_to_filter, tolerance):    \n",
    "    # first compute mean and stdev of row[variable_to_filter_by]\n",
    "    mean_var = df[variable_to_filter].mean()\n",
    "    std_var = df[variable_to_filter].std()\n",
    "        \n",
    "    # next change good_shot to False if row[variable_to_filter_by] is outside of acceptance region\n",
    "    for index, row in df.iterrows():\n",
    "        if row[variable_to_filter] > mean_var + tolerance*std_var or row[variable_to_filter] < mean_var - tolerance*std_var:\n",
    "            # flag row as bad:\n",
    "            df.at[index, 'good_shot'] = False\n",
    "            # now gotta make sure image with same run id is also flagged as bad:\n",
    "    return df"
   ]
  },
  {
   "cell_type": "markdown",
   "id": "0e76068f",
   "metadata": {
    "heading_collapsed": true
   },
   "source": [
    "# Atomic Physics Tools"
   ]
  },
  {
   "cell_type": "markdown",
   "id": "ddccbd49",
   "metadata": {
    "heading_collapsed": true,
    "hidden": true
   },
   "source": [
    "##  <font color=#399FD5>Breit-Rabi Diagram</font>"
   ]
  },
  {
   "cell_type": "markdown",
   "id": "1a7f5a74",
   "metadata": {
    "heading_collapsed": true,
    "hidden": true
   },
   "source": [
    "##  <font color=#399FD5>Numerical Zeeman Effect Calculator</font>"
   ]
  },
  {
   "cell_type": "code",
   "execution_count": null,
   "id": "bbe16912",
   "metadata": {
    "hidden": true
   },
   "outputs": [],
   "source": []
  },
  {
   "cell_type": "markdown",
   "id": "5171dc3c",
   "metadata": {
    "heading_collapsed": true,
    "hidden": true
   },
   "source": [
    "##  <font color=#399FD5>Simulations</font>"
   ]
  },
  {
   "cell_type": "markdown",
   "id": "7a7035e1",
   "metadata": {
    "heading_collapsed": true,
    "hidden": true
   },
   "source": [
    "##  <font color=#399FD5>BEC Counts Calculator</font>"
   ]
  },
  {
   "cell_type": "code",
   "execution_count": null,
   "id": "53e6f3a6",
   "metadata": {
    "hidden": true
   },
   "outputs": [],
   "source": [
    "def BEC_counts_calculator(BEC_diameter, TOF, ax_freq, rad_freq, umpx):\n",
    "    r = BEC_diameter/2.0\n",
    "    tof = TOF/1000.0 # units in seconds\n",
    "    a = 85*(0.529e-10) # scattering length\n",
    "    omega = (2*np.pi*rad_freq*2*np.pi*rad_freq*2*np.pi*ax_freq)**(1/3)\n",
    "    m = mNa23\n",
    "    \n",
    "    BEC_counts = ((m/2*(2*np.pi*rad_freq)**2/(1 + (2*np.pi*rad_freq*tof)**2))*(umpx*10**(-6)*r)**2)**(5/2)/(15*hbar**2*m**(1/2)*omega**3*a/2**(5/2))\n",
    "    \n",
    "    return BEC_counts"
   ]
  },
  {
   "cell_type": "markdown",
   "id": "0f80d6a5",
   "metadata": {
    "heading_collapsed": true
   },
   "source": [
    "# Na Catch"
   ]
  },
  {
   "cell_type": "markdown",
   "id": "ed2ed315",
   "metadata": {
    "heading_collapsed": true
   },
   "source": [
    "# Na BEC"
   ]
  },
  {
   "cell_type": "markdown",
   "id": "c44c043a",
   "metadata": {
    "heading_collapsed": true,
    "hidden": true
   },
   "source": [
    "## <font color=#399FD5>Data preview and preparation</font>"
   ]
  },
  {
   "cell_type": "code",
   "execution_count": null,
   "id": "ed6bfd8b",
   "metadata": {
    "hidden": true
   },
   "outputs": [],
   "source": [
    "# initializes data frame and load metadata & exp params:\n",
    "data_frame_BEC, metadata_dict_BEC, experiment_parameters_dict_BEC = init_dataframe_metadata_and_exp_params()\n",
    "\n",
    "# ROI Box and norm_box for BEC\n",
    "ROI_BEC = [260, # x min\n",
    "           480, # x max\n",
    "           5,   # y min\n",
    "           220] # y max\n",
    "\n",
    "# BEC Norm Box:\n",
    "norm_box_BEC = [290, # x min\n",
    "                450, # x max \n",
    "                300, # y min\n",
    "                400] # y max\n",
    "\n",
    "# display BEC image:\n",
    "frame_type_BEC = 'FakeOD'\n",
    "current_file_fullpath_BEC = data_frame_BEC['fullpaths'][0]\n",
    "fig, ax = display_image(current_file_fullpath_BEC, ROI_BEC, norm_box_BEC, frame_type_BEC)\n",
    "\n",
    "#################################################\n",
    "print('Displaying image: ')\n",
    "print(current_file_fullpath_BEC)\n",
    "print('')\n",
    "print('Frame type: ' + frame_type_BEC)  "
   ]
  },
  {
   "cell_type": "markdown",
   "id": "4924970a",
   "metadata": {
    "heading_collapsed": true,
    "hidden": true
   },
   "source": [
    "## <font color=#399FD5>BEC counts from radius</font>"
   ]
  },
  {
   "cell_type": "code",
   "execution_count": null,
   "id": "af717c76",
   "metadata": {
    "hidden": true
   },
   "outputs": [],
   "source": [
    "BEC_diameter = 70 # px\n",
    "BEC_TOF = 18 # ms\n",
    "BEC_ax_freq = 12 # Hz\n",
    "BEC_rad_freq = 95 # Hz\n",
    "BEC_um_per_px = 5\n",
    "\n",
    "BEC_counts = BEC_counts_calculator(BEC_diameter, BEC_TOF, BEC_ax_freq, BEC_rad_freq, BEC_um_per_px)\n",
    "print('BEC counts from radius: ' + str(BEC_counts))"
   ]
  },
  {
   "cell_type": "markdown",
   "id": "978971a1",
   "metadata": {
    "heading_collapsed": true
   },
   "source": [
    "# Li ODT LF Resonance Curve (Abs)"
   ]
  },
  {
   "cell_type": "markdown",
   "id": "6dc503b5",
   "metadata": {
    "heading_collapsed": true,
    "hidden": true
   },
   "source": [
    "## <font color=#399FD5>Data preview and preparation</font>"
   ]
  },
  {
   "cell_type": "code",
   "execution_count": null,
   "id": "9879a57b",
   "metadata": {
    "hidden": true
   },
   "outputs": [],
   "source": [
    "# initializes data frame and load metadata & exp params:\n",
    "data_frame_ODT_LF, metadata_dict_ODT_LF, experiment_parameters_dict_ODT_LF = init_dataframe_metadata_and_exp_params()\n",
    "\n",
    "# ROI Box and norm_box for ODT LF\n",
    "ROI_ODT_LF = [250, # x min\n",
    "              509, # x max\n",
    "              120, # y min\n",
    "              460] # y max\n",
    "\n",
    "# Li LF Norm Box (ODT):\n",
    "norm_box_ODT_LF = [250, # x min\n",
    "                   509, # x max\n",
    "                   50,  # y min\n",
    "                   100] # y max\n",
    "\n",
    "# display Li LF image:\n",
    "frame_type_ODT_LF = 'FakeOD'\n",
    "current_file_fullpath_ODT_LF = data_frame_ODT_LF['fullpaths'][0]\n",
    "fig, ax = display_image(current_file_fullpath_ODT_LF, ROI_ODT_LF, norm_box_ODT_LF, frame_type_ODT_LF)\n",
    "\n",
    "#################################################\n",
    "print('Displaying image: ')\n",
    "print(current_file_fullpath_ODT_LF)\n",
    "print('')\n",
    "print('Frame type: ' + frame_type_ODT_LF)"
   ]
  },
  {
   "cell_type": "markdown",
   "id": "8e3ed08a",
   "metadata": {
    "heading_collapsed": true,
    "hidden": true
   },
   "source": [
    "## <font color=#399FD5>Li ODT LF pixel sums</font>"
   ]
  },
  {
   "cell_type": "code",
   "execution_count": null,
   "id": "1a977c5d",
   "metadata": {
    "hidden": true
   },
   "outputs": [],
   "source": [
    "# compute, for each shot, a pixel sum\n",
    "data_frame_ODT_LF = add_pixel_sums_to_data_frame(data_frame_ODT_LF, \n",
    "                                                 ROI_ODT_LF, \n",
    "                                                 norm_box_ODT_LF,\n",
    "                                                 column_name = 'pixel_sum')\n",
    "\n",
    "# get pixel sums and RF freqs from dataframe:\n",
    "pixel_sums_ODT_LF = np.array([])\n",
    "img_freqs_ODT_LF = np.array([])\n",
    "\n",
    "for index, row in data_frame_ODT_LF.iterrows():\n",
    "    pixel_sums_ODT_LF = np.append(pixel_sums_ODT_LF, row['pixel_sum'])\n",
    "    img_freqs_ODT_LF = np.append(img_freqs_ODT_LF, row['LFImgFreq'])\n",
    "\n",
    "# plot pixel sums versus FreqsA\n",
    "plt.scatter(img_freqs_ODT_LF, pixel_sums_ODT_LF, color='black', s=10)\n",
    "plt.xlabel('LFImgFreq')\n",
    "plt.ylabel('Pixel sum ODT LF')\n",
    "plt.title('Li LF ODT res curve')\n",
    "plt.show()"
   ]
  },
  {
   "cell_type": "markdown",
   "id": "7dd0d7db",
   "metadata": {
    "heading_collapsed": true,
    "hidden": true
   },
   "source": [
    "## <font color=#399FD5>Li ODT LF resonance curve fitting</font>"
   ]
  },
  {
   "cell_type": "code",
   "execution_count": null,
   "id": "64048fd7",
   "metadata": {
    "hidden": true
   },
   "outputs": [],
   "source": [
    "# ODT LF: \n",
    "center_guess_ODT_LF = experiment_parameters_dict_ODT_LF[\"Values\"]['li_lf_res_freq']\n",
    "AOM_factor_ODT_LF = experiment_parameters_dict_ODT_LF[\"Values\"]['li_lf_freq_multiplier']\n",
    "\n",
    "fit_result_ODT_LF = Li_resonance_imaging_curve_fit(img_freqs_ODT_LF, \n",
    "                               pixel_sums_ODT_LF, \n",
    "                               AOM_factor_ODT_LF,\n",
    "                               center_guess_ODT_LF,\n",
    "                               plot_xlabel = 'LFImgFreq x AOM_Factor',\n",
    "                               plot_title = 'Li ODT LF res curve')\n",
    "\n",
    "print(fit_result_ODT_LF)"
   ]
  },
  {
   "cell_type": "markdown",
   "id": "866aa044",
   "metadata": {
    "heading_collapsed": true,
    "hidden": true
   },
   "source": [
    "## <font color=#399FD5>Li ODT LF atom counting</font>"
   ]
  },
  {
   "cell_type": "markdown",
   "id": "946605d0",
   "metadata": {
    "heading_collapsed": true,
    "hidden": true
   },
   "source": [
    "### <font color=#6C828D>Get densities and atom counts</font>"
   ]
  },
  {
   "cell_type": "code",
   "execution_count": null,
   "id": "d596cce6",
   "metadata": {
    "hidden": true
   },
   "outputs": [],
   "source": [
    "# get imaging parameters here:\n",
    "AOM_factor_ODT_LF = experiment_parameters_dict_ODT_LF[\"Values\"]['li_lf_freq_multiplier']\n",
    "omega0_ODT_LF = fit_result_ODT_LF['center']/AOM_factor_ODT_LF\n",
    "saturation_parameter_ODT_LF = fit_result_ODT_LF['calculated saturation parameter']\n",
    "um_per_pixel_ODT_LF = experiment_parameters_dict_ODT_LF['Values']['side_low_mag_um_per_pixel'] # in um\n",
    "\n",
    "\n",
    "# get densities:\n",
    "data_frame_ODT_LF = add_atom_densities_abs_to_data_frame_Side(data_frame_ODT_LF, \n",
    "                                                         ROI_ODT_LF, \n",
    "                                                         norm_box_ODT_LF,\n",
    "                                                         sigma0 = Li6D2sigma0,\n",
    "                                                         Gamma = Li6D2Gamma, \n",
    "                                                         s = saturation_parameter_ODT_LF, \n",
    "                                                         omega0 = omega0_ODT_LF,\n",
    "                                                         AOM_factor = AOM_factor_ODT_LF)\n",
    "\n",
    "# now get counts from this:\n",
    "data_frame_ODT_LF = add_atom_counts_from_densities_to_data_frame(data_frame_ODT_LF, \n",
    "                                                                 um_per_pixel_ODT_LF)"
   ]
  },
  {
   "cell_type": "markdown",
   "id": "99518a27",
   "metadata": {
    "heading_collapsed": true,
    "hidden": true
   },
   "source": [
    "### <font color=#6C828D>Plot counts</font>"
   ]
  },
  {
   "cell_type": "code",
   "execution_count": null,
   "id": "b92a3a31",
   "metadata": {
    "hidden": true
   },
   "outputs": [],
   "source": [
    "atom_counts_ODT_LF = np.array([])\n",
    "\n",
    "for index, row in data_frame_ODT_LF.iterrows():\n",
    "    atom_counts_ODT_LF = np.append(atom_counts_ODT_LF, row['atom_count'])\n",
    "        \n",
    "plt.scatter(img_freqs_ODT_LF, atom_counts_ODT_LF, color = 'black', s=10)\n",
    "plt.ylim([0, max(atom_counts_ODT_LF)])\n",
    "plt.xlabel('LFImgFreq')\n",
    "plt.ylabel('Counts ODT LF')\n",
    "plt.show()"
   ]
  },
  {
   "cell_type": "markdown",
   "id": "025ef7ee",
   "metadata": {
    "heading_collapsed": true
   },
   "source": [
    "# Li ODT Top HF Resonance Curve (Abs Imaging)"
   ]
  },
  {
   "cell_type": "markdown",
   "id": "f1d7bbae",
   "metadata": {
    "heading_collapsed": true,
    "hidden": true
   },
   "source": [
    "## <font color=#399FD5>Data preview and preparation</font>"
   ]
  },
  {
   "cell_type": "code",
   "execution_count": null,
   "id": "cd606c61",
   "metadata": {
    "hidden": true
   },
   "outputs": [],
   "source": [
    "# initializes data frame and load metadata & exp params:\n",
    "data_frame_ODT_HF, metadata_dict_ODT_HF, experiment_parameters_dict_ODT_HF = init_dataframe_metadata_and_exp_params()\n",
    "\n",
    "# ROI Box and norm_box for ODT HF\n",
    "ROI_ODT_HF = [650,  # x min\n",
    "              1450, # x max\n",
    "              1100, # y min\n",
    "              1500] # y max\n",
    "\n",
    "# Li HF Norm Box (ODT):\n",
    "norm_box_ODT_HF = [900,  # x min\n",
    "                   1500, # x max\n",
    "                   900,  # y min\n",
    "                   1000] # y max\n",
    "\n",
    "# display Li LF image:\n",
    "frame_type_ODT_HF = 'FakeOD'\n",
    "current_file_fullpath_ODT_HF = data_frame_ODT_HF['fullpaths'][0]\n",
    "fig, ax = display_image(current_file_fullpath_ODT_HF, ROI_ODT_HF, norm_box_ODT_HF, frame_type_ODT_HF)\n",
    "\n",
    "#################################################\n",
    "print('Displaying image: ')\n",
    "print(current_file_fullpath_ODT_HF)\n",
    "print('')\n",
    "print('Frame type: ' + frame_type_ODT_HF)"
   ]
  },
  {
   "cell_type": "markdown",
   "id": "dcc4cc65",
   "metadata": {
    "heading_collapsed": true,
    "hidden": true
   },
   "source": [
    "## <font color=#399FD5>Li ODT HF pixel sums</font>"
   ]
  },
  {
   "cell_type": "code",
   "execution_count": null,
   "id": "c75fcc2c",
   "metadata": {
    "hidden": true
   },
   "outputs": [],
   "source": [
    "# compute, for each shot, a pixel sum\n",
    "data_frame_ODT_HF = add_pixel_sums_to_data_frame(data_frame_ODT_HF, \n",
    "                                                 ROI_ODT_HF, \n",
    "                                                 norm_box_ODT_HF,\n",
    "                                                 column_name = 'pixel_sum')\n",
    "\n",
    "# get pixel sums and RF freqs from dataframe:\n",
    "pixel_sums_A_ODT_HF = np.array([])\n",
    "pixel_sums_B_ODT_HF = np.array([])\n",
    "img_freqs_A_ODT_HF = np.array([])\n",
    "img_freqs_B_ODT_HF = np.array([])\n",
    "\n",
    "for index, row in data_frame_ODT_HF.iterrows():\n",
    "    if row['image_type'] == 'TopA':\n",
    "        pixel_sums_A_ODT_HF = np.append(pixel_sums_A_ODT_HF, row['pixel_sum'])\n",
    "        img_freqs_A_ODT_HF = np.append(img_freqs_A_ODT_HF, row['ImagFreq1'])\n",
    "    elif row['image_type'] == 'TopB':\n",
    "        pixel_sums_B_ODT_HF = np.append(pixel_sums_B_ODT_HF, row['pixel_sum'])\n",
    "        img_freqs_B_ODT_HF = np.append(img_freqs_B_ODT_HF, row['ImagFreq2'])\n",
    "\n",
    "# plot pixel sums versus FreqsA\n",
    "plt.scatter(img_freqs_A_ODT_HF, pixel_sums_A_ODT_HF, color='black', s=10)\n",
    "plt.xlabel('ImagFreq1')\n",
    "plt.ylabel('Pixel sum Top A')\n",
    "plt.title('Li ODT Top A res curve')\n",
    "plt.show()\n",
    "\n",
    "# plot pixel sums versus FreqsA\n",
    "plt.scatter(img_freqs_B_ODT_HF, pixel_sums_B_ODT_HF, color='black', s=10)\n",
    "plt.xlabel('ImagFreq2')\n",
    "plt.ylabel('Pixel sum Top B')\n",
    "plt.title('Li ODT Top B res curve')\n",
    "plt.show()"
   ]
  },
  {
   "cell_type": "markdown",
   "id": "d7bc1b3b",
   "metadata": {
    "heading_collapsed": true,
    "hidden": true
   },
   "source": [
    "## <font color=#399FD5>Li ODT HF resonance curve fitting</font>"
   ]
  },
  {
   "cell_type": "code",
   "execution_count": null,
   "id": "a9520475",
   "metadata": {
    "hidden": true
   },
   "outputs": [],
   "source": [
    "# ODT Top: \n",
    "center_guess_A = experiment_parameters_dict_ODT_HF['Values']['state_1_unitarity_res_freq_MHz']\n",
    "center_guess_B = experiment_parameters_dict_ODT_HF['Values']['state_3_unitarity_res_freq_MHz']\n",
    "AOM_factor = experiment_parameters_dict_ODT_HF['Values']['li_hf_freq_multiplier']\n",
    "\n",
    "# Top A\n",
    "fit_result_TopA = Li_resonance_imaging_curve_fit(img_freqs_A_ODT_HF, \n",
    "                               pixel_sums_A_ODT_HF, \n",
    "                               AOM_factor,\n",
    "                               center_guess_A,       \n",
    "                               plot_xlabel = 'ImagFreq1 x AOM_Factor',\n",
    "                               plot_title = 'Li ODT Top A res curve')\n",
    "\n",
    "# Top B\n",
    "fit_result_TopB = Li_resonance_imaging_curve_fit(img_freqs_B_ODT_HF, \n",
    "                               pixel_sums_B_ODT_HF, \n",
    "                               AOM_factor,\n",
    "                               center_guess_B,\n",
    "                               plot_xlabel = 'ImagFreq2 x AOM_Factor',\n",
    "                               plot_title = 'Li ODT Top B res curve')"
   ]
  },
  {
   "cell_type": "markdown",
   "id": "23dcacf7",
   "metadata": {
    "heading_collapsed": true,
    "hidden": true
   },
   "source": [
    "## <font color=#399FD5>Li ODT HF atom counting</font>"
   ]
  },
  {
   "cell_type": "markdown",
   "id": "580520bb",
   "metadata": {
    "heading_collapsed": true,
    "hidden": true
   },
   "source": [
    "### <font color=#6C828D>Get densities and atom counts</font>"
   ]
  },
  {
   "cell_type": "code",
   "execution_count": null,
   "id": "38306aa6",
   "metadata": {
    "hidden": true
   },
   "outputs": [],
   "source": [
    "# get imaging parameters here:\n",
    "AOM_factor_ODT_HF = experiment_parameters_dict_ODT_HF[\"Values\"]['li_hf_freq_multiplier']\n",
    "omega0_ODT_HF_A = fit_result_TopA['center']/AOM_factor_ODT_HF # from fit\n",
    "omega0_ODT_HF_B = fit_result_TopB['center']/AOM_factor_ODT_HF # from fit\n",
    "saturation_parameter_ODT_HF_A = fit_result_TopA['calculated saturation parameter'] # from fit\n",
    "saturation_parameter_ODT_HF_B = fit_result_TopB['calculated saturation parameter'] # from fit\n",
    "um_per_pixel_ODT_HF = experiment_parameters_dict_ODT_HF['Values']['top_um_per_pixel'] # in um\n",
    "\n",
    "# get densities:\n",
    "data_frame_ODT_HF = add_atom_densities_abs_to_data_frame_TopAB(data_frame_ODT_HF, \n",
    "                                                         ROI_ODT_HF, \n",
    "                                                         norm_box_ODT_HF,\n",
    "                                                         sigma0 = Li6D2sigma0,\n",
    "                                                         Gamma = Li6D2Gamma, \n",
    "                                                         s_A = saturation_parameter_ODT_HF_A, \n",
    "                                                         s_B = saturation_parameter_ODT_HF_B,\n",
    "                                                         omega0_A = omega0_ODT_HF_A,\n",
    "                                                         omega0_B = omega0_ODT_HF_B,\n",
    "                                                         AOM_factor = AOM_factor_ODT_HF)\n",
    "\n",
    "# now get counts from this:\n",
    "data_frame_ODT_HF = add_atom_counts_from_densities_to_data_frame(data_frame_ODT_HF, \n",
    "                                                                 um_per_pixel_ODT_HF)"
   ]
  },
  {
   "cell_type": "markdown",
   "id": "c10048ad",
   "metadata": {
    "heading_collapsed": true,
    "hidden": true
   },
   "source": [
    "### <font color=#6C828D>Plot counts</font>"
   ]
  },
  {
   "cell_type": "code",
   "execution_count": null,
   "id": "cc6062d8",
   "metadata": {
    "hidden": true
   },
   "outputs": [],
   "source": [
    "atom_counts_ODT_HF_A = np.array([])\n",
    "atom_counts_ODT_HF_B = np.array([])\n",
    "\n",
    "for index, row in data_frame_ODT_HF.iterrows():\n",
    "    if row['image_type'] == 'TopA':\n",
    "        atom_counts_ODT_HF_A = np.append(atom_counts_ODT_HF_A, row['atom_count'])\n",
    "    elif row['image_type'] == 'TopB':\n",
    "        atom_counts_ODT_HF_B = np.append(atom_counts_ODT_HF_B, row['atom_count'])\n",
    "\n",
    "# plot results now        \n",
    "plt.scatter(img_freqs_A_ODT_HF, atom_counts_ODT_HF_A, color = 'black',s=10)\n",
    "plt.ylim([0, max(atom_counts_ODT_HF_A)*1.1])\n",
    "plt.xlabel('ImagFreq1')\n",
    "plt.ylabel('Counts Top A')\n",
    "plt.show()\n",
    "\n",
    "plt.scatter(img_freqs_B_ODT_HF, atom_counts_ODT_HF_B, color = 'black',s=10)\n",
    "plt.ylim([0, max(atom_counts_ODT_HF_B)*1.1])\n",
    "plt.xlabel('ImagFreq2')\n",
    "plt.ylabel('Counts Top B')\n",
    "plt.show()"
   ]
  },
  {
   "cell_type": "markdown",
   "id": "6041d267",
   "metadata": {
    "heading_collapsed": true
   },
   "source": [
    "# Li Hybrid Top: Box Exp Imbalance Curve (PR Imaging)"
   ]
  },
  {
   "cell_type": "markdown",
   "id": "c4b20952",
   "metadata": {
    "heading_collapsed": true,
    "hidden": true
   },
   "source": [
    "## <font color=#399FD5>Data preview and preparation</font>"
   ]
  },
  {
   "cell_type": "code",
   "execution_count": 86,
   "id": "61d08b4e",
   "metadata": {
    "hidden": true
   },
   "outputs": [
    {
     "name": "stderr",
     "output_type": "stream",
     "text": [
      "2023-02-26 19:51:58.287 python[44289:17257022] +[CATransaction synchronize] called within transaction\n",
      "2023-02-26 19:51:58.290 python[44289:17257022] +[CATransaction synchronize] called within transaction\n",
      "2023-02-26 19:51:59.839 python[44289:17257022] +[CATransaction synchronize] called within transaction\n",
      "100%|███████████████████████████████████████| 74/74 [00:00<00:00, 129594.36it/s]\n"
     ]
    },
    {
     "name": "stdout",
     "output_type": "stream",
     "text": [
      "Current folder: /Users/huanbui/Desktop/sample_data/box_exp_rf_scan\n",
      "Metadata loaded\n",
      "Experiment parameters loaded\n",
      "Data frame initialized!\n"
     ]
    },
    {
     "data": {
      "image/png": "[encoded data removed]",
      "text/plain": [
       "<Figure size 640x480 with 1 Axes>"
      ]
     },
     "metadata": {},
     "output_type": "display_data"
    },
    {
     "name": "stderr",
     "output_type": "stream",
     "text": [
      "100%|███████████████████████████████████████████| 74/74 [00:09<00:00,  8.04it/s]"
     ]
    },
    {
     "name": "stdout",
     "output_type": "stream",
     "text": [
      "Displaying image: \n",
      "/Users/huanbui/Desktop/sample_data/box_exp_rf_scan/1255127_2023-02-17--15-11-35_TopA.fits\n",
      "\n",
      "Frame type: FakeOD\n"
     ]
    },
    {
     "name": "stderr",
     "output_type": "stream",
     "text": [
      "\n"
     ]
    }
   ],
   "source": [
    "# initializes data frame and load metadata & exp params:\n",
    "data_frame_Box_Exp_Imb_PR, metadata_dict_Box_Exp_Imb_PR, experiment_parameters_dict_Box_Exp_Imb_PR = init_dataframe_metadata_and_exp_params(['RF12_Time'])\n",
    "\n",
    "# ROI Box\n",
    "ROI_Box_Exp_Imb_PR = [1150,  # x min\n",
    "          1350, # x max\n",
    "          1000, # y min\n",
    "          1700] # y max\n",
    "\n",
    "# Norm box\n",
    "norm_box_Box_Exp_Imb_PR = [1150,  # x min\n",
    "               1350, # x max\n",
    "               700,  # y min\n",
    "               900] # y max\n",
    "\n",
    "# display image:\n",
    "frame_type_Box_Exp_Imb_PR = 'FakeOD'\n",
    "current_file_fullpath_Box_Exp_Imb_PR = data_frame_Box_Exp_Imb_PR['fullpaths'][0]\n",
    "fig, ax = display_image(current_file_fullpath_Box_Exp_Imb_PR, \n",
    "                        ROI_Box_Exp_Imb_PR, \n",
    "                        norm_box_Box_Exp_Imb_PR, \n",
    "                        frame_type_Box_Exp_Imb_PR)\n",
    "\n",
    "# add od_roi and od_norm_box to dataframe:\n",
    "data_frame_Box_Exp_Imb_PR = add_backgroud_subtracted_ROI_to_dataframe(data_frame_Box_Exp_Imb_PR, \n",
    "                                                          ROI_Box_Exp_Imb_PR, \n",
    "                                                          norm_box_Box_Exp_Imb_PR)\n",
    "\n",
    "#################################################\n",
    "print('Displaying image: ')\n",
    "print(current_file_fullpath_Box_Exp_Imb_PR)\n",
    "print('')\n",
    "print('Frame type: ' + frame_type_Box_Exp_Imb_PR)"
   ]
  },
  {
   "cell_type": "markdown",
   "id": "586d3cc4",
   "metadata": {
    "heading_collapsed": true,
    "hidden": true
   },
   "source": [
    "## <font color=#399FD5>Get column densities and counts</font>"
   ]
  },
  {
   "cell_type": "code",
   "execution_count": 89,
   "id": "406682d1",
   "metadata": {
    "hidden": true
   },
   "outputs": [
    {
     "name": "stderr",
     "output_type": "stream",
     "text": [
      "Progress: 100%|█████████████████████████████████| 37/37 [00:44<00:00,  1.21s/it]\n"
     ]
    },
    {
     "data": {
      "image/png": "[encoded data removed]",
      "text/plain": [
       "<Figure size 640x480 with 1 Axes>"
      ]
     },
     "metadata": {},
     "output_type": "display_data"
    }
   ],
   "source": [
    "# get column densities\n",
    "data_frame_Box_Exp_Imb_PR = add_polrot_column_densities_to_dataframe(data_frame_Box_Exp_Imb_PR, \n",
    "                                                                     experiment_parameters_dict_Box_Exp_Imb_PR, \n",
    "                                                                     ROI_Box_Exp_Imb_PR)\n",
    "\n",
    "# get counts\n",
    "um_per_pixel_Box_Exp_Imb_PR = experiment_parameters_dict_Hybrid_Top_PR['Values']['top_um_per_pixel'] # in um\n",
    "data_frame_Box_Exp_Imb_PR = add_counts_from_PR_column_densities_to_dataframe(data_frame_Box_Exp_Imb_PR, \n",
    "                                                                             um_per_pixel_Box_Exp_Imb_PR)\n",
    "\n",
    "# now plot counts versus run_id:\n",
    "run_ids_Box_Exp_Imb_PR = []\n",
    "RF12_Times_Box_Exp_Imb = []\n",
    "counts_A_Box_Exp_Imb_PR = []\n",
    "counts_B_Box_Exp_Imb_PR = []\n",
    "for i in range(0, len(data_frame_Box_Exp_Imb_PR), 2):\n",
    "    run_ids_Box_Exp_Imb_PR.append(data_frame_Box_Exp_Imb_PR['run_id'][i])\n",
    "    RF12_Times_Box_Exp_Imb.append(data_frame_Box_Exp_Imb_PR['RF12_Time'][i])\n",
    "    if data_frame_Box_Exp_Imb_PR['image_type'][i] == 'TopA' and data_frame_Box_Exp_Imb_PR['image_type'][i+1] == 'TopB':\n",
    "        counts_A_Box_Exp_Imb_PR.append(data_frame_Box_Exp_Imb_PR['atom_count'][i])\n",
    "        counts_B_Box_Exp_Imb_PR.append(data_frame_Box_Exp_Imb_PR['atom_count'][i+1])\n",
    "    elif data_frame_Box_Exp_Imb_PR['image_type'][i] == 'TopB' and data_frame_Box_Exp_Imb_PR['image_type'][i+1] == 'TopA':\n",
    "        counts_A_Box_Exp_Imb_PR.append(data_frame_Box_Exp_Imb_PR['atom_count'][i+1])\n",
    "        counts_B_Box_Exp_Imb_PR.append(data_frame_Box_Exp_Imb_PR['atom_count'][i])\n",
    "        \n",
    "fig_Box_Exp_Imb_PR_counts = plt.figure()\n",
    "ax_Box_Exp_Imb_PR_counts = fig_Box_Exp_Imb_PR_counts.add_subplot(111)\n",
    "\n",
    "# plot counts vs Run Id\n",
    "pr1_Box_Exp_Imb = ax_Box_Exp_Imb_PR_counts.scatter(run_ids_Box_Exp_Imb_PR, \n",
    "                                                   counts_A_Box_Exp_Imb_PR, \n",
    "                                                   color = 'red' , \n",
    "                                                   s = 10)\n",
    "pr2_Box_Exp_Imb = ax_Box_Exp_Imb_PR_counts.scatter(run_ids_Box_Exp_Imb_PR, \n",
    "                                                   counts_B_Box_Exp_Imb_PR, \n",
    "                                                   color = 'blue', \n",
    "                                                   s = 10)\n",
    "plt.xlabel('Run Id')\n",
    "ax_Box_Exp_Imb_PR_counts.legend([pr1, pr2],['State 1', 'State 3'])\n",
    "fig_Box_Exp_Imb_PR_counts.autofmt_xdate()\n",
    "plt.title('Counts')\n",
    "plt.show()"
   ]
  },
  {
   "cell_type": "markdown",
   "id": "2b5fd729",
   "metadata": {
    "heading_collapsed": true,
    "hidden": true
   },
   "source": [
    "## <font color=#399FD5>Get imbalance from counts</font>"
   ]
  },
  {
   "cell_type": "code",
   "execution_count": 88,
   "id": "2214a131",
   "metadata": {
    "hidden": true
   },
   "outputs": [
    {
     "data": {
      "image/png": "[encoded data removed]",
      "text/plain": [
       "<Figure size 640x480 with 1 Axes>"
      ]
     },
     "metadata": {},
     "output_type": "display_data"
    }
   ],
   "source": [
    "# calculate imbalance vs Run Id\n",
    "counts_A_Box_Exp_Imb_PR = np.array(counts_A_Box_Exp_Imb_PR)\n",
    "counts_B_Box_Exp_Imb_PR = np.array(counts_B_Box_Exp_Imb_PR)\n",
    "imbalance_PR = (counts_B_Box_Exp_Imb_PR - counts_A_Box_Exp_Imb_PR)/(counts_A_Box_Exp_Imb_PR + counts_B_Box_Exp_Imb_PR)\n",
    "# plot imbalance vs RF12_Time:\n",
    "fig_PR_imbalance_vs_RF12_Time = plt.figure()\n",
    "ax_PR_imbalance_vs_RF12_Time = fig_PR_imbalance_vs_RF12_Time.add_subplot(111)\n",
    "ax_PR_imbalance_vs_RF12_Time.scatter(RF12_Times_Box_Exp_Imb, imbalance_PR, color = 'black', s = 10)\n",
    "fig_PR_imbalance_vs_RF12_Time.autofmt_xdate()\n",
    "plt.title('Imbalance versus RF12_Time')\n",
    "plt.xlabel('RF12_Time (ms)')\n",
    "plt.ylabel('$N_B/(N_A+N_B)$')\n",
    "plt.show()"
   ]
  },
  {
   "cell_type": "markdown",
   "id": "9f69a79d",
   "metadata": {},
   "source": [
    "# Li Hybrid Top: Compressibility (PR Imaging)"
   ]
  },
  {
   "cell_type": "markdown",
   "id": "3b782a65",
   "metadata": {
    "heading_collapsed": true
   },
   "source": [
    "## <font color=#399FD5>Data preview and preparation</font>"
   ]
  },
  {
   "cell_type": "code",
   "execution_count": 105,
   "id": "d552ec6f",
   "metadata": {
    "hidden": true
   },
   "outputs": [
    {
     "name": "stderr",
     "output_type": "stream",
     "text": [
      "2023-02-26 20:26:37.674 python[44289:17257022] +[CATransaction synchronize] called within transaction\n",
      "2023-02-26 20:26:37.685 python[44289:17257022] +[CATransaction synchronize] called within transaction\n",
      "2023-02-26 20:26:39.053 python[44289:17257022] +[CATransaction synchronize] called within transaction\n",
      "100%|███████████████████████████████████████| 32/32 [00:00<00:00, 116812.64it/s]\n"
     ]
    },
    {
     "name": "stdout",
     "output_type": "stream",
     "text": [
      "Current folder: /Users/huanbui/Desktop/sample_data/box_exp_energy_shots\n",
      "Metadata loaded\n",
      "Experiment parameters loaded\n",
      "Data frame initialized!\n"
     ]
    },
    {
     "data": {
      "image/png": "[encoded data removed]",
      "text/plain": [
       "<Figure size 640x480 with 1 Axes>"
      ]
     },
     "metadata": {},
     "output_type": "display_data"
    },
    {
     "name": "stderr",
     "output_type": "stream",
     "text": [
      "100%|███████████████████████████████████████████| 32/32 [00:03<00:00,  8.42it/s]"
     ]
    },
    {
     "name": "stdout",
     "output_type": "stream",
     "text": [
      "Displaying image: \n",
      "/Users/huanbui/Desktop/sample_data/box_exp_energy_shots/1257326_2023-02-23--14-04-16_TopA.fits\n",
      "\n",
      "Frame type: FakeOD\n"
     ]
    },
    {
     "name": "stderr",
     "output_type": "stream",
     "text": [
      "\n"
     ]
    }
   ],
   "source": [
    "# initializes data frame and load metadata & exp params:\n",
    "data_frame_Hybrid_Top_PR, metadata_dict_Hybrid_Top_PR, experiment_parameters_dict_Hybrid_Top_PR = init_dataframe_metadata_and_exp_params(['RF12_Time'])\n",
    "\n",
    "# ROI Box\n",
    "ROI_Hybrid_Top_PR = [1150,  # x min\n",
    "          1350, # x max\n",
    "          1000, # y min\n",
    "          1700] # y max\n",
    "\n",
    "# Norm box\n",
    "norm_box_Hybrid_Top_PR = [1150,  # x min\n",
    "               1350, # x max\n",
    "               700,  # y min\n",
    "               900] # y max\n",
    "\n",
    "# rotation center [y,x]:\n",
    "hybrid_top_rotation_center = [(ROI_Hybrid_Top_PR[2] + ROI_Hybrid_Top_PR[3])//2, \n",
    "                              (ROI_Hybrid_Top_PR[0] + ROI_Hybrid_Top_PR[1])//2]\n",
    "\n",
    "# display image:\n",
    "frame_type_Hybrid_Top_PR = 'FakeOD'\n",
    "current_file_fullpath_Hybrid_Top_PR = data_frame_Hybrid_Top_PR['fullpaths'][0]\n",
    "fig, ax = display_image(current_file_fullpath_Hybrid_Top_PR, \n",
    "                        ROI_Hybrid_Top_PR, \n",
    "                        norm_box_Hybrid_Top_PR, \n",
    "                        frame_type_Hybrid_Top_PR)\n",
    "\n",
    "# add od_roi and od_norm_box to dataframe:\n",
    "data_frame_Hybrid_Top_PR = add_backgroud_subtracted_ROI_to_dataframe(data_frame_Hybrid_Top_PR, \n",
    "                                                          ROI_Hybrid_Top_PR, \n",
    "                                                          norm_box_Hybrid_Top_PR)\n",
    "\n",
    "#################################################\n",
    "print('Displaying image: ')\n",
    "print(current_file_fullpath_Hybrid_Top_PR)\n",
    "print('')\n",
    "print('Frame type: ' + frame_type_Hybrid_Top_PR)"
   ]
  },
  {
   "cell_type": "markdown",
   "id": "1887faed",
   "metadata": {
    "heading_collapsed": true
   },
   "source": [
    "## <font color=#399FD5>Get column densities and counts</font>"
   ]
  },
  {
   "cell_type": "code",
   "execution_count": 106,
   "id": "8197accc",
   "metadata": {
    "hidden": true
   },
   "outputs": [
    {
     "name": "stderr",
     "output_type": "stream",
     "text": [
      "Progress:   0%|                                          | 0/16 [00:00<?, ?it/s]/Users/huanbui/anaconda3/lib/python3.9/site-packages/scipy/optimize/_minpack_py.py:175: RuntimeWarning: The iteration is not making good progress, as measured by the \n",
      "  improvement from the last ten iterations.\n",
      "  warnings.warn(msg, RuntimeWarning)\n",
      "Progress: 100%|█████████████████████████████████| 16/16 [00:24<00:00,  1.53s/it]\n"
     ]
    },
    {
     "data": {
      "image/png": "[encoded data removed]",
      "text/plain": [
       "<Figure size 640x480 with 1 Axes>"
      ]
     },
     "metadata": {},
     "output_type": "display_data"
    }
   ],
   "source": [
    "# get column densities\n",
    "data_frame_Hybrid_Top_PR = add_polrot_column_densities_to_dataframe(data_frame_Hybrid_Top_PR, \n",
    "                                                                     experiment_parameters_dict_Hybrid_Top_PR, \n",
    "                                                                     ROI_Hybrid_Top_PR)\n",
    "\n",
    "# get counts\n",
    "um_per_pixel_Hybrid_Top_PR = experiment_parameters_dict_Hybrid_Top_PR['Values']['top_um_per_pixel'] # in um\n",
    "data_frame_Hybrid_Top_PR = add_counts_from_PR_column_densities_to_dataframe(data_frame_Hybrid_Top_PR, \n",
    "                                                                             um_per_pixel_Hybrid_Top_PR)\n",
    "\n",
    "# now plot counts versus run_id:\n",
    "run_ids_Hybrid_Top_PR = []\n",
    "RF12_Times_Hybrid_Top = []\n",
    "counts_A_Hybrid_Top_PR = []\n",
    "counts_B_Hybrid_Top_PR = []\n",
    "for i in range(0, len(data_frame_Hybrid_Top_PR), 2):\n",
    "    run_ids_Hybrid_Top_PR.append(data_frame_Hybrid_Top_PR['run_id'][i])\n",
    "    RF12_Times_Hybrid_Top.append(data_frame_Hybrid_Top_PR['RF12_Time'][i])\n",
    "    if data_frame_Hybrid_Top_PR['image_type'][i] == 'TopA' and data_frame_Hybrid_Top_PR['image_type'][i+1] == 'TopB':\n",
    "        counts_A_Hybrid_Top_PR.append(data_frame_Hybrid_Top_PR['atom_count'][i])\n",
    "        counts_B_Hybrid_Top_PR.append(data_frame_Hybrid_Top_PR['atom_count'][i+1])\n",
    "    elif data_frame_Hybrid_Top_PR['image_type'][i] == 'TopB' and data_frame_Hybrid_Top_PR['image_type'][i+1] == 'TopA':\n",
    "        counts_A_Hybrid_Top_PR.append(data_frame_Hybrid_Top_PR['atom_count'][i+1])\n",
    "        counts_B_Hybrid_Top_PR.append(data_frame_Hybrid_Top_PR['atom_count'][i])\n",
    "        \n",
    "fig_Hybrid_Top_PR_counts = plt.figure()\n",
    "ax_Hybrid_Top_PR_counts = fig_Hybrid_Top_PR_counts.add_subplot(111)\n",
    "\n",
    "# plot counts vs Run Id\n",
    "pr1_Hybrid_Top = ax_Hybrid_Top_PR_counts.scatter(run_ids_Hybrid_Top_PR, \n",
    "                                                   counts_A_Hybrid_Top_PR, \n",
    "                                                   color = 'red' , \n",
    "                                                   s = 10)\n",
    "pr2_Hybrid_Top = ax_Hybrid_Top_PR_counts.scatter(run_ids_Hybrid_Top_PR, \n",
    "                                                   counts_B_Hybrid_Top_PR, \n",
    "                                                   color = 'blue', \n",
    "                                                   s = 10)\n",
    "plt.xlabel('Run Id')\n",
    "ax_Hybrid_Top_PR_counts.legend([pr1, pr2],['State 1', 'State 3'])\n",
    "fig_Hybrid_Top_PR_counts.autofmt_xdate()\n",
    "plt.title('Counts')\n",
    "plt.show()"
   ]
  },
  {
   "cell_type": "markdown",
   "id": "5b965bfa",
   "metadata": {
    "heading_collapsed": true
   },
   "source": [
    "## <font color=#399FD5>Get imbalance from counts</font>"
   ]
  },
  {
   "cell_type": "code",
   "execution_count": 107,
   "id": "3b44bdef",
   "metadata": {
    "hidden": true
   },
   "outputs": [
    {
     "data": {
      "image/png": "[encoded data removed]",
      "text/plain": [
       "<Figure size 640x480 with 1 Axes>"
      ]
     },
     "metadata": {},
     "output_type": "display_data"
    }
   ],
   "source": [
    "# calculate imbalance vs Run Id\n",
    "counts_A_Hybrid_Top_PR = np.array(counts_A_Hybrid_Top_PR)\n",
    "counts_B_Hybrid_Top_PR = np.array(counts_B_Hybrid_Top_PR)\n",
    "imbalance_Hybrid_Top_PR = (counts_B_Hybrid_Top_PR - counts_A_Hybrid_Top_PR)/(counts_A_Hybrid_Top_PR + counts_B_Hybrid_Top_PR)\n",
    "# plot imbalance vs RF12_Time:\n",
    "fig_Hybrid_Top_PR_imbalance_vs_RF12_Time = plt.figure()\n",
    "ax_Hybrid_Top_PR_imbalance_vs_RF12_Time = fig_Hybrid_Top_PR_imbalance_vs_RF12_Time.add_subplot(111)\n",
    "ax_Hybrid_Top_PR_imbalance_vs_RF12_Time.scatter(RF12_Times_Hybrid_Top, imbalance_Hybrid_Top_PR, color = 'black', s = 10)\n",
    "fig_Hybrid_Top_PR_imbalance_vs_RF12_Time.autofmt_xdate()\n",
    "plt.title('Imbalance versus RF12_Time')\n",
    "plt.xlabel('RF12_Time (ms)')\n",
    "plt.ylabel('$N_B/(N_A+N_B)$')\n",
    "plt.show()"
   ]
  },
  {
   "cell_type": "markdown",
   "id": "ad307961",
   "metadata": {
    "heading_collapsed": true
   },
   "source": [
    "## <font color=#399FD5>Pick center and justify images by tilt angle</font>"
   ]
  },
  {
   "cell_type": "code",
   "execution_count": 116,
   "id": "f0b21775",
   "metadata": {
    "hidden": true
   },
   "outputs": [
    {
     "name": "stdout",
     "output_type": "stream",
     "text": [
      "No tilt needed\n"
     ]
    }
   ],
   "source": [
    "# rotation center [y,x] is given by the variable: hybrid_top_rotation_center\n",
    "hybrid_top_tilt_angle = experiment_parameters_dict_Hybrid_Top_PR[\"Values\"][\"axicon_tilt_deg\"]\n",
    "\n",
    "if hybrid_top_tilt_angle != 0:\n",
    "    print('Have to tilt!')\n",
    "    data_frame_Hybrid_Top_PR.rename(columns={\"column_density\" : \"justified_column_density\"}, inplace=True)\n",
    "else:\n",
    "    print('No tilt needed')\n",
    "    data_frame_Hybrid_Top_PR.rename(columns={\"column_density\" : \"justified_column_density\"}, inplace=True)\n",
    "# the column densities will be udpated by the justified column densities"
   ]
  },
  {
   "cell_type": "markdown",
   "id": "20cb9179",
   "metadata": {},
   "source": [
    "## <font color=#399FD5>Get densities along harmonic trap axis $n_{\\text{3D}}(z)$</font>"
   ]
  },
  {
   "cell_type": "code",
   "execution_count": 120,
   "id": "c893a358",
   "metadata": {},
   "outputs": [],
   "source": [
    "# box dimensions:\n",
    "axicon_diameter_pix_Hybrid_Top_PR = experiment_parameters_dict_Hybrid_Top_PR[\"Values\"][\"axicon_diameter_pix\"]\n",
    "axicon_length_pix_Hybrid_Top_PR = experiment_parameters_dict_Hybrid_Top_PR[\"Values\"][\"hybrid_trap_typical_length_pix\"]\n",
    "um_per_pixel_Hybrid_Top_PR = experiment_parameters_dict_Hybrid_Top_PR[\"Values\"][\"top_um_per_pixel\"]\n",
    "\n",
    "# do stuff here"
   ]
  },
  {
   "cell_type": "markdown",
   "id": "b954c8fd",
   "metadata": {
    "heading_collapsed": true
   },
   "source": [
    "# RF Spectroscopy from Absorption Imaging"
   ]
  },
  {
   "cell_type": "markdown",
   "id": "f5f6acb2",
   "metadata": {
    "heading_collapsed": true,
    "hidden": true
   },
   "source": [
    "## <font color=#399FD5>Data preview and preparation</font>"
   ]
  },
  {
   "cell_type": "code",
   "execution_count": null,
   "id": "4b74bde2",
   "metadata": {
    "hidden": true
   },
   "outputs": [],
   "source": [
    "# initializes data frame and load metadata & exp params:\n",
    "data_frame_RF_spec, metadata_dict_RF_spec, experiment_parameters_dict_RF_spec = init_dataframe_metadata_and_exp_params(['RF12_Box_Center', 'SpectPulseTime'])\n",
    "\n",
    "# ROI Box and norm_box for RF spec\n",
    "ROI_Li_RF_spec = [750,  # x min\n",
    "                  1150, # x max \n",
    "                  900,  # y min \n",
    "                  1800] # y max\n",
    "\n",
    "norm_box_Li_RF_spec = [1200, # x min\n",
    "                       1300, # x max\n",
    "                       1000, # y min\n",
    "                       1500] # y max\n",
    "\n",
    "# display some Li RF spec image:\n",
    "frame_type_Li_RF_spec = 'FakeOD'\n",
    "current_file_fullpath_Li_RF_spec = data_frame_RF_spec['fullpaths'][0]\n",
    "fig_RF_spec, ax_RF_spec = display_image(current_file_fullpath_Li_RF_spec, ROI_Li_RF_spec, norm_box_Li_RF_spec, frame_type_Li_RF_spec)\n",
    "\n",
    "#################################################\n",
    "print('Displaying image: ')\n",
    "print(current_file_fullpath_Li_RF_spec)\n",
    "print('')\n",
    "print('Frame type: ' + frame_type_Li_RF_spec)"
   ]
  },
  {
   "cell_type": "markdown",
   "id": "b99412b7",
   "metadata": {
    "heading_collapsed": true,
    "hidden": true
   },
   "source": [
    "## <font color=#399FD5>Li RF transfer from pixel sum</font>"
   ]
  },
  {
   "cell_type": "code",
   "execution_count": null,
   "id": "7ed2cf3e",
   "metadata": {
    "hidden": true,
    "scrolled": false
   },
   "outputs": [],
   "source": [
    "# compute, for each shot, a pixel sum\n",
    "data_frame_RF_spec = add_pixel_sums_to_data_frame(data_frame_RF_spec, \n",
    "                                                  ROI_Li_RF_spec, \n",
    "                                                  norm_box_Li_RF_spec,\n",
    "                                                  column_name = 'pixel_sum')\n",
    "\n",
    "# get pixel sums and RF freqs from dataframe:\n",
    "pixel_sums_A_RF = np.array([])\n",
    "pixel_sums_B_RF = np.array([])\n",
    "RF_freqs_A = np.array([])\n",
    "RF_freqs_B = np.array([])\n",
    "\n",
    "for index, row in data_frame_RF_spec.iterrows():\n",
    "    if row['image_type'] == 'TopA':\n",
    "        pixel_sums_A_RF = np.append(pixel_sums_A_RF, row['pixel_sum'])\n",
    "        RF_freqs_A = np.append(RF_freqs_A, row['RF12_Box_Center'])\n",
    "    elif row['image_type'] == 'TopB':\n",
    "        pixel_sums_B_RF = np.append(pixel_sums_B_RF, row['pixel_sum'])\n",
    "        RF_freqs_B = np.append(RF_freqs_B, row['RF12_Box_Center'])\n",
    "        \n",
    "# compute RF_transfer:\n",
    "RF_transfer_pixel_sum = pixel_sums_B_RF/(pixel_sums_A_RF + pixel_sums_B_RF)\n",
    "\n",
    "# plot pixel sums versus FreqsA\n",
    "plt.scatter(RF_freqs_A, pixel_sums_A_RF, color='black', s=10)\n",
    "plt.xlabel('RF12_Box_Center')\n",
    "plt.ylabel('Pixel sum Top A')\n",
    "plt.title('Top A vs RF12_Box_Center')\n",
    "plt.show()\n",
    "\n",
    "# plot pixel sums versus FreqsA\n",
    "plt.scatter(RF_freqs_B, pixel_sums_B_RF, color='black', s=10)\n",
    "plt.xlabel('RF12_Box_Center')\n",
    "plt.ylabel('Pixel sum Top B')\n",
    "plt.title('Top B vs RF12_Box_Center')\n",
    "plt.show()\n",
    "\n",
    "# call data filter here:\n",
    "# in principle I could call data filter here\n",
    "# but the point here is to show there is at least a bad shot!\n",
    "\n",
    "# plot transfer, using pixel sums:\n",
    "plt.scatter(RF_freqs_A, RF_transfer_pixel_sum, color='black',s=10)\n",
    "plt.xlabel('RF12_Box_Center')\n",
    "plt.ylabel('Transfer B/(A+B)')\n",
    "plt.title('RF Transfer vs RF12_Box_Center')\n",
    "plt.show()\n"
   ]
  },
  {
   "cell_type": "markdown",
   "id": "dd39f963",
   "metadata": {
    "heading_collapsed": true,
    "hidden": true
   },
   "source": [
    "## <font color=#399FD5>Li RF transfer from atom count</font>"
   ]
  },
  {
   "cell_type": "markdown",
   "id": "8bc9a052",
   "metadata": {
    "heading_collapsed": true,
    "hidden": true
   },
   "source": [
    "### <font color=#6C828D>Get densities and atom counts</font>"
   ]
  },
  {
   "cell_type": "code",
   "execution_count": null,
   "id": "1970a864",
   "metadata": {
    "hidden": true,
    "scrolled": false
   },
   "outputs": [],
   "source": [
    "# get imaging parameters here:\n",
    "AOM_factor_RF_spec = experiment_parameters_dict_RF_spec[\"Values\"]['li_hf_freq_multiplier']\n",
    "omega0_RF_spec_A = experiment_parameters_dict_RF_spec[\"Values\"]['state_1_unitarity_res_freq_MHz']\n",
    "omega0_RF_spec_B = experiment_parameters_dict_RF_spec[\"Values\"]['state_2_unitarity_res_freq_MHz']\n",
    "saturation_parameter_RF_spec_A = 0 # unknown, so assume 0\n",
    "saturation_parameter_RF_spec_B = 0 # unknown, so assume 0\n",
    "um_per_pixel_RF_spec = experiment_parameters_dict_RF_spec['Values']['top_um_per_pixel'] # in um\n",
    "\n",
    "# get densities:\n",
    "data_frame_RF_spec = add_atom_densities_abs_to_data_frame_TopAB(data_frame_RF_spec, \n",
    "                                                          ROI_Li_RF_spec, \n",
    "                                                          norm_box_Li_RF_spec, \n",
    "                                                          sigma0 = Li6D2sigma0,\n",
    "                                                          Gamma = Li6D2Gamma, \n",
    "                                                          s_A = saturation_parameter_RF_spec_A, \n",
    "                                                          s_B = saturation_parameter_RF_spec_B,\n",
    "                                                          omega0_A = omega0_RF_spec_A,\n",
    "                                                          omega0_B = omega0_RF_spec_B,\n",
    "                                                          AOM_factor = AOM_factor_RF_spec)\n",
    "# now get counts from densities:\n",
    "data_frame_RF_spec = add_atom_counts_from_densities_to_data_frame(data_frame_RF_spec, \n",
    "                                                                  ROI_Li_RF_spec, \n",
    "                                                                  norm_box_Li_RF_spec, \n",
    "                                                                  um_per_pixel_RF_spec)"
   ]
  },
  {
   "cell_type": "markdown",
   "id": "9da4fb4d",
   "metadata": {
    "heading_collapsed": true,
    "hidden": true
   },
   "source": [
    "### <font color=#6C828D>Calculate RF transfers and filter data</font>"
   ]
  },
  {
   "cell_type": "code",
   "execution_count": null,
   "id": "bc79f3fb",
   "metadata": {
    "hidden": true
   },
   "outputs": [],
   "source": [
    "# get RF_transfers from counts:\n",
    "atom_counts_RF_spec_A = np.array([])\n",
    "atom_counts_RF_spec_B = np.array([])\n",
    "\n",
    "for index, row in data_frame_RF_spec.iterrows():\n",
    "    if row['image_type'] == 'TopA':\n",
    "        atom_counts_RF_spec_A = np.append(atom_counts_RF_spec_A, row['atom_count'])\n",
    "    elif row['image_type'] == 'TopB':\n",
    "        atom_counts_RF_spec_B = np.append(atom_counts_RF_spec_B, row['atom_count'])\n",
    "\n",
    "# compute RF_transfer:\n",
    "RF_transfer_counts_B = atom_counts_RF_spec_B/(atom_counts_RF_spec_A + atom_counts_RF_spec_B)\n",
    "\n",
    "# interweave the two lists like BB,BB,BB\n",
    "RF_transfer_counts_BB = [None]*(RF_transfer_counts_B.size + RF_transfer_counts_B.size)\n",
    "RF_transfer_counts_BB[::2] = RF_transfer_counts_B\n",
    "RF_transfer_counts_BB[1::2] = RF_transfer_counts_B\n",
    "\n",
    "# add RF transfers to data frame:\n",
    "data_frame_RF_spec['RF_transfers_counts'] = RF_transfer_counts_BB\n",
    "\n",
    "# call data filter here:\n",
    "data_frame_RF_spec = data_filter(data_frame_RF_spec, 'RF_transfers_counts', 2)\n",
    "\n",
    "# get good shot data:\n",
    "RF_transfers_counts_good_shots = np.array([])\n",
    "RF_freqs_good_shots = np.array([])\n",
    "SpectPulseTimes_good_shot = np.array([])\n",
    "for index, row in data_frame_RF_spec.iterrows():\n",
    "    if row['image_type'] == 'TopB' and row['good_shot']:\n",
    "        RF_transfers_counts_good_shots = np.append(RF_transfers_counts_good_shots, row['RF_transfers_counts'])\n",
    "        RF_freqs_good_shots = np.append(RF_freqs_good_shots, row['RF12_Box_Center'])\n",
    "        SpectPulseTimes_good_shot = np.append(SpectPulseTimes_good_shot, row['SpectPulseTime'])\n",
    "\n",
    "# plot RF transfer from atom counts:\n",
    "plt.scatter(RF_freqs_good_shots, RF_transfers_counts_good_shots, color = 'black', s=10)\n",
    "#plt.ylim([0, 1.1 * max(RF_transfer_counts)])\n",
    "plt.title('RF transfer vs RF frequency')\n",
    "plt.xlabel('RF frequency (MHz)')\n",
    "plt.ylabel('Transfer B/(B+A)')\n",
    "plt.show()"
   ]
  },
  {
   "cell_type": "markdown",
   "id": "102756a3",
   "metadata": {
    "heading_collapsed": true,
    "hidden": true
   },
   "source": [
    "## <font color=#399FD5>Li RF resonance curve fitting</font>"
   ]
  },
  {
   "cell_type": "markdown",
   "id": "1ddc15ed",
   "metadata": {
    "hidden": true
   },
   "source": [
    "Some theory for this: The exact solution to the Rabi problem (without assuming spontaneous decay) is given by \n",
    "\n",
    "$P_2(\\tau) = \\frac{\\omega_R^2}{\\omega_R^2 + \\delta^2} \\sin^2\\left( \\tau  \\frac{\\sqrt{\\delta^2 + \\omega_R^2} }{2} \\right), $ \n",
    "\n",
    "\n",
    "where we have assumed that initially $P_1 = 1$. Here $\\tau$ is the width of the RF pulse, $\\Omega_R$ is the bare Rabi frequency, and $\\delta$ is the detuning. The setting in our case is that we know $\\tau$ and $\\delta$. So, the fit will tell us $\\Omega_R$. \n",
    "\n",
    "For now, we will attempt to fit using the RF transfer computed using pixel summing. The method should work for atom counts once it is better-calibrated (i.e. once background \"normalization\" has been taken into account).\n"
   ]
  },
  {
   "cell_type": "code",
   "execution_count": null,
   "id": "2ebd76b5",
   "metadata": {
    "hidden": true,
    "scrolled": false
   },
   "outputs": [],
   "source": [
    "# now fit\n",
    "fit_result_RF_spec = Li_P2_Rabi_RF_curve_fit((RF_freqs_good_shots, SpectPulseTimes_good_shot), \n",
    "                                             RF_transfers_counts_good_shots, \n",
    "                                             #omega0_guess =  np.average(RF_freqs_good_shots), # temp solution\n",
    "                                             #omegaR_guess = 0.0005, # MHz \n",
    "                                             smart_guesses = True,\n",
    "                                             peaks_ratio_threshold = 0.8,\n",
    "                                             plot_xlabel = 'RF frequency (MHz)',\n",
    "                                             plot_title = 'RF Resonance Curve')"
   ]
  },
  {
   "cell_type": "code",
   "execution_count": null,
   "id": "c9ad0498",
   "metadata": {
    "hidden": true
   },
   "outputs": [],
   "source": []
  }
 ],
 "metadata": {
  "kernelspec": {
   "display_name": "Python 3 (ipykernel)",
   "language": "python",
   "name": "python3"
  },
  "language_info": {
   "codemirror_mode": {
    "name": "ipython",
    "version": 3
   },
   "file_extension": ".py",
   "mimetype": "text/x-python",
   "name": "python",
   "nbconvert_exporter": "python",
   "pygments_lexer": "ipython3",
   "version": "3.9.13"
  }
 },
 "nbformat": 4,
 "nbformat_minor": 5
}
