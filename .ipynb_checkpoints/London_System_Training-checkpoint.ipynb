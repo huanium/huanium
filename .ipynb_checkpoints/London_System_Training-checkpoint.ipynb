{
 "cells": [
  {
   "cell_type": "code",
   "execution_count": null,
   "id": "715732e9",
   "metadata": {},
   "outputs": [
    {
     "name": "stdout",
     "output_type": "stream",
     "text": [
      "First move: 1. d4\n",
      "Opponent's move:\n",
      "d5\n",
      "My response: 2. Bf4\n",
      "Opponent's move:\n"
     ]
    }
   ],
   "source": [
    "## elementary code for training to play the London System as White\n",
    "## the goal is to probably get to 20 moves of prep\n",
    "## at my level this should be enough to get an advantageous position\n",
    "\n",
    "## moves are based on Eric Rosen's suggestions\n",
    "## as well as Stockfish analysis\n",
    "## and my own games\n",
    "\n",
    "\n",
    "\n",
    "\n",
    "## Of course first move is 1.d4!\n",
    "print(\"First move: 1. d4\")\n",
    "print(\"Opponent:\")\n",
    "opp_move = input()\n",
    "game = True\n",
    "\n",
    "while game:\n",
    "    # first major branch\n",
    "    if opp_move == \"d5\":\n",
    "        print(\"Me: 2. Bf4\")\n",
    "        print(\"Opponent:\")\n",
    "        opp_move = input()\n",
    "        \n",
    "        if opp_move == \"Nf6\":\n",
    "            print(\"Me: 3. e3\")\n",
    "            print(\"Opponent:\")\n",
    "            opp_move = input()\n",
    "                \n",
    "            if opp_move == \"c5\":\n",
    "                print(\"Me: 4. Ng3\")\n",
    "                print(\"Opponent:\")\n",
    "                opp_move = input()\n",
    "                \n",
    "                if opp_move == \"e6\":\n",
    "                    print(\"Me: 5. Nd2\")\n",
    "                    print(\"Opponent:\")\n",
    "                    opp_move = input()\n",
    "                    \n",
    "                    break\n",
    "    \n",
    "    #second major branch\n",
    "    if opp_move == \"Nf6\":\n",
    "        print(\"Me: 2. Bf4\")\n",
    "        print(\"Opponent:\")\n",
    "        opp_move = input()\n",
    "        if opp_move == \"d5\":\n",
    "            print(\"Me: 2. Bf4\")\n",
    "            break\n",
    "            \n",
    "    # if out of prep:\n",
    "    else:\n",
    "        print(\"Move not found\")\n",
    "        game = False\n",
    "        \n",
    "        print(\"Retry? (Y/N)?\")\n",
    "        restart = input()\n",
    "        if restart==\"N\":\n",
    "            game=True\n",
    "        else:\n",
    "            print(\"OK. Retry...\")\n",
    "            \n",
    "    \n",
    "    "
   ]
  },
  {
   "cell_type": "code",
   "execution_count": null,
   "id": "8afc5234",
   "metadata": {},
   "outputs": [],
   "source": []
  },
  {
   "cell_type": "code",
   "execution_count": null,
   "id": "d85bc72e",
   "metadata": {},
   "outputs": [],
   "source": []
  },
  {
   "cell_type": "code",
   "execution_count": null,
   "id": "3d464044",
   "metadata": {},
   "outputs": [],
   "source": []
  }
 ],
 "metadata": {
  "kernelspec": {
   "display_name": "Python 3 (ipykernel)",
   "language": "python",
   "name": "python3"
  },
  "language_info": {
   "codemirror_mode": {
    "name": "ipython",
    "version": 3
   },
   "file_extension": ".py",
   "mimetype": "text/x-python",
   "name": "python",
   "nbconvert_exporter": "python",
   "pygments_lexer": "ipython3",
   "version": "3.8.10"
  }
 },
 "nbformat": 4,
 "nbformat_minor": 5
}
