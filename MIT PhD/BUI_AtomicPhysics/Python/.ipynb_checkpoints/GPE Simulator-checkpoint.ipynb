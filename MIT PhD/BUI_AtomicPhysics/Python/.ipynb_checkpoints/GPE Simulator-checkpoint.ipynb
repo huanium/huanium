{
 "cells": [
  {
   "cell_type": "markdown",
   "metadata": {
    "Collapsed": "false"
   },
   "source": [
    "# Notes"
   ]
  },
  {
   "cell_type": "markdown",
   "metadata": {
    "Collapsed": "false"
   },
   "source": [
    "Solving the GP equation\n",
    "$$ i \\hbar \\frac{\\partial}{\\partial t} \\Psi = \\left[ - \\frac{\\hbar^2 \\nabla^2}{2 m} + V_{ext} + g \\left| \\Psi \n",
    "\\right|^2 \\right] \\Psi $$"
   ]
  },
  {
   "cell_type": "markdown",
   "metadata": {
    "Collapsed": "false"
   },
   "source": [
    "Split time method to calculate the $\\psi(t+\\Delta t)$ from $\\psi(t)$. \n",
    "\n",
    "This consists of three steps: (1) half-time evolution in real space (2) full-time evolution in momentum space (3) another half-time evolution in real space. \n",
    "\n",
    "- Start with $\\psi_{i}$\n",
    "- Step1: $\\psi_1 = \\exp \\left[-\\frac{i}{\\hbar} \\frac{\\Delta t}{2} \\left( V_{ext} + g |\\psi_{i}|^2 \\right) \\right] \\psi_{i}$\n",
    "- Step2: $\\psi_2 = IFT\\left[ \\exp\\left( - \\frac{i}{\\hbar} \\Delta t \\frac{\\hbar^2 k^2}{2 m} \\right)  FT\\left[ \\psi_1 \\right] \\right]$\n",
    "- Step3: $\\psi_3 = \\exp \\left[-\\frac{i}{\\hbar} \\frac{\\Delta t}{2} \\left( V_{ext} + g |\\psi_{2}|^2 \\right) \\right] \\psi_{2}$\n",
    "- Finally renormalize the wavefunction $\\psi_f = \\frac{\\psi_3}{\\sqrt{\\int d^2r |\\psi_3|^2}}$"
   ]
  },
  {
   "cell_type": "markdown",
   "metadata": {
    "Collapsed": "false"
   },
   "source": [
    "# Imports and Functions"
   ]
  },
  {
   "cell_type": "code",
   "execution_count": 156,
   "metadata": {
    "Collapsed": "false",
    "code_folding": [
     0
    ]
   },
   "outputs": [],
   "source": [
    "# Imports \n",
    "import numpy as np\n",
    "import matplotlib.pyplot as plt\n",
    "from tqdm import tqdm_notebook as tqdm\n",
    "%matplotlib inline"
   ]
  },
  {
   "cell_type": "code",
   "execution_count": 157,
   "metadata": {
    "Collapsed": "false",
    "code_folding": [
     0
    ]
   },
   "outputs": [],
   "source": [
    "# Constants \n",
    "pi = np.pi\n",
    "twopi = 2 * pi\n",
    "PlanckConstant = 6.62607004 * 1e-34\n",
    "hbar = PlanckConstant / twopi\n",
    "mass = 86.9092 * 1.66053906660e-27"
   ]
  },
  {
   "cell_type": "code",
   "execution_count": 158,
   "metadata": {
    "Collapsed": "false",
    "code_folding": [
     0
    ]
   },
   "outputs": [],
   "source": [
    "# General functions \n",
    "def probability(wavefunction):\n",
    "    return np.abs(wavefunction)**2\n",
    "\n",
    "def normalize(wavefunction, dV): # Note dV is d^2r in 2D \n",
    "    total_prob = np.sum(probability(wavefunction)) * dV\n",
    "    return wavefunction / np.sqrt( total_prob )\n",
    "\n",
    "def find_nearest(array, value=0):\n",
    "    array = np.asarray(array)\n",
    "    idx = (np.abs(array - value)).argmin()\n",
    "    return array[idx]\n",
    "\n",
    "def find_nearest_index(array, value=0):\n",
    "    array = np.asarray(array)\n",
    "    idx = (np.abs(array - value)).argmin()\n",
    "    return idx"
   ]
  },
  {
   "cell_type": "code",
   "execution_count": 159,
   "metadata": {
    "Collapsed": "false",
    "code_folding": []
   },
   "outputs": [],
   "source": [
    "# GP timestep function \n",
    "def GPE_smalltimestep(psi_i, Dt, V_ext, g_2d, ksquared, dV, imaginary=False):\n",
    "    # If imaginary time evolution is requested\n",
    "    if imaginary == True: Dt = -1j * Dt\n",
    "    # Step1 : Evolve in real space for Dt/2 time\n",
    "    psi_1 = np.exp(-(1j/hbar)*(Dt/2)*(V_ext + (g_2d*np.abs(psi_i)**2))) * psi_i\n",
    "    # Step2 : Evolve in Fourier space for Dt time\n",
    "    psi_2 = np.fft.ifftn(np.exp(-(1j/hbar)*Dt*(hbar**2*ksquared)/(2*mass)) * np.fft.fftn(psi_1))\n",
    "    # Evolve in real space for another Dt/2 time\n",
    "    psi_3 = np.exp(-(1j/hbar)*(Dt/2)*(V_ext + (g_2d*np.abs(psi_2)**2))) * psi_2\n",
    "    # Re-normalize the wavefunction \n",
    "    psi_f = psi_3 / np.sqrt(np.sum(np.abs(psi_3)**2 * dV))\n",
    "    return psi_f"
   ]
  },
  {
   "cell_type": "markdown",
   "metadata": {
    "Collapsed": "false"
   },
   "source": [
    "# Tests in Harmonic Trap without interactions"
   ]
  },
  {
   "cell_type": "code",
   "execution_count": 161,
   "metadata": {
    "Collapsed": "false"
   },
   "outputs": [
    {
     "name": "stdout",
     "output_type": "stream",
     "text": [
      "Harmonic oscillator length for 20.00 Hz trap is 2.41 um\n"
     ]
    }
   ],
   "source": [
    "# Inputs \n",
    "omega = twopi * 20 # Trap frequency \n",
    "num_points = 128\n",
    "x_range = 5\n",
    "g_2d = 0\n",
    "\n",
    "# Derived quantities \n",
    "HOlength = np.sqrt(hbar/(mass*omega))\n",
    "\n",
    "# Setup grid \n",
    "x = np.linspace(-x_range*HOlength, x_range*HOlength, num_points)\n",
    "dx = x[1] - x[0]\n",
    "y = np.linspace(-x_range*HOlength, x_range*HOlength, num_points+1)\n",
    "dy = y[1] - y[0]\n",
    "dV = dx * dy \n",
    "X, Y = np.meshgrid(x, y)\n",
    "Rsquared = X**2 + Y**2\n",
    "\n",
    "# Grid in fourier space \n",
    "kx = twopi * np.fft.fftfreq(len(x), dx)\n",
    "ky = twopi * np.fft.fftfreq(len(y), dy)\n",
    "kX, kY = np.meshgrid(kx, ky)\n",
    "ksquared = kX**2 + kY**2\n",
    "\n",
    "# External Potential \n",
    "V_ext = 1/2 * mass * omega**2 * Rsquared\n",
    "\n",
    "# Other stuff \n",
    "trap_freq = omega / twopi \n",
    "time_scale = 1 / trap_freq\n",
    "wavefunction_scale = 1 / HOlength\n",
    "probability_scale = 1 / HOlength**2\n",
    "position_scale = HOlength\n",
    "\n",
    "# Print some relavant information \n",
    "print(\"Harmonic oscillator length for {:.2f} Hz trap is {:.2f} um\".format(trap_freq, HOlength*1e6))"
   ]
  },
  {
   "cell_type": "code",
   "execution_count": 162,
   "metadata": {
    "Collapsed": "false"
   },
   "outputs": [],
   "source": [
    "# Initial wavefunction \n",
    "# option1 : gaussian\n",
    "sigmax = 1.5 * HOlength\n",
    "sigmay = 0.5 * HOlength\n",
    "psi_initial = np.exp(-X**2/(2*sigmax**2) - Y**2/(2*sigmay**2))\n",
    "psi_initial = normalize(psi_initial, dV) + (1j-1j)"
   ]
  },
  {
   "cell_type": "code",
   "execution_count": 163,
   "metadata": {
    "Collapsed": "false"
   },
   "outputs": [
    {
     "data": {
      "image/png": "[encoded data removed]",
      "text/plain": [
       "<Figure size 432x216 with 2 Axes>"
      ]
     },
     "metadata": {
      "needs_background": "light"
     },
     "output_type": "display_data"
    },
    {
     "data": {
      "image/png": "[encoded data removed]",
      "text/plain": [
       "<Figure size 432x216 with 2 Axes>"
      ]
     },
     "metadata": {
      "needs_background": "light"
     },
     "output_type": "display_data"
    }
   ],
   "source": [
    "# Calculate imaginary time evolution to find the ground state \n",
    "Dt = time_scale / 100\n",
    "t_max = 0.2 * time_scale\n",
    "save_every = 2\n",
    "psi_time_evolution = [psi_initial]\n",
    "time_array = [0]\n",
    "\n",
    "# Time evolution \n",
    "t, i = 0, 0\n",
    "psi_t = psi_initial\n",
    "while t <= t_max:\n",
    "    i, t = i+1, t+Dt\n",
    "    psi_t = GPE_smalltimestep(psi_t, Dt, V_ext, g_2d, ksquared, dV, imaginary=True)\n",
    "    if i%save_every == 0: \n",
    "        psi_time_evolution.append(psi_t)\n",
    "        time_array.append(t)\n",
    "psi_time_evolution.append(psi_t)\n",
    "time_array.append(t)\n",
    "time_array = np.array(time_array)\n",
    "\n",
    "# Plot initial and final wavefunction \n",
    "fig, ax = plt.subplots(ncols=2, figsize=[6,3])\n",
    "ax[0].pcolormesh(X/position_scale, Y/position_scale, probability(psi_time_evolution[0])/probability_scale)\n",
    "ax[0].set(xlabel='x (r_HO)', ylabel='y (r_HO)', title=r'Initial Wavefunction')\n",
    "ax[1].pcolormesh(X/position_scale, Y/position_scale, probability(psi_time_evolution[-1])/probability_scale)\n",
    "ax[1].set(xlabel='x (r_HO)', ylabel='y (r_HO)', title=r'Final Wavefunction')\n",
    "plt.tight_layout()\n",
    "\n",
    "# Plot time evolution by integrating over one of the axis \n",
    "fig, ax = plt.subplots(ncols=2, figsize=[6,3])\n",
    "projection_on_x = np.array([np.mean(np.abs(psi)**2, axis=0) for psi in psi_time_evolution])\n",
    "projection_on_y = np.array([np.mean(np.abs(psi)**2, axis=1) for psi in psi_time_evolution])\n",
    "ax[0].pcolormesh(x/position_scale, time_array/time_scale, projection_on_x)\n",
    "ax[0].set(xlabel='x (r_HO)', ylabel='t (1/f)', title=r'Projection on x')\n",
    "ax[1].pcolormesh(y/position_scale, time_array/time_scale, projection_on_y)\n",
    "ax[1].set(xlabel='y (r_HO)', ylabel='t (1/f)', title=r'Projection on y')\n",
    "plt.tight_layout()"
   ]
  },
  {
   "cell_type": "code",
   "execution_count": 164,
   "metadata": {
    "Collapsed": "false"
   },
   "outputs": [
    {
     "data": {
      "image/png": "[encoded data removed]",
      "text/plain": [
       "<Figure size 432x432 with 2 Axes>"
      ]
     },
     "metadata": {
      "needs_background": "light"
     },
     "output_type": "display_data"
    }
   ],
   "source": [
    "# Calculate time evolution, we should see breathing type oscillations\n",
    "Dt = time_scale / 100\n",
    "t_max = 3 * time_scale\n",
    "save_every = 5\n",
    "psi_time_evolution = [psi_initial]\n",
    "time_array = [0]\n",
    "\n",
    "# Time evolution \n",
    "t, i = 0, 0\n",
    "psi_t = psi_initial\n",
    "while t <= t_max:\n",
    "    i, t = i+1, t+Dt\n",
    "    psi_t = GPE_smalltimestep(psi_t, Dt, V_ext, g_2d, ksquared, dV, imaginary=False)\n",
    "    if i%save_every == 0: \n",
    "        psi_time_evolution.append(psi_t)\n",
    "        time_array.append(t)\n",
    "psi_time_evolution.append(psi_t)\n",
    "time_array.append(t)\n",
    "time_array = np.array(time_array)\n",
    "\n",
    "# Plot time evolution by integrating over one of the axis \n",
    "fig, ax = plt.subplots(ncols=2, figsize=[6,6])\n",
    "projection_on_x = np.array([np.mean(np.abs(psi)**2, axis=0) for psi in psi_time_evolution])\n",
    "projection_on_y = np.array([np.mean(np.abs(psi)**2, axis=1) for psi in psi_time_evolution])\n",
    "ax[0].pcolormesh(x/position_scale, time_array/time_scale, projection_on_x)\n",
    "ax[0].set(xlabel='x (r_HO)', ylabel='t (1/f)', title=r'Projection on x')\n",
    "ax[1].pcolormesh(y/position_scale, time_array/time_scale, projection_on_y)\n",
    "ax[1].set(xlabel='y (r_HO)', ylabel='t (1/f)', title=r'Projection on y')\n",
    "plt.tight_layout()"
   ]
  },
  {
   "cell_type": "markdown",
   "metadata": {
    "Collapsed": "false"
   },
   "source": [
    "# BEC in Harmonic Trap"
   ]
  },
  {
   "cell_type": "code",
   "execution_count": 165,
   "metadata": {
    "Collapsed": "false"
   },
   "outputs": [
    {
     "name": "stdout",
     "output_type": "stream",
     "text": [
      "Harmonic oscillator length for 20.00 Hz trap is 2.41 um\n"
     ]
    }
   ],
   "source": [
    "# Inputs \n",
    "omega = twopi * 20 # Trap frequency \n",
    "num_points = 128\n",
    "x_range = 5\n",
    "g_2d = 0\n",
    "\n",
    "# Derived quantities \n",
    "HOlength = np.sqrt(hbar/(mass*omega))\n",
    "\n",
    "# Setup grid \n",
    "x = np.linspace(-x_range*HOlength, x_range*HOlength, num_points)\n",
    "dx = x[1] - x[0]\n",
    "y = np.linspace(-x_range*HOlength, x_range*HOlength, num_points+1)\n",
    "dy = y[1] - y[0]\n",
    "dV = dx * dy \n",
    "X, Y = np.meshgrid(x, y)\n",
    "Rsquared = X**2 + Y**2\n",
    "\n",
    "# Grid in fourier space \n",
    "kx = twopi * np.fft.fftfreq(len(x), dx)\n",
    "ky = twopi * np.fft.fftfreq(len(y), dy)\n",
    "kX, kY = np.meshgrid(kx, ky)\n",
    "ksquared = kX**2 + kY**2\n",
    "\n",
    "# External Potential \n",
    "V_ext = 1/2 * mass * omega**2 * Rsquared\n",
    "\n",
    "# Other stuff \n",
    "trap_freq = omega / twopi \n",
    "time_scale = 1 / trap_freq\n",
    "wavefunction_scale = 1 / HOlength\n",
    "probability_scale = 1 / HOlength**2\n",
    "position_scale = HOlength\n",
    "\n",
    "# Print some relavant information \n",
    "print(\"Harmonic oscillator length for {:.2f} Hz trap is {:.2f} um\".format(trap_freq, HOlength*1e6))"
   ]
  },
  {
   "cell_type": "code",
   "execution_count": 9,
   "metadata": {
    "Collapsed": "false"
   },
   "outputs": [],
   "source": [
    "import h5py\n",
    "\n",
    "import numpy as np\n",
    "\n",
    "import matplotlib.pyplot as plt\n",
    "\n",
    "import scipy.optimize\n",
    "\n",
    "from tqdm.notebook import tqdm\n",
    "\n",
    "from IPython.display import display\n",
    "\n",
    "import scipy.integrate\n",
    "\n",
    "import scipy.special\n",
    "\n",
    "import scipy.ndimage\n",
    "\n",
    "import os\n",
    "\n",
    "import time"
   ]
  },
  {
   "cell_type": "code",
   "execution_count": 10,
   "metadata": {
    "Collapsed": "false"
   },
   "outputs": [],
   "source": [
    "x = np.linspace(-15*1e-6, 15*1e-6, 100)"
   ]
  },
  {
   "cell_type": "code",
   "execution_count": 11,
   "metadata": {
    "Collapsed": "false"
   },
   "outputs": [],
   "source": [
    "dx = x[1] - x[0]"
   ]
  },
  {
   "cell_type": "code",
   "execution_count": 13,
   "metadata": {
    "Collapsed": "false"
   },
   "outputs": [],
   "source": [
    "kx = np.fft.fftfreq(len(x), dx)"
   ]
  },
  {
   "cell_type": "code",
   "execution_count": 14,
   "metadata": {},
   "outputs": [
    {
     "name": "stdout",
     "output_type": "stream",
     "text": [
      "[-1.50000000e-05 -1.46969697e-05 -1.43939394e-05 -1.40909091e-05\n",
      " -1.37878788e-05 -1.34848485e-05 -1.31818182e-05 -1.28787879e-05\n",
      " -1.25757576e-05 -1.22727273e-05 -1.19696970e-05 -1.16666667e-05\n",
      " -1.13636364e-05 -1.10606061e-05 -1.07575758e-05 -1.04545455e-05\n",
      " -1.01515152e-05 -9.84848485e-06 -9.54545455e-06 -9.24242424e-06\n",
      " -8.93939394e-06 -8.63636364e-06 -8.33333333e-06 -8.03030303e-06\n",
      " -7.72727273e-06 -7.42424242e-06 -7.12121212e-06 -6.81818182e-06\n",
      " -6.51515152e-06 -6.21212121e-06 -5.90909091e-06 -5.60606061e-06\n",
      " -5.30303030e-06 -5.00000000e-06 -4.69696970e-06 -4.39393939e-06\n",
      " -4.09090909e-06 -3.78787879e-06 -3.48484848e-06 -3.18181818e-06\n",
      " -2.87878788e-06 -2.57575758e-06 -2.27272727e-06 -1.96969697e-06\n",
      " -1.66666667e-06 -1.36363636e-06 -1.06060606e-06 -7.57575758e-07\n",
      " -4.54545455e-07 -1.51515152e-07  1.51515152e-07  4.54545455e-07\n",
      "  7.57575758e-07  1.06060606e-06  1.36363636e-06  1.66666667e-06\n",
      "  1.96969697e-06  2.27272727e-06  2.57575758e-06  2.87878788e-06\n",
      "  3.18181818e-06  3.48484848e-06  3.78787879e-06  4.09090909e-06\n",
      "  4.39393939e-06  4.69696970e-06  5.00000000e-06  5.30303030e-06\n",
      "  5.60606061e-06  5.90909091e-06  6.21212121e-06  6.51515152e-06\n",
      "  6.81818182e-06  7.12121212e-06  7.42424242e-06  7.72727273e-06\n",
      "  8.03030303e-06  8.33333333e-06  8.63636364e-06  8.93939394e-06\n",
      "  9.24242424e-06  9.54545455e-06  9.84848485e-06  1.01515152e-05\n",
      "  1.04545455e-05  1.07575758e-05  1.10606061e-05  1.13636364e-05\n",
      "  1.16666667e-05  1.19696970e-05  1.22727273e-05  1.25757576e-05\n",
      "  1.28787879e-05  1.31818182e-05  1.34848485e-05  1.37878788e-05\n",
      "  1.40909091e-05  1.43939394e-05  1.46969697e-05  1.50000000e-05]\n"
     ]
    }
   ],
   "source": [
    "print(x)"
   ]
  },
  {
   "cell_type": "code",
   "execution_count": 15,
   "metadata": {},
   "outputs": [
    {
     "name": "stdout",
     "output_type": "stream",
     "text": [
      "[       0.    33000.    66000.    99000.   132000.   165000.   198000.\n",
      "   231000.   264000.   297000.   330000.   363000.   396000.   429000.\n",
      "   462000.   495000.   528000.   561000.   594000.   627000.   660000.\n",
      "   693000.   726000.   759000.   792000.   825000.   858000.   891000.\n",
      "   924000.   957000.   990000.  1023000.  1056000.  1089000.  1122000.\n",
      "  1155000.  1188000.  1221000.  1254000.  1287000.  1320000.  1353000.\n",
      "  1386000.  1419000.  1452000.  1485000.  1518000.  1551000.  1584000.\n",
      "  1617000. -1650000. -1617000. -1584000. -1551000. -1518000. -1485000.\n",
      " -1452000. -1419000. -1386000. -1353000. -1320000. -1287000. -1254000.\n",
      " -1221000. -1188000. -1155000. -1122000. -1089000. -1056000. -1023000.\n",
      "  -990000.  -957000.  -924000.  -891000.  -858000.  -825000.  -792000.\n",
      "  -759000.  -726000.  -693000.  -660000.  -627000.  -594000.  -561000.\n",
      "  -528000.  -495000.  -462000.  -429000.  -396000.  -363000.  -330000.\n",
      "  -297000.  -264000.  -231000.  -198000.  -165000.  -132000.   -99000.\n",
      "   -66000.   -33000.]\n"
     ]
    }
   ],
   "source": [
    "print(kx)"
   ]
  },
  {
   "cell_type": "code",
   "execution_count": null,
   "metadata": {},
   "outputs": [],
   "source": []
  }
 ],
 "metadata": {
  "kernelspec": {
   "display_name": "Python 3",
   "language": "python",
   "name": "python3"
  },
  "language_info": {
   "codemirror_mode": {
    "name": "ipython",
    "version": 3
   },
   "file_extension": ".py",
   "mimetype": "text/x-python",
   "name": "python",
   "nbconvert_exporter": "python",
   "pygments_lexer": "ipython3",
   "version": "3.7.6"
  },
  "toc": {
   "base_numbering": 1,
   "nav_menu": {},
   "number_sections": true,
   "sideBar": true,
   "skip_h1_title": false,
   "title_cell": "Table of Contents",
   "title_sidebar": "Contents",
   "toc_cell": false,
   "toc_position": {},
   "toc_section_display": true,
   "toc_window_display": false
  }
 },
 "nbformat": 4,
 "nbformat_minor": 4
}
